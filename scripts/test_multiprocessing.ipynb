{
 "cells": [
  {
   "cell_type": "code",
   "execution_count": 1,
   "metadata": {},
   "outputs": [],
   "source": [
    "import multiprocess as mp\n",
    "import random \n",
    "import string\n",
    "import os\n",
    "import sys"
   ]
  },
  {
   "cell_type": "code",
   "execution_count": 2,
   "metadata": {},
   "outputs": [],
   "source": [
    "random.seed(123)"
   ]
  },
  {
   "cell_type": "code",
   "execution_count": 3,
   "metadata": {},
   "outputs": [],
   "source": [
    "output = mp.Queue()"
   ]
  },
  {
   "cell_type": "code",
   "execution_count": 4,
   "metadata": {},
   "outputs": [],
   "source": [
    "def rand_string(length, output):\n",
    "    rand_str = ''.join(random.choice(\n",
    "    string.ascii_lowercase\n",
    "    + string.ascii_uppercase \n",
    "    + string.digits)\n",
    "                       for i in range(length))\n",
    "    output.put(rand_str)"
   ]
  },
  {
   "cell_type": "code",
   "execution_count": 5,
   "metadata": {},
   "outputs": [],
   "source": [
    "processes = [mp.Process(target=rand_string, args=(5, output)) for x in range(4)]"
   ]
  },
  {
   "cell_type": "code",
   "execution_count": 6,
   "metadata": {},
   "outputs": [],
   "source": [
    "for p in processes:\n",
    "    p.start()"
   ]
  },
  {
   "cell_type": "code",
   "execution_count": 7,
   "metadata": {},
   "outputs": [],
   "source": [
    "for p in processes:\n",
    "    p.join()"
   ]
  },
  {
   "cell_type": "code",
   "execution_count": 8,
   "metadata": {},
   "outputs": [],
   "source": [
    "results = [output.get() for p in processes]"
   ]
  },
  {
   "cell_type": "code",
   "execution_count": 9,
   "metadata": {},
   "outputs": [
    {
     "name": "stdout",
     "output_type": "stream",
     "text": [
      "['JrEaP', '9qxki', 'y6MUc', 'kEhdq']\n"
     ]
    }
   ],
   "source": [
    "print(results)"
   ]
  },
  {
   "cell_type": "code",
   "execution_count": 10,
   "metadata": {},
   "outputs": [
    {
     "data": {
      "text/plain": [
       "[<Process(Process-1, stopped)>,\n",
       " <Process(Process-2, stopped)>,\n",
       " <Process(Process-3, stopped)>,\n",
       " <Process(Process-4, stopped)>]"
      ]
     },
     "execution_count": 10,
     "metadata": {},
     "output_type": "execute_result"
    }
   ],
   "source": [
    "processes"
   ]
  },
  {
   "cell_type": "code",
   "execution_count": 11,
   "metadata": {},
   "outputs": [],
   "source": [
    "def cube(x):\n",
    "    print(x)\n",
    "    return x**3"
   ]
  },
  {
   "cell_type": "code",
   "execution_count": 12,
   "metadata": {},
   "outputs": [
    {
     "name": "stdout",
     "output_type": "stream",
     "text": [
      "1\n",
      "2\n",
      "3\n",
      "4\n",
      "5\n",
      "6\n"
     ]
    }
   ],
   "source": [
    "pool = mp.Pool(processes=4)"
   ]
  },
  {
   "cell_type": "code",
   "execution_count": 13,
   "metadata": {},
   "outputs": [
    {
     "data": {
      "text/plain": [
       "<multiprocess.pool.Pool at 0x2ad5ef119160>"
      ]
     },
     "execution_count": 13,
     "metadata": {},
     "output_type": "execute_result"
    }
   ],
   "source": [
    "pool"
   ]
  },
  {
   "cell_type": "code",
   "execution_count": 14,
   "metadata": {},
   "outputs": [],
   "source": [
    "results = [pool.apply(cube, args=(x,)) for x in range(1, 7)]"
   ]
  },
  {
   "cell_type": "code",
   "execution_count": 15,
   "metadata": {},
   "outputs": [
    {
     "name": "stdout",
     "output_type": "stream",
     "text": [
      "[1, 8, 27, 64, 125, 216]\n"
     ]
    }
   ],
   "source": [
    "print(results)"
   ]
  },
  {
   "cell_type": "code",
   "execution_count": 16,
   "metadata": {},
   "outputs": [],
   "source": [
    "import pandas as pd"
   ]
  },
  {
   "cell_type": "code",
   "execution_count": 17,
   "metadata": {},
   "outputs": [],
   "source": [
    "module_path = os.path.abspath(os.path.join('..', 'demand_acep'))\n",
    "if module_path not in sys.path:\n",
    "    sys.path.append(module_path)"
   ]
  },
  {
   "cell_type": "code",
   "execution_count": 18,
   "metadata": {},
   "outputs": [],
   "source": [
    "from extract_data_to_disk import extract_data_for_date"
   ]
  },
  {
   "cell_type": "code",
   "execution_count": 19,
   "metadata": {},
   "outputs": [
    {
     "name": "stdout",
     "output_type": "stream",
     "text": [
      "Config imported\n",
      "   meter_name  meter_type\n",
      "0  PkFltM1Ant  WattsOnMk2\n",
      "1  PkFltM2Tel  WattsOnMk2\n",
      "2  PkFltM3Sci  WattsOnMk2\n",
      "3      PQube3       PQube\n"
     ]
    }
   ],
   "source": [
    "import config"
   ]
  },
  {
   "cell_type": "code",
   "execution_count": 20,
   "metadata": {},
   "outputs": [],
   "source": [
    "data_date = '11/01/2017'"
   ]
  },
  {
   "cell_type": "code",
   "execution_count": 21,
   "metadata": {},
   "outputs": [],
   "source": [
    "#meter_pickle_names = extract_data_for_date(config, data_date)"
   ]
  },
  {
   "cell_type": "code",
   "execution_count": 22,
   "metadata": {},
   "outputs": [],
   "source": [
    "#df1.info()"
   ]
  },
  {
   "cell_type": "code",
   "execution_count": 23,
   "metadata": {},
   "outputs": [],
   "source": [
    "from extract_data_to_disk import extract_data_for_dates"
   ]
  },
  {
   "cell_type": "code",
   "execution_count": 24,
   "metadata": {},
   "outputs": [],
   "source": [
    "data_date_range = \"1st - 30th Apr 2018\""
   ]
  },
  {
   "cell_type": "code",
   "execution_count": null,
   "metadata": {},
   "outputs": [],
   "source": []
  },
  {
   "cell_type": "code",
   "execution_count": 25,
   "metadata": {},
   "outputs": [],
   "source": [
    "from daterangeparser import parse"
   ]
  },
  {
   "cell_type": "code",
   "execution_count": 26,
   "metadata": {},
   "outputs": [],
   "source": [
    "processes=mp.cpu_count()"
   ]
  },
  {
   "cell_type": "code",
   "execution_count": 27,
   "metadata": {},
   "outputs": [],
   "source": [
    "#results = extract_data_for_dates(config, data_date_range, processes)"
   ]
  },
  {
   "cell_type": "code",
   "execution_count": 28,
   "metadata": {},
   "outputs": [
    {
     "data": {
      "text/plain": [
       "28"
      ]
     },
     "execution_count": 28,
     "metadata": {},
     "output_type": "execute_result"
    }
   ],
   "source": [
    "processes"
   ]
  },
  {
   "cell_type": "code",
   "execution_count": 29,
   "metadata": {},
   "outputs": [
    {
     "name": "stdout",
     "output_type": "stream",
     "text": [
      "['04/01/2018' '04/02/2018' '04/03/2018' '04/04/2018' '04/05/2018'\n",
      " '04/06/2018' '04/07/2018' '04/08/2018' '04/09/2018' '04/10/2018'\n",
      " '04/11/2018' '04/12/2018' '04/13/2018' '04/14/2018' '04/15/2018'\n",
      " '04/16/2018' '04/17/2018' '04/18/2018' '04/19/2018' '04/20/2018'\n",
      " '04/21/2018' '04/22/2018' '04/23/2018' '04/24/2018' '04/25/2018'\n",
      " '04/26/2018' '04/27/2018' '04/28/2018' '04/29/2018' '04/30/2018']\n",
      "04/01/2018\n",
      "04/02/2018\n",
      "{'PkFltM1Ant': Empty DataFrame\n",
      "Columns: []\n",
      "Index: [], 'PkFltM2Tel': Empty DataFrame\n",
      "Columns: []\n",
      "Index: [], 'PkFltM3Sci': Empty DataFrame\n",
      "Columns: []\n",
      "Index: [], 'PQube3': Empty DataFrame\n",
      "Columns: []\n",
      "Index: []}\n",
      "{'PkFltM1Ant': Empty DataFrame\n",
      "Columns: []\n",
      "Index: [], 'PkFltM2Tel': Empty DataFrame\n",
      "Columns: []\n",
      "Index: [], 'PkFltM3Sci': Empty DataFrame\n",
      "Columns: []\n",
      "Index: [], 'PQube3': Empty DataFrame\n",
      "Columns: []\n",
      "Index: []}\n",
      "04/03/2018\n",
      "{'PkFltM1Ant': Empty DataFrame\n",
      "Columns: []\n",
      "Index: [], 'PkFltM2Tel': Empty DataFrame\n",
      "Columns: []\n",
      "Index: [], 'PkFltM3Sci': Empty DataFrame\n",
      "Columns: []\n",
      "Index: [], 'PQube3': Empty DataFrame\n",
      "Columns: []\n",
      "Index: []}\n",
      "04/04/2018\n",
      "{'PkFltM1Ant': Empty DataFrame\n",
      "Columns: []\n",
      "Index: [], 'PkFltM2Tel': Empty DataFrame\n",
      "Columns: []\n",
      "Index: [], 'PkFltM3Sci': Empty DataFrame\n",
      "Columns: []\n",
      "Index: [], 'PQube3': Empty DataFrame\n",
      "Columns: []\n",
      "Index: []}\n",
      "04/05/2018\n",
      "{'PkFltM1Ant': Empty DataFrame\n",
      "Columns: []\n",
      "Index: [], 'PkFltM2Tel': Empty DataFrame\n",
      "Columns: []\n",
      "Index: [], 'PkFltM3Sci': Empty DataFrame\n",
      "Columns: []\n",
      "Index: [], 'PQube3': Empty DataFrame\n",
      "Columns: []\n",
      "Index: []}\n",
      "04/06/2018\n",
      "{'PkFltM1Ant': Empty DataFrame\n",
      "Columns: []\n",
      "Index: [], 'PkFltM2Tel': Empty DataFrame\n",
      "Columns: []\n",
      "Index: [], 'PkFltM3Sci': Empty DataFrame\n",
      "Columns: []\n",
      "Index: [], 'PQube3': Empty DataFrame\n",
      "Columns: []\n",
      "Index: []}\n",
      "04/07/2018\n",
      "{'PkFltM1Ant': Empty DataFrame\n",
      "Columns: []\n",
      "Index: [], 'PkFltM2Tel': Empty DataFrame\n",
      "Columns: []\n",
      "Index: [], 'PkFltM3Sci': Empty DataFrame\n",
      "Columns: []\n",
      "Index: [], 'PQube3': Empty DataFrame\n",
      "Columns: []\n",
      "Index: []}\n",
      "04/08/2018\n",
      "{'PkFltM1Ant': Empty DataFrame\n",
      "Columns: []\n",
      "Index: [], 'PkFltM2Tel': Empty DataFrame\n",
      "Columns: []\n",
      "Index: [], 'PkFltM3Sci': Empty DataFrame\n",
      "Columns: []\n",
      "Index: [], 'PQube3': Empty DataFrame\n",
      "Columns: []\n",
      "Index: []}\n",
      "04/09/2018\n",
      "{'PkFltM1Ant': Empty DataFrame\n",
      "Columns: []\n",
      "Index: [], 'PkFltM2Tel': Empty DataFrame\n",
      "Columns: []\n",
      "Index: [], 'PkFltM3Sci': Empty DataFrame\n",
      "Columns: []\n",
      "Index: [], 'PQube3': Empty DataFrame\n",
      "Columns: []\n",
      "Index: []}\n",
      "04/10/2018\n",
      "{'PkFltM1Ant': Empty DataFrame\n",
      "Columns: []\n",
      "Index: [], 'PkFltM2Tel': Empty DataFrame\n",
      "Columns: []\n",
      "Index: [], 'PkFltM3Sci': Empty DataFrame\n",
      "Columns: []\n",
      "Index: [], 'PQube3': Empty DataFrame\n",
      "Columns: []\n",
      "Index: []}\n",
      "04/11/2018\n",
      "{'PkFltM1Ant': Empty DataFrame\n",
      "Columns: []\n",
      "Index: [], 'PkFltM2Tel': Empty DataFrame\n",
      "Columns: []\n",
      "Index: [], 'PkFltM3Sci': Empty DataFrame\n",
      "Columns: []\n",
      "Index: [], 'PQube3': Empty DataFrame\n",
      "Columns: []\n",
      "Index: []}\n",
      "04/12/2018\n",
      "{'PkFltM1Ant': Empty DataFrame\n",
      "Columns: []\n",
      "Index: [], 'PkFltM2Tel': Empty DataFrame\n",
      "Columns: []\n",
      "Index: [], 'PkFltM3Sci': Empty DataFrame\n",
      "Columns: []\n",
      "Index: [], 'PQube3': Empty DataFrame\n",
      "Columns: []\n",
      "Index: []}\n",
      "04/13/2018\n",
      "{'PkFltM1Ant': Empty DataFrame\n",
      "Columns: []\n",
      "Index: [], 'PkFltM2Tel': Empty DataFrame\n",
      "Columns: []\n",
      "Index: [], 'PkFltM3Sci': Empty DataFrame\n",
      "Columns: []\n",
      "Index: [], 'PQube3': Empty DataFrame\n",
      "Columns: []\n",
      "Index: []}\n",
      "04/14/2018\n",
      "{'PkFltM1Ant': Empty DataFrame\n",
      "Columns: []\n",
      "Index: [], 'PkFltM2Tel': Empty DataFrame\n",
      "Columns: []\n",
      "Index: [], 'PkFltM3Sci': Empty DataFrame\n",
      "Columns: []\n",
      "Index: [], 'PQube3': Empty DataFrame\n",
      "Columns: []\n",
      "Index: []}\n",
      "04/15/2018\n",
      "{'PkFltM1Ant': Empty DataFrame\n",
      "Columns: []\n",
      "Index: [], 'PkFltM2Tel': Empty DataFrame\n",
      "Columns: []\n",
      "Index: [], 'PkFltM3Sci': Empty DataFrame\n",
      "Columns: []\n",
      "Index: [], 'PQube3': Empty DataFrame\n",
      "Columns: []\n",
      "Index: []}\n",
      "04/16/2018\n",
      "{'PkFltM1Ant': Empty DataFrame\n",
      "Columns: []\n",
      "Index: [], 'PkFltM2Tel': Empty DataFrame\n",
      "Columns: []\n",
      "Index: [], 'PkFltM3Sci': Empty DataFrame\n",
      "Columns: []\n",
      "Index: [], 'PQube3': Empty DataFrame\n",
      "Columns: []\n",
      "Index: []}\n",
      "04/17/2018\n",
      "04/18/2018\n",
      "{'PkFltM1Ant': Empty DataFrame\n",
      "Columns: []\n",
      "Index: [], 'PkFltM2Tel': Empty DataFrame\n",
      "Columns: []\n",
      "Index: [], 'PkFltM3Sci': Empty DataFrame\n",
      "Columns: []\n",
      "Index: [], 'PQube3': Empty DataFrame\n",
      "Columns: []\n",
      "Index: []}\n",
      "{'PkFltM1Ant': Empty DataFrame\n",
      "Columns: []\n",
      "Index: [], 'PkFltM2Tel': Empty DataFrame\n",
      "Columns: []\n",
      "Index: [], 'PkFltM3Sci': Empty DataFrame\n",
      "Columns: []\n",
      "Index: [], 'PQube3': Empty DataFrame\n",
      "Columns: []\n",
      "Index: []}\n",
      "04/19/2018\n",
      "{'PkFltM1Ant': Empty DataFrame\n",
      "Columns: []\n",
      "Index: [], 'PkFltM2Tel': Empty DataFrame\n",
      "Columns: []\n",
      "Index: [], 'PkFltM3Sci': Empty DataFrame\n",
      "Columns: []\n",
      "Index: [], 'PQube3': Empty DataFrame\n",
      "Columns: []\n",
      "Index: []}\n",
      "04/20/2018\n",
      "{'PkFltM1Ant': Empty DataFrame\n",
      "Columns: []\n",
      "Index: [], 'PkFltM2Tel': Empty DataFrame\n",
      "Columns: []\n",
      "Index: [], 'PkFltM3Sci': Empty DataFrame\n",
      "Columns: []\n",
      "Index: [], 'PQube3': Empty DataFrame\n",
      "Columns: []\n",
      "Index: []}\n",
      "04/21/2018\n",
      "{'PkFltM1Ant': Empty DataFrame\n",
      "Columns: []\n",
      "Index: [], 'PkFltM2Tel': Empty DataFrame\n",
      "Columns: []\n",
      "Index: [], 'PkFltM3Sci': Empty DataFrame\n",
      "Columns: []\n",
      "Index: [], 'PQube3': Empty DataFrame\n",
      "Columns: []\n",
      "Index: []}\n",
      "04/22/2018\n",
      "{'PkFltM1Ant': Empty DataFrame\n",
      "Columns: []\n",
      "Index: [], 'PkFltM2Tel': Empty DataFrame\n",
      "Columns: []\n",
      "Index: [], 'PkFltM3Sci': Empty DataFrame\n",
      "Columns: []\n",
      "Index: [], 'PQube3': Empty DataFrame\n",
      "Columns: []\n",
      "Index: []}\n",
      "04/23/2018\n",
      "{'PkFltM1Ant': Empty DataFrame\n",
      "Columns: []\n",
      "Index: [], 'PkFltM2Tel': Empty DataFrame\n",
      "Columns: []\n",
      "Index: [], 'PkFltM3Sci': Empty DataFrame\n",
      "Columns: []\n",
      "Index: [], 'PQube3': Empty DataFrame\n",
      "Columns: []\n",
      "Index: []}\n",
      "04/24/2018\n",
      "{'PkFltM1Ant': Empty DataFrame\n",
      "Columns: []\n",
      "Index: [], 'PkFltM2Tel': Empty DataFrame\n",
      "Columns: []\n",
      "Index: [], 'PkFltM3Sci': Empty DataFrame\n",
      "Columns: []\n",
      "Index: [], 'PQube3': Empty DataFrame\n",
      "Columns: []\n",
      "Index: []}\n",
      "04/25/2018\n",
      "04/26/2018\n",
      "{'PkFltM1Ant': Empty DataFrame\n",
      "Columns: []\n",
      "Index: [], 'PkFltM2Tel': Empty DataFrame\n",
      "Columns: []\n",
      "Index: [], 'PkFltM3Sci': Empty DataFrame\n",
      "Columns: []\n",
      "Index: [], 'PQube3': Empty DataFrame\n",
      "Columns: []\n",
      "Index: []}\n",
      "{'PkFltM1Ant': Empty DataFrame\n",
      "Columns: []\n",
      "Index: [], 'PkFltM2Tel': Empty DataFrame\n",
      "Columns: []\n",
      "Index: [], 'PkFltM3Sci': Empty DataFrame\n",
      "Columns: []\n",
      "Index: [], 'PQube3': Empty DataFrame\n",
      "Columns: []\n",
      "Index: []}\n",
      "04/27/2018\n",
      "{'PkFltM1Ant': Empty DataFrame\n",
      "Columns: []\n",
      "Index: [], 'PkFltM2Tel': Empty DataFrame\n",
      "Columns: []\n",
      "Index: [], 'PkFltM3Sci': Empty DataFrame\n",
      "Columns: []\n",
      "Index: [], 'PQube3': Empty DataFrame\n",
      "Columns: []\n",
      "Index: []}\n",
      "04/28/2018\n",
      "{'PkFltM1Ant': Empty DataFrame\n",
      "Columns: []\n",
      "Index: [], 'PkFltM2Tel': Empty DataFrame\n",
      "Columns: []\n",
      "Index: [], 'PkFltM3Sci': Empty DataFrame\n",
      "Columns: []\n",
      "Index: [], 'PQube3': Empty DataFrame\n",
      "Columns: []\n",
      "Index: []}\n",
      "/gscratch/stf/demand_acep/Data/2018/04/24/PkFltM1Ant@2018-04-24T212951Z@PT10H@PT192F.pkl\n",
      "Pickle saved /gscratch/stf/demand_acep/Data/2018/04/24/PkFltM1Ant@2018-04-24T212951Z@PT10H@PT192F.pkl\n",
      "04/29/2018\n",
      "{'PkFltM1Ant': Empty DataFrame\n",
      "Columns: []\n",
      "Index: [], 'PkFltM2Tel': Empty DataFrame\n",
      "Columns: []\n",
      "Index: [], 'PkFltM3Sci': Empty DataFrame\n",
      "Columns: []\n",
      "Index: [], 'PQube3': Empty DataFrame\n",
      "Columns: []\n",
      "Index: []}\n",
      "/gscratch/stf/demand_acep/Data/2018/04/23/PkFltM1Ant@2018-04-23T081005Z@PT20H@PT143F.pkl\n",
      "Pickle saved /gscratch/stf/demand_acep/Data/2018/04/23/PkFltM1Ant@2018-04-23T081005Z@PT20H@PT143F.pkl\n",
      "/gscratch/stf/demand_acep/Data/2018/04/23/PkFltM2Tel@2018-04-23T082003Z@P2D@PT250F.pkl\n",
      "Pickle saved /gscratch/stf/demand_acep/Data/2018/04/23/PkFltM2Tel@2018-04-23T082003Z@P2D@PT250F.pkl\n",
      "/gscratch/stf/demand_acep/Data/2018/04/23/PkFltM3Sci@2018-04-23T083005Z@PT20H@PT141F.pkl\n",
      "Pickle saved /gscratch/stf/demand_acep/Data/2018/04/23/PkFltM3Sci@2018-04-23T083005Z@PT20H@PT141F.pkl\n",
      "/gscratch/stf/demand_acep/Data/2018/04/23/PQube3@2018-04-23T080003Z@PT19H@PT176F.pkl\n",
      "Pickle saved /gscratch/stf/demand_acep/Data/2018/04/23/PQube3@2018-04-23T080003Z@PT19H@PT176F.pkl\n",
      "04/30/2018\n",
      "{'PkFltM1Ant': Empty DataFrame\n",
      "Columns: []\n",
      "Index: [], 'PkFltM2Tel': Empty DataFrame\n",
      "Columns: []\n",
      "Index: [], 'PkFltM3Sci': Empty DataFrame\n",
      "Columns: []\n",
      "Index: [], 'PQube3': Empty DataFrame\n",
      "Columns: []\n",
      "Index: []}\n",
      "/gscratch/stf/demand_acep/Data/2018/04/25/PkFltM1Ant@2018-04-25T081003Z@P1D@PT153F.pkl\n",
      "/gscratch/stf/demand_acep/Data/2018/04/28/PkFltM1Ant@2018-04-28T081002Z@PT23H@PT151F.pkl\n",
      "Pickle saved /gscratch/stf/demand_acep/Data/2018/04/25/PkFltM1Ant@2018-04-25T081003Z@P1D@PT153F.pkl\n",
      "/gscratch/stf/demand_acep/Data/2018/04/25/PkFltM2Tel@2018-04-25T082004Z@P1D@PT152F.pkl\n",
      "Pickle saved /gscratch/stf/demand_acep/Data/2018/04/28/PkFltM1Ant@2018-04-28T081002Z@PT23H@PT151F.pkl\n",
      "/gscratch/stf/demand_acep/Data/2018/04/28/PkFltM2Tel@2018-04-28T082007Z@PT23H@PT150F.pkl\n",
      "Pickle saved /gscratch/stf/demand_acep/Data/2018/04/25/PkFltM2Tel@2018-04-25T082004Z@P1D@PT152F.pkl\n",
      "/gscratch/stf/demand_acep/Data/2018/04/25/PkFltM3Sci@2018-04-25T083004Z@P1D@PT151F.pkl\n",
      "Pickle saved /gscratch/stf/demand_acep/Data/2018/04/28/PkFltM2Tel@2018-04-28T082007Z@PT23H@PT150F.pkl\n",
      "/gscratch/stf/demand_acep/Data/2018/04/28/PkFltM3Sci@2018-04-28T083002Z@P1D@PT150F.pkl\n",
      "Pickle saved /gscratch/stf/demand_acep/Data/2018/04/25/PkFltM3Sci@2018-04-25T083004Z@P1D@PT151F.pkl\n",
      "/gscratch/stf/demand_acep/Data/2018/04/25/PQube3@2018-04-25T080904Z@PT23H@PT242F.pkl\n",
      "Pickle saved /gscratch/stf/demand_acep/Data/2018/04/28/PkFltM3Sci@2018-04-28T083002Z@P1D@PT150F.pkl\n",
      "/gscratch/stf/demand_acep/Data/2018/04/28/PQube3@2018-04-28T080901Z@PT23H@PT272F.pkl\n",
      "Pickle saved /gscratch/stf/demand_acep/Data/2018/04/25/PQube3@2018-04-25T080904Z@PT23H@PT242F.pkl\n",
      "Pickle saved /gscratch/stf/demand_acep/Data/2018/04/28/PQube3@2018-04-28T080901Z@PT23H@PT272F.pkl\n",
      "/gscratch/stf/demand_acep/Data/2018/04/26/PkFltM1Ant@2018-04-26T081005Z@PT23H@PT152F.pkl\n",
      "Pickle saved /gscratch/stf/demand_acep/Data/2018/04/26/PkFltM1Ant@2018-04-26T081005Z@PT23H@PT152F.pkl\n",
      "/gscratch/stf/demand_acep/Data/2018/04/26/PkFltM2Tel@2018-04-26T082005Z@PT23H@PT151F.pkl\n",
      "Pickle saved /gscratch/stf/demand_acep/Data/2018/04/26/PkFltM2Tel@2018-04-26T082005Z@PT23H@PT151F.pkl\n",
      "/gscratch/stf/demand_acep/Data/2018/04/26/PkFltM3Sci@2018-04-26T083006Z@PT23H@PT151F.pkl\n",
      "Pickle saved /gscratch/stf/demand_acep/Data/2018/04/26/PkFltM3Sci@2018-04-26T083006Z@PT23H@PT151F.pkl\n",
      "/gscratch/stf/demand_acep/Data/2018/04/26/PQube3@2018-04-26T080006Z@PT23H@PT217F.pkl\n",
      "Pickle saved /gscratch/stf/demand_acep/Data/2018/04/26/PQube3@2018-04-26T080006Z@PT23H@PT217F.pkl\n",
      "/gscratch/stf/demand_acep/Data/2018/04/27/PkFltM1Ant@2018-04-27T081004Z@PT23H@PT150F.pkl\n",
      "Pickle saved /gscratch/stf/demand_acep/Data/2018/04/27/PkFltM1Ant@2018-04-27T081004Z@PT23H@PT150F.pkl\n",
      "/gscratch/stf/demand_acep/Data/2018/04/27/PkFltM2Tel@2018-04-27T082002Z@P1D@PT149F.pkl\n",
      "Pickle saved /gscratch/stf/demand_acep/Data/2018/04/27/PkFltM2Tel@2018-04-27T082002Z@P1D@PT149F.pkl\n",
      "/gscratch/stf/demand_acep/Data/2018/04/27/PkFltM3Sci@2018-04-27T083005Z@PT23H@PT148F.pkl\n",
      "Pickle saved /gscratch/stf/demand_acep/Data/2018/04/27/PkFltM3Sci@2018-04-27T083005Z@PT23H@PT148F.pkl\n",
      "/gscratch/stf/demand_acep/Data/2018/04/27/PQube3@2018-04-27T080004Z@PT23H@PT199F.pkl\n",
      "Pickle saved /gscratch/stf/demand_acep/Data/2018/04/27/PQube3@2018-04-27T080004Z@PT23H@PT199F.pkl\n",
      "/gscratch/stf/demand_acep/Data/2018/04/11/PkFltM1Ant@2018-04-11T081003Z@P1D@PT150F.pkl\n",
      "Pickle saved /gscratch/stf/demand_acep/Data/2018/04/11/PkFltM1Ant@2018-04-11T081003Z@P1D@PT150F.pkl\n",
      "/gscratch/stf/demand_acep/Data/2018/04/11/PkFltM2Tel@2018-04-11T082004Z@PT23H@PT148F.pkl\n",
      "Pickle saved /gscratch/stf/demand_acep/Data/2018/04/11/PkFltM2Tel@2018-04-11T082004Z@PT23H@PT148F.pkl\n",
      "/gscratch/stf/demand_acep/Data/2018/04/11/PkFltM3Sci@2018-04-11T083005Z@PT23H@PT148F.pkl\n",
      "Pickle saved /gscratch/stf/demand_acep/Data/2018/04/11/PkFltM3Sci@2018-04-11T083005Z@PT23H@PT148F.pkl\n",
      "/gscratch/stf/demand_acep/Data/2018/04/11/PQube3@2018-04-11T080004Z@PT23H@PT176F.pkl\n",
      "/gscratch/stf/demand_acep/Data/2018/04/17/PkFltM1Ant@2018-04-17T081003Z@PT23H@PT151F.pkl\n",
      "Pickle saved /gscratch/stf/demand_acep/Data/2018/04/11/PQube3@2018-04-11T080004Z@PT23H@PT176F.pkl\n",
      "Pickle saved /gscratch/stf/demand_acep/Data/2018/04/17/PkFltM1Ant@2018-04-17T081003Z@PT23H@PT151F.pkl\n",
      "/gscratch/stf/demand_acep/Data/2018/04/17/PkFltM2Tel@2018-04-17T082005Z@PT23H@PT150F.pkl\n",
      "/gscratch/stf/demand_acep/Data/2018/04/21/PkFltM1Ant@2018-04-21T081004Z@PT23H@PT150F.pkl\n",
      "Pickle saved /gscratch/stf/demand_acep/Data/2018/04/17/PkFltM2Tel@2018-04-17T082005Z@PT23H@PT150F.pkl\n",
      "/gscratch/stf/demand_acep/Data/2018/04/17/PkFltM3Sci@2018-04-17T083005Z@PT23H@PT149F.pkl\n",
      "Pickle saved /gscratch/stf/demand_acep/Data/2018/04/21/PkFltM1Ant@2018-04-21T081004Z@PT23H@PT150F.pkl\n",
      "/gscratch/stf/demand_acep/Data/2018/04/21/PkFltM2Tel@2018-04-21T082005Z@PT23H@PT149F.pkl\n",
      "/gscratch/stf/demand_acep/Data/2018/04/16/PkFltM1Ant@2018-04-16T081004Z@PT23H@PT149F.pkl\n",
      "Pickle saved /gscratch/stf/demand_acep/Data/2018/04/17/PkFltM3Sci@2018-04-17T083005Z@PT23H@PT149F.pkl\n",
      "/gscratch/stf/demand_acep/Data/2018/04/17/PQube3@2018-04-17T080006Z@PT23H@PT171F.pkl\n",
      "Pickle saved /gscratch/stf/demand_acep/Data/2018/04/21/PkFltM2Tel@2018-04-21T082005Z@PT23H@PT149F.pkl\n",
      "/gscratch/stf/demand_acep/Data/2018/04/21/PkFltM3Sci@2018-04-21T083005Z@PT23H@PT149F.pkl\n",
      "Pickle saved /gscratch/stf/demand_acep/Data/2018/04/16/PkFltM1Ant@2018-04-16T081004Z@PT23H@PT149F.pkl\n",
      "/gscratch/stf/demand_acep/Data/2018/04/16/PkFltM2Tel@2018-04-16T082006Z@PT23H@PT148F.pkl\n",
      "Pickle saved /gscratch/stf/demand_acep/Data/2018/04/17/PQube3@2018-04-17T080006Z@PT23H@PT171F.pkl\n",
      "Pickle saved /gscratch/stf/demand_acep/Data/2018/04/21/PkFltM3Sci@2018-04-21T083005Z@PT23H@PT149F.pkl\n",
      "/gscratch/stf/demand_acep/Data/2018/04/21/PQube3@2018-04-21T080005Z@PT23H@PT168F.pkl\n",
      "Pickle saved /gscratch/stf/demand_acep/Data/2018/04/16/PkFltM2Tel@2018-04-16T082006Z@PT23H@PT148F.pkl\n",
      "/gscratch/stf/demand_acep/Data/2018/04/16/PkFltM3Sci@2018-04-16T083005Z@PT23H@PT148F.pkl\n",
      "Pickle saved /gscratch/stf/demand_acep/Data/2018/04/21/PQube3@2018-04-21T080005Z@PT23H@PT168F.pkl\n",
      "Pickle saved /gscratch/stf/demand_acep/Data/2018/04/16/PkFltM3Sci@2018-04-16T083005Z@PT23H@PT148F.pkl\n",
      "/gscratch/stf/demand_acep/Data/2018/04/16/PQube3@2018-04-16T080002Z@P1D@PT164F.pkl\n",
      "Pickle saved /gscratch/stf/demand_acep/Data/2018/04/16/PQube3@2018-04-16T080002Z@P1D@PT164F.pkl\n",
      "/gscratch/stf/demand_acep/Data/2018/04/19/PkFltM1Ant@2018-04-19T081005Z@P1D@PT144F.pkl\n",
      "Pickle saved /gscratch/stf/demand_acep/Data/2018/04/19/PkFltM1Ant@2018-04-19T081005Z@P1D@PT144F.pkl\n",
      "/gscratch/stf/demand_acep/Data/2018/04/19/PkFltM2Tel@2018-04-19T082023Z@PT23H@PT143F.pkl\n",
      "Pickle saved /gscratch/stf/demand_acep/Data/2018/04/19/PkFltM2Tel@2018-04-19T082023Z@PT23H@PT143F.pkl\n",
      "/gscratch/stf/demand_acep/Data/2018/04/19/PkFltM3Sci@2018-04-19T083008Z@PT23H@PT143F.pkl\n",
      "Pickle saved /gscratch/stf/demand_acep/Data/2018/04/19/PkFltM3Sci@2018-04-19T083008Z@PT23H@PT143F.pkl\n",
      "/gscratch/stf/demand_acep/Data/2018/04/19/PQube3@2018-04-19T080008Z@PT23H@PT158F.pkl\n",
      "Pickle saved /gscratch/stf/demand_acep/Data/2018/04/19/PQube3@2018-04-19T080008Z@PT23H@PT158F.pkl\n",
      "/gscratch/stf/demand_acep/Data/2018/04/18/PkFltM1Ant@2018-04-18T081003Z@P1D@PT145F.pkl\n",
      "/gscratch/stf/demand_acep/Data/2018/04/20/PkFltM1Ant@2018-04-20T081006Z@PT23H@PT144F.pkl\n",
      "Pickle saved /gscratch/stf/demand_acep/Data/2018/04/18/PkFltM1Ant@2018-04-18T081003Z@P1D@PT145F.pkl\n",
      "/gscratch/stf/demand_acep/Data/2018/04/18/PkFltM2Tel@2018-04-18T082003Z@P1D@PT144F.pkl\n",
      "Pickle saved /gscratch/stf/demand_acep/Data/2018/04/20/PkFltM1Ant@2018-04-20T081006Z@PT23H@PT144F.pkl\n",
      "/gscratch/stf/demand_acep/Data/2018/04/20/PkFltM2Tel@2018-04-20T082007Z@PT23H@PT142F.pkl\n",
      "Pickle saved /gscratch/stf/demand_acep/Data/2018/04/18/PkFltM2Tel@2018-04-18T082003Z@P1D@PT144F.pkl\n",
      "/gscratch/stf/demand_acep/Data/2018/04/18/PkFltM3Sci@2018-04-18T083005Z@P1D@PT144F.pkl\n",
      "Pickle saved /gscratch/stf/demand_acep/Data/2018/04/20/PkFltM2Tel@2018-04-20T082007Z@PT23H@PT142F.pkl\n",
      "/gscratch/stf/demand_acep/Data/2018/04/20/PkFltM3Sci@2018-04-20T083007Z@PT23H@PT142F.pkl\n",
      "/gscratch/stf/demand_acep/Data/2018/04/05/PkFltM1Ant@2018-04-05T081001Z@P1D@PT145F.pkl\n",
      "/gscratch/stf/demand_acep/Data/2018/04/10/PkFltM1Ant@2018-04-10T081007Z@PT23H@PT149F.pkl\n",
      "Pickle saved /gscratch/stf/demand_acep/Data/2018/04/18/PkFltM3Sci@2018-04-18T083005Z@P1D@PT144F.pkl\n",
      "/gscratch/stf/demand_acep/Data/2018/04/18/PQube3@2018-04-18T080006Z@P1D@PT159F.pkl\n",
      "Pickle saved /gscratch/stf/demand_acep/Data/2018/04/20/PkFltM3Sci@2018-04-20T083007Z@PT23H@PT142F.pkl\n",
      "/gscratch/stf/demand_acep/Data/2018/04/20/PQube3@2018-04-20T080006Z@PT23H@PT157F.pkl\n",
      "Pickle saved /gscratch/stf/demand_acep/Data/2018/04/05/PkFltM1Ant@2018-04-05T081001Z@P1D@PT145F.pkl\n",
      "/gscratch/stf/demand_acep/Data/2018/04/05/PkFltM2Tel@2018-04-05T082003Z@P1D@PT142F.pkl\n",
      "Pickle saved /gscratch/stf/demand_acep/Data/2018/04/10/PkFltM1Ant@2018-04-10T081007Z@PT23H@PT149F.pkl\n",
      "/gscratch/stf/demand_acep/Data/2018/04/10/PkFltM2Tel@2018-04-10T082006Z@PT23H@PT147F.pkl\n",
      "Pickle saved /gscratch/stf/demand_acep/Data/2018/04/18/PQube3@2018-04-18T080006Z@P1D@PT159F.pkl\n",
      "/gscratch/stf/demand_acep/Data/2018/04/02/PkFltM1Ant@2018-04-02T081004Z@P1D@PT144F.pkl\n",
      "Pickle saved /gscratch/stf/demand_acep/Data/2018/04/20/PQube3@2018-04-20T080006Z@PT23H@PT157F.pkl\n",
      "Pickle saved /gscratch/stf/demand_acep/Data/2018/04/05/PkFltM2Tel@2018-04-05T082003Z@P1D@PT142F.pkl\n",
      "/gscratch/stf/demand_acep/Data/2018/04/05/PkFltM3Sci@2018-04-05T083008Z@PT23H@PT142F.pkl\n",
      "Pickle saved /gscratch/stf/demand_acep/Data/2018/04/10/PkFltM2Tel@2018-04-10T082006Z@PT23H@PT147F.pkl\n",
      "/gscratch/stf/demand_acep/Data/2018/04/10/PkFltM3Sci@2018-04-10T083002Z@P1D@PT147F.pkl\n",
      "Pickle saved /gscratch/stf/demand_acep/Data/2018/04/02/PkFltM1Ant@2018-04-02T081004Z@P1D@PT144F.pkl\n",
      "/gscratch/stf/demand_acep/Data/2018/04/02/PkFltM2Tel@2018-04-02T082004Z@PT23H@PT142F.pkl\n",
      "Pickle saved /gscratch/stf/demand_acep/Data/2018/04/05/PkFltM3Sci@2018-04-05T083008Z@PT23H@PT142F.pkl\n",
      "/gscratch/stf/demand_acep/Data/2018/04/05/PQube3@2018-04-05T080006Z@PT23H@PT159F.pkl\n",
      "Pickle saved /gscratch/stf/demand_acep/Data/2018/04/10/PkFltM3Sci@2018-04-10T083002Z@P1D@PT147F.pkl\n",
      "/gscratch/stf/demand_acep/Data/2018/04/10/PQube3@2018-04-10T080005Z@PT23H@PT164F.pkl\n",
      "Pickle saved /gscratch/stf/demand_acep/Data/2018/04/02/PkFltM2Tel@2018-04-02T082004Z@PT23H@PT142F.pkl\n",
      "/gscratch/stf/demand_acep/Data/2018/04/02/PkFltM3Sci@2018-04-02T083005Z@PT23H@PT142F.pkl\n",
      "Pickle saved /gscratch/stf/demand_acep/Data/2018/04/05/PQube3@2018-04-05T080006Z@PT23H@PT159F.pkl\n",
      "Pickle saved /gscratch/stf/demand_acep/Data/2018/04/10/PQube3@2018-04-10T080005Z@PT23H@PT164F.pkl\n",
      "Pickle saved /gscratch/stf/demand_acep/Data/2018/04/02/PkFltM3Sci@2018-04-02T083005Z@PT23H@PT142F.pkl\n",
      "/gscratch/stf/demand_acep/Data/2018/04/02/PQube3@2018-04-02T080004Z@P1D@PT157F.pkl\n",
      "Pickle saved /gscratch/stf/demand_acep/Data/2018/04/02/PQube3@2018-04-02T080004Z@P1D@PT157F.pkl\n",
      "/gscratch/stf/demand_acep/Data/2018/04/06/PkFltM1Ant@2018-04-06T081005Z@PT23H@PT144F.pkl\n",
      "/gscratch/stf/demand_acep/Data/2018/04/12/PkFltM1Ant@2018-04-12T081009Z@PT23H@PT142F.pkl\n",
      "Pickle saved /gscratch/stf/demand_acep/Data/2018/04/06/PkFltM1Ant@2018-04-06T081005Z@PT23H@PT144F.pkl\n",
      "/gscratch/stf/demand_acep/Data/2018/04/06/PkFltM2Tel@2018-04-06T082005Z@PT23H@PT143F.pkl\n",
      "Pickle saved /gscratch/stf/demand_acep/Data/2018/04/12/PkFltM1Ant@2018-04-12T081009Z@PT23H@PT142F.pkl\n",
      "/gscratch/stf/demand_acep/Data/2018/04/12/PkFltM2Tel@2018-04-12T082004Z@P1D@PT140F.pkl\n",
      "Pickle saved /gscratch/stf/demand_acep/Data/2018/04/06/PkFltM2Tel@2018-04-06T082005Z@PT23H@PT143F.pkl\n",
      "/gscratch/stf/demand_acep/Data/2018/04/06/PkFltM3Sci@2018-04-06T083004Z@PT23H@PT143F.pkl\n",
      "Pickle saved /gscratch/stf/demand_acep/Data/2018/04/12/PkFltM2Tel@2018-04-12T082004Z@P1D@PT140F.pkl\n",
      "/gscratch/stf/demand_acep/Data/2018/04/12/PkFltM3Sci@2018-04-12T083004Z@P1D@PT140F.pkl\n",
      "/gscratch/stf/demand_acep/Data/2018/04/22/PkFltM1Ant@2018-04-22T081004Z@P1D@PT143F.pkl\n",
      "/gscratch/stf/demand_acep/Data/2018/04/13/PkFltM1Ant@2018-04-13T081005Z@PT23H@PT143F.pkl\n",
      "Pickle saved /gscratch/stf/demand_acep/Data/2018/04/06/PkFltM3Sci@2018-04-06T083004Z@PT23H@PT143F.pkl\n",
      "/gscratch/stf/demand_acep/Data/2018/04/06/PQube3@2018-04-06T080005Z@P1D@PT159F.pkl\n",
      "Pickle saved /gscratch/stf/demand_acep/Data/2018/04/12/PkFltM3Sci@2018-04-12T083004Z@P1D@PT140F.pkl\n",
      "/gscratch/stf/demand_acep/Data/2018/04/12/PQube3@2018-04-12T080004Z@P1D@PT162F.pkl\n",
      "Pickle saved /gscratch/stf/demand_acep/Data/2018/04/22/PkFltM1Ant@2018-04-22T081004Z@P1D@PT143F.pkl\n",
      "/gscratch/stf/demand_acep/Data/2018/04/22/PkFltM2Tel@2018-04-22T082004Z@PT23H@PT142F.pkl\n",
      "/gscratch/stf/demand_acep/Data/2018/04/03/PkFltM1Ant@2018-04-03T081006Z@PT23H@PT142F.pkl\n",
      "Pickle saved /gscratch/stf/demand_acep/Data/2018/04/13/PkFltM1Ant@2018-04-13T081005Z@PT23H@PT143F.pkl\n",
      "/gscratch/stf/demand_acep/Data/2018/04/13/PkFltM2Tel@2018-04-13T082006Z@PT23H@PT142F.pkl\n",
      "/gscratch/stf/demand_acep/Data/2018/04/07/PkFltM1Ant@2018-04-07T081003Z@PT23H@PT141F.pkl\n",
      "Pickle saved /gscratch/stf/demand_acep/Data/2018/04/12/PQube3@2018-04-12T080004Z@P1D@PT162F.pkl\n",
      "Pickle saved /gscratch/stf/demand_acep/Data/2018/04/06/PQube3@2018-04-06T080005Z@P1D@PT159F.pkl\n",
      "Pickle saved /gscratch/stf/demand_acep/Data/2018/04/22/PkFltM2Tel@2018-04-22T082004Z@PT23H@PT142F.pkl\n",
      "/gscratch/stf/demand_acep/Data/2018/04/22/PkFltM3Sci@2018-04-22T083004Z@PT23H@PT141F.pkl\n",
      "Pickle saved /gscratch/stf/demand_acep/Data/2018/04/03/PkFltM1Ant@2018-04-03T081006Z@PT23H@PT142F.pkl\n",
      "/gscratch/stf/demand_acep/Data/2018/04/03/PkFltM2Tel@2018-04-03T082001Z@P1D@PT140F.pkl\n",
      "Pickle saved /gscratch/stf/demand_acep/Data/2018/04/13/PkFltM2Tel@2018-04-13T082006Z@PT23H@PT142F.pkl\n",
      "/gscratch/stf/demand_acep/Data/2018/04/13/PkFltM3Sci@2018-04-13T083007Z@PT23H@PT142F.pkl\n",
      "Pickle saved /gscratch/stf/demand_acep/Data/2018/04/07/PkFltM1Ant@2018-04-07T081003Z@PT23H@PT141F.pkl\n",
      "/gscratch/stf/demand_acep/Data/2018/04/07/PkFltM2Tel@2018-04-07T082002Z@P1D@PT139F.pkl\n",
      "Pickle saved /gscratch/stf/demand_acep/Data/2018/04/03/PkFltM2Tel@2018-04-03T082001Z@P1D@PT140F.pkl\n",
      "/gscratch/stf/demand_acep/Data/2018/04/03/PkFltM3Sci@2018-04-03T083002Z@P1D@PT140F.pkl\n",
      "Pickle saved /gscratch/stf/demand_acep/Data/2018/04/22/PkFltM3Sci@2018-04-22T083004Z@PT23H@PT141F.pkl\n",
      "/gscratch/stf/demand_acep/Data/2018/04/22/PQube3@2018-04-22T080003Z@PT23H@PT158F.pkl\n",
      "/gscratch/stf/demand_acep/Data/2018/04/15/PkFltM1Ant@2018-04-15T081005Z@PT23H@PT142F.pkl\n",
      "Pickle saved /gscratch/stf/demand_acep/Data/2018/04/13/PkFltM3Sci@2018-04-13T083007Z@PT23H@PT142F.pkl\n",
      "/gscratch/stf/demand_acep/Data/2018/04/13/PQube3@2018-04-13T080006Z@PT23H@PT158F.pkl\n",
      "Pickle saved /gscratch/stf/demand_acep/Data/2018/04/07/PkFltM2Tel@2018-04-07T082002Z@P1D@PT139F.pkl\n",
      "/gscratch/stf/demand_acep/Data/2018/04/07/PkFltM3Sci@2018-04-07T083002Z@P1D@PT139F.pkl\n",
      "Pickle saved /gscratch/stf/demand_acep/Data/2018/04/22/PQube3@2018-04-22T080003Z@PT23H@PT158F.pkl\n",
      "Pickle saved /gscratch/stf/demand_acep/Data/2018/04/13/PQube3@2018-04-13T080006Z@PT23H@PT158F.pkl\n",
      "Pickle saved /gscratch/stf/demand_acep/Data/2018/04/03/PkFltM3Sci@2018-04-03T083002Z@P1D@PT140F.pkl\n",
      "/gscratch/stf/demand_acep/Data/2018/04/03/PQube3@2018-04-03T080006Z@PT23H@PT154F.pkl\n",
      "Pickle saved /gscratch/stf/demand_acep/Data/2018/04/15/PkFltM1Ant@2018-04-15T081005Z@PT23H@PT142F.pkl\n",
      "/gscratch/stf/demand_acep/Data/2018/04/15/PkFltM2Tel@2018-04-15T082006Z@P1D@PT141F.pkl\n",
      "/gscratch/stf/demand_acep/Data/2018/04/08/PkFltM1Ant@2018-04-08T081002Z@P1D@PT142F.pkl\n",
      "Pickle saved /gscratch/stf/demand_acep/Data/2018/04/07/PkFltM3Sci@2018-04-07T083002Z@P1D@PT139F.pkl\n",
      "/gscratch/stf/demand_acep/Data/2018/04/07/PQube3@2018-04-07T080006Z@PT23H@PT153F.pkl\n",
      "Pickle saved /gscratch/stf/demand_acep/Data/2018/04/03/PQube3@2018-04-03T080006Z@PT23H@PT154F.pkl\n",
      "Pickle saved /gscratch/stf/demand_acep/Data/2018/04/15/PkFltM2Tel@2018-04-15T082006Z@P1D@PT141F.pkl\n",
      "/gscratch/stf/demand_acep/Data/2018/04/15/PkFltM3Sci@2018-04-15T083006Z@PT23H@PT140F.pkl\n",
      "Pickle saved /gscratch/stf/demand_acep/Data/2018/04/08/PkFltM1Ant@2018-04-08T081002Z@P1D@PT142F.pkl\n",
      "/gscratch/stf/demand_acep/Data/2018/04/08/PkFltM2Tel@2018-04-08T082003Z@P1D@PT140F.pkl\n",
      "Pickle saved /gscratch/stf/demand_acep/Data/2018/04/07/PQube3@2018-04-07T080006Z@PT23H@PT153F.pkl\n",
      "Pickle saved /gscratch/stf/demand_acep/Data/2018/04/15/PkFltM3Sci@2018-04-15T083006Z@PT23H@PT140F.pkl\n",
      "/gscratch/stf/demand_acep/Data/2018/04/15/PQube3@2018-04-15T080006Z@PT23H@PT156F.pkl\n",
      "Pickle saved /gscratch/stf/demand_acep/Data/2018/04/08/PkFltM2Tel@2018-04-08T082003Z@P1D@PT140F.pkl\n",
      "/gscratch/stf/demand_acep/Data/2018/04/08/PkFltM3Sci@2018-04-08T083004Z@PT23H@PT140F.pkl\n",
      "/gscratch/stf/demand_acep/Data/2018/04/14/PkFltM1Ant@2018-04-14T081002Z@P1D@PT142F.pkl\n",
      "Pickle saved /gscratch/stf/demand_acep/Data/2018/04/15/PQube3@2018-04-15T080006Z@PT23H@PT156F.pkl\n",
      "Pickle saved /gscratch/stf/demand_acep/Data/2018/04/08/PkFltM3Sci@2018-04-08T083004Z@PT23H@PT140F.pkl\n",
      "/gscratch/stf/demand_acep/Data/2018/04/08/PQube3@2018-04-08T080002Z@P1D@PT152F.pkl\n",
      "Pickle saved /gscratch/stf/demand_acep/Data/2018/04/14/PkFltM1Ant@2018-04-14T081002Z@P1D@PT142F.pkl\n",
      "/gscratch/stf/demand_acep/Data/2018/04/14/PkFltM2Tel@2018-04-14T082003Z@P1D@PT140F.pkl\n",
      "Pickle saved /gscratch/stf/demand_acep/Data/2018/04/08/PQube3@2018-04-08T080002Z@P1D@PT152F.pkl\n",
      "Pickle saved /gscratch/stf/demand_acep/Data/2018/04/14/PkFltM2Tel@2018-04-14T082003Z@P1D@PT140F.pkl\n",
      "/gscratch/stf/demand_acep/Data/2018/04/14/PkFltM3Sci@2018-04-14T083003Z@P1D@PT140F.pkl\n",
      "Pickle saved /gscratch/stf/demand_acep/Data/2018/04/14/PkFltM3Sci@2018-04-14T083003Z@P1D@PT140F.pkl\n",
      "/gscratch/stf/demand_acep/Data/2018/04/14/PQube3@2018-04-14T080005Z@P1D@PT155F.pkl\n",
      "Pickle saved /gscratch/stf/demand_acep/Data/2018/04/14/PQube3@2018-04-14T080005Z@P1D@PT155F.pkl\n",
      "/gscratch/stf/demand_acep/Data/2018/04/04/PkFltM1Ant@2018-04-04T081001Z@PT23H@PT142F.pkl\n",
      "Pickle saved /gscratch/stf/demand_acep/Data/2018/04/04/PkFltM1Ant@2018-04-04T081001Z@PT23H@PT142F.pkl\n",
      "/gscratch/stf/demand_acep/Data/2018/04/04/PkFltM2Tel@2018-04-04T082005Z@PT23H@PT140F.pkl\n",
      "Pickle saved /gscratch/stf/demand_acep/Data/2018/04/04/PkFltM2Tel@2018-04-04T082005Z@PT23H@PT140F.pkl\n",
      "/gscratch/stf/demand_acep/Data/2018/04/04/PkFltM3Sci@2018-04-04T083002Z@P1D@PT140F.pkl\n",
      "/gscratch/stf/demand_acep/Data/2018/04/09/PkFltM1Ant@2018-04-09T081003Z@P1D@PT142F.pkl\n",
      "Pickle saved /gscratch/stf/demand_acep/Data/2018/04/04/PkFltM3Sci@2018-04-04T083002Z@P1D@PT140F.pkl\n",
      "/gscratch/stf/demand_acep/Data/2018/04/04/PQube3@2018-04-04T080005Z@P1D@PT156F.pkl\n",
      "Pickle saved /gscratch/stf/demand_acep/Data/2018/04/09/PkFltM1Ant@2018-04-09T081003Z@P1D@PT142F.pkl\n",
      "/gscratch/stf/demand_acep/Data/2018/04/09/PkFltM2Tel@2018-04-09T082004Z@P1D@PT140F.pkl\n",
      "Pickle saved /gscratch/stf/demand_acep/Data/2018/04/04/PQube3@2018-04-04T080005Z@P1D@PT156F.pkl\n",
      "Pickle saved /gscratch/stf/demand_acep/Data/2018/04/09/PkFltM2Tel@2018-04-09T082004Z@P1D@PT140F.pkl\n",
      "/gscratch/stf/demand_acep/Data/2018/04/09/PkFltM3Sci@2018-04-09T083003Z@PT23H@PT140F.pkl\n",
      "Pickle saved /gscratch/stf/demand_acep/Data/2018/04/09/PkFltM3Sci@2018-04-09T083003Z@PT23H@PT140F.pkl\n",
      "/gscratch/stf/demand_acep/Data/2018/04/09/PQube3@2018-04-09T080004Z@P1D@PT154F.pkl\n",
      "Pickle saved /gscratch/stf/demand_acep/Data/2018/04/09/PQube3@2018-04-09T080004Z@P1D@PT154F.pkl\n",
      "/gscratch/stf/demand_acep/Data/2018/04/01/PkFltM1Ant@2018-04-01T081006Z@PT23H@PT142F.pkl\n",
      "Pickle saved /gscratch/stf/demand_acep/Data/2018/04/01/PkFltM1Ant@2018-04-01T081006Z@PT23H@PT142F.pkl\n",
      "/gscratch/stf/demand_acep/Data/2018/04/01/PkFltM2Tel@2018-04-01T082006Z@PT23H@PT139F.pkl\n",
      "Pickle saved /gscratch/stf/demand_acep/Data/2018/04/01/PkFltM2Tel@2018-04-01T082006Z@PT23H@PT139F.pkl\n",
      "/gscratch/stf/demand_acep/Data/2018/04/01/PkFltM3Sci@2018-04-01T083006Z@PT23H@PT140F.pkl\n",
      "Pickle saved /gscratch/stf/demand_acep/Data/2018/04/01/PkFltM3Sci@2018-04-01T083006Z@PT23H@PT140F.pkl\n",
      "/gscratch/stf/demand_acep/Data/2018/04/01/PQube3@2018-04-01T080006Z@PT23H@PT153F.pkl\n",
      "Pickle saved /gscratch/stf/demand_acep/Data/2018/04/01/PQube3@2018-04-01T080006Z@PT23H@PT153F.pkl\n",
      "/gscratch/stf/demand_acep/Data/2018/04/29/PkFltM1Ant@2018-04-29T081002Z@P1D@PT144F.pkl\n",
      "Pickle saved /gscratch/stf/demand_acep/Data/2018/04/29/PkFltM1Ant@2018-04-29T081002Z@P1D@PT144F.pkl\n",
      "/gscratch/stf/demand_acep/Data/2018/04/29/PkFltM2Tel@2018-04-29T082002Z@P1D@PT143F.pkl\n",
      "Pickle saved /gscratch/stf/demand_acep/Data/2018/04/29/PkFltM2Tel@2018-04-29T082002Z@P1D@PT143F.pkl\n",
      "/gscratch/stf/demand_acep/Data/2018/04/29/PkFltM3Sci@2018-04-29T083003Z@P1D@PT142F.pkl\n",
      "Pickle saved /gscratch/stf/demand_acep/Data/2018/04/29/PkFltM3Sci@2018-04-29T083003Z@P1D@PT142F.pkl\n",
      "/gscratch/stf/demand_acep/Data/2018/04/29/PQube3@2018-04-29T081328Z@PT23H@PT203F.pkl\n",
      "Pickle saved /gscratch/stf/demand_acep/Data/2018/04/29/PQube3@2018-04-29T081328Z@PT23H@PT203F.pkl\n",
      "/gscratch/stf/demand_acep/Data/2018/04/30/PkFltM1Ant@2018-04-30T081003Z@PT23H@PT146F.pkl\n",
      "Pickle saved /gscratch/stf/demand_acep/Data/2018/04/30/PkFltM1Ant@2018-04-30T081003Z@PT23H@PT146F.pkl\n",
      "/gscratch/stf/demand_acep/Data/2018/04/30/PkFltM2Tel@2018-04-30T082004Z@P1D@PT145F.pkl\n",
      "Pickle saved /gscratch/stf/demand_acep/Data/2018/04/30/PkFltM2Tel@2018-04-30T082004Z@P1D@PT145F.pkl\n",
      "/gscratch/stf/demand_acep/Data/2018/04/30/PkFltM3Sci@2018-04-30T083005Z@PT23H@PT144F.pkl\n",
      "Pickle saved /gscratch/stf/demand_acep/Data/2018/04/30/PkFltM3Sci@2018-04-30T083005Z@PT23H@PT144F.pkl\n",
      "/gscratch/stf/demand_acep/Data/2018/04/30/PQube3@2018-04-30T080004Z@PT23H@PT216F.pkl\n",
      "Pickle saved /gscratch/stf/demand_acep/Data/2018/04/30/PQube3@2018-04-30T080004Z@PT23H@PT216F.pkl\n"
     ]
    }
   ],
   "source": [
    "# Get the start and end date\n",
    "start, end = parse(data_date_range)\n",
    "# Get the list of dates within the range and convert to the format we want\n",
    "dates_in_range = pd.date_range(start, end).strftime(\"%m/%d/%Y\")\n",
    "print(dates_in_range)\n",
    "# Create a pool for the number of processes specified\n",
    "pool = mp.Pool(processes=processes)\n",
    "results = [pool.apply_async(extract_data_for_date, args=(config, data_date)) for data_date in dates_in_range]\n",
    "#results.wait()\n",
    "#results = [pool.apply(extract_data_for_date, args=(config, data_date)) for data_date in dates_in_range]"
   ]
  },
  {
   "cell_type": "code",
   "execution_count": 30,
   "metadata": {},
   "outputs": [
    {
     "data": {
      "text/plain": [
       "[<multiprocess.pool.ApplyResult at 0x2ad658518908>,\n",
       " <multiprocess.pool.ApplyResult at 0x2ad6584d40f0>,\n",
       " <multiprocess.pool.ApplyResult at 0x2ad6584d4a58>,\n",
       " <multiprocess.pool.ApplyResult at 0x2ad6584d4ba8>,\n",
       " <multiprocess.pool.ApplyResult at 0x2ad6584d49e8>,\n",
       " <multiprocess.pool.ApplyResult at 0x2ad6584c07f0>,\n",
       " <multiprocess.pool.ApplyResult at 0x2ad6584c07b8>,\n",
       " <multiprocess.pool.ApplyResult at 0x2ad6584c0898>,\n",
       " <multiprocess.pool.ApplyResult at 0x2ad6584c0eb8>,\n",
       " <multiprocess.pool.ApplyResult at 0x2ad6584c0a58>,\n",
       " <multiprocess.pool.ApplyResult at 0x2ad6584c0e10>,\n",
       " <multiprocess.pool.ApplyResult at 0x2ad6584c0da0>,\n",
       " <multiprocess.pool.ApplyResult at 0x2ad6584c0cf8>,\n",
       " <multiprocess.pool.ApplyResult at 0x2ad6584c0ba8>,\n",
       " <multiprocess.pool.ApplyResult at 0x2ad6584c0ac8>,\n",
       " <multiprocess.pool.ApplyResult at 0x2ad658499a90>,\n",
       " <multiprocess.pool.ApplyResult at 0x2ad6584c0588>,\n",
       " <multiprocess.pool.ApplyResult at 0x2ad6584c04e0>,\n",
       " <multiprocess.pool.ApplyResult at 0x2ad6584c0438>,\n",
       " <multiprocess.pool.ApplyResult at 0x2ad6584c0128>,\n",
       " <multiprocess.pool.ApplyResult at 0x2ad6584c0668>,\n",
       " <multiprocess.pool.ApplyResult at 0x2ad6584c09b0>,\n",
       " <multiprocess.pool.ApplyResult at 0x2ad6584c0630>,\n",
       " <multiprocess.pool.ApplyResult at 0x2ad6584c0fd0>,\n",
       " <multiprocess.pool.ApplyResult at 0x2ad6584d17f0>,\n",
       " <multiprocess.pool.ApplyResult at 0x2ad6584d1c50>,\n",
       " <multiprocess.pool.ApplyResult at 0x2ad6584d1710>,\n",
       " <multiprocess.pool.ApplyResult at 0x2ad6584d1668>,\n",
       " <multiprocess.pool.ApplyResult at 0x2ad6584d15c0>,\n",
       " <multiprocess.pool.ApplyResult at 0x2ad6584d1518>]"
      ]
     },
     "execution_count": 30,
     "metadata": {},
     "output_type": "execute_result"
    }
   ],
   "source": [
    "results"
   ]
  },
  {
   "cell_type": "code",
   "execution_count": 31,
   "metadata": {},
   "outputs": [],
   "source": [
    "df = pd.read_pickle(\"/gscratch/stf/demand_acep/Data/2017/12/13/PkFltM1Ant@2017-12-13T091003Z@P1D@PT143F.pkl\")"
   ]
  },
  {
   "cell_type": "code",
   "execution_count": 32,
   "metadata": {},
   "outputs": [
    {
     "name": "stdout",
     "output_type": "stream",
     "text": [
      "<class 'pandas.core.frame.DataFrame'>\n",
      "RangeIndex: 600145 entries, 0 to 600144\n",
      "Data columns (total 49 columns):\n",
      "time                               600145 non-null timedelta64[ns]\n",
      "EDelTot                            600145 non-null float64\n",
      "Vbc                                600145 non-null float64\n",
      "Qc                                 600145 non-null float64\n",
      "EbRec                              600145 non-null float64\n",
      "EreNegTot                          600145 non-null float64\n",
      "EapTot                             600145 non-null float64\n",
      "Pa                                 600145 non-null float64\n",
      "Ia                                 600145 non-null float64\n",
      "Sb                                 600145 non-null float64\n",
      "ENetTot                            600145 non-null float64\n",
      "IMean                              600145 non-null float64\n",
      "Vca                                600145 non-null float64\n",
      "EbDel                              600145 non-null float64\n",
      "Sa                                 600145 non-null float64\n",
      "EaNetTot                           600145 non-null float64\n",
      "EcNetTot                           600145 non-null float64\n",
      "Qa                                 600145 non-null float64\n",
      "EcDel                              600145 non-null float64\n",
      "Vcn                                600145 non-null float64\n",
      "EbNetTot                           600145 non-null float64\n",
      "PfTot                              600145 non-null float64\n",
      "Pfa                                600145 non-null float64\n",
      "EapbTot                            600145 non-null float64\n",
      "Sc                                 600145 non-null float64\n",
      "STot                               600145 non-null float64\n",
      "VlnMean                            600145 non-null float64\n",
      "VllMean                            600145 non-null float64\n",
      "Pb                                 600145 non-null float64\n",
      "SlidingWindowRealPowerDemand3Ph    600145 non-null float64\n",
      "QTot                               600145 non-null float64\n",
      "EcRec                              600145 non-null float64\n",
      "F                                  600145 non-null float64\n",
      "Ic                                 600145 non-null float64\n",
      "PTot                               600145 non-null float64\n",
      "Qb                                 600145 non-null float64\n",
      "Vab                                600145 non-null float64\n",
      "Vbn                                600145 non-null float64\n",
      "EapcTot                            600145 non-null float64\n",
      "Ib                                 600145 non-null float64\n",
      "EaDel                              600145 non-null float64\n",
      "EaRec                              600145 non-null float64\n",
      "Pc                                 600145 non-null float64\n",
      "ERecTot                            600145 non-null float64\n",
      "Van                                600145 non-null float64\n",
      "EapaTot                            600145 non-null float64\n",
      "Pfc                                600145 non-null float64\n",
      "Pfb                                600145 non-null float64\n",
      "ErePosTot                          600145 non-null float64\n",
      "dtypes: float64(48), timedelta64[ns](1)\n",
      "memory usage: 224.4 MB\n"
     ]
    }
   ],
   "source": [
    "df.info()"
   ]
  },
  {
   "cell_type": "code",
   "execution_count": 33,
   "metadata": {},
   "outputs": [
    {
     "data": {
      "text/plain": [
       "Timedelta('17513 days 09:12:59.076432')"
      ]
     },
     "execution_count": 33,
     "metadata": {},
     "output_type": "execute_result"
    }
   ],
   "source": [
    "df.iloc[3,0]"
   ]
  },
  {
   "cell_type": "code",
   "execution_count": null,
   "metadata": {},
   "outputs": [],
   "source": []
  }
 ],
 "metadata": {
  "kernelspec": {
   "display_name": "Python 3",
   "language": "python",
   "name": "python3"
  },
  "language_info": {
   "codemirror_mode": {
    "name": "ipython",
    "version": 3
   },
   "file_extension": ".py",
   "mimetype": "text/x-python",
   "name": "python",
   "nbconvert_exporter": "python",
   "pygments_lexer": "ipython3",
   "version": "3.6.5"
  }
 },
 "nbformat": 4,
 "nbformat_minor": 2
}
