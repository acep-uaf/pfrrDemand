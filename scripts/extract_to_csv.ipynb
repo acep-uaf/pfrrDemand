{
 "cells": [
  {
   "cell_type": "markdown",
   "metadata": {},
   "source": [
    "## This file shows how to use the function `extract_csv_for_date()`. It extracts the data for a particular date and saves the down-sampled filled data to a csv file for each meter found in the day data directory."
   ]
  },
  {
   "cell_type": "code",
   "execution_count": 1,
   "metadata": {},
   "outputs": [],
   "source": [
    "# All the imports \n",
    "import os\n",
    "import sys\n",
    "import pandas as pd"
   ]
  },
  {
   "cell_type": "code",
   "execution_count": 2,
   "metadata": {},
   "outputs": [],
   "source": [
    "# Import the function - after \"pip\" installing the package\n",
    "from demand_acep.extract_data_to_csv import extract_csv_for_date"
   ]
  },
  {
   "cell_type": "code",
   "execution_count": 3,
   "metadata": {},
   "outputs": [
    {
     "name": "stdout",
     "output_type": "stream",
     "text": [
      "Config imported\n",
      "   meter_name  meter_type\n",
      "0  PkFltM1Ant  WattsOnMk2\n",
      "1  PkFltM2Tel  WattsOnMk2\n",
      "2  PkFltM3Sci  WattsOnMk2\n",
      "3      PQube3       PQube\n"
     ]
    }
   ],
   "source": [
    "# Import the config\n",
    "import config"
   ]
  },
  {
   "cell_type": "code",
   "execution_count": 4,
   "metadata": {},
   "outputs": [],
   "source": [
    "# The date we want to extract the data for\n",
    "data_date = '11/02/2017'"
   ]
  },
  {
   "cell_type": "code",
   "execution_count": 5,
   "metadata": {},
   "outputs": [
    {
     "name": "stdout",
     "output_type": "stream",
     "text": [
      "CPU times: user 6min 37s, sys: 5.93 s, total: 6min 43s\n",
      "Wall time: 6min 51s\n"
     ]
    }
   ],
   "source": [
    "%%time\n",
    "# Generate the csvs for the day\n",
    "meter_csv_names = extract_csv_for_date(config, data_date)"
   ]
  }
 ],
 "metadata": {
  "kernelspec": {
   "display_name": "Python 3",
   "language": "python",
   "name": "python3"
  },
  "language_info": {
   "codemirror_mode": {
    "name": "ipython",
    "version": 3
   },
   "file_extension": ".py",
   "mimetype": "text/x-python",
   "name": "python",
   "nbconvert_exporter": "python",
   "pygments_lexer": "ipython3",
   "version": "3.6.5"
  }
 },
 "nbformat": 4,
 "nbformat_minor": 2
}
