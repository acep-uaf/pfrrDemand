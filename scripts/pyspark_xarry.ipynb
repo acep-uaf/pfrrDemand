{
 "cells": [
  {
   "cell_type": "code",
   "execution_count": 1,
   "metadata": {},
   "outputs": [],
   "source": [
    "from sparkxarray.reader import ncread\n",
    "from pyspark.sql import SparkSession\n",
    "from pyspark import SparkContext, SparkConf"
   ]
  },
  {
   "cell_type": "code",
   "execution_count": 2,
   "metadata": {},
   "outputs": [
    {
     "name": "stderr",
     "output_type": "stream",
     "text": [
      "/home/chintan/anaconda3/lib/python3.7/site-packages/spark_xarray-0.1.dev0-py3.7.egg/sparkxarray/reader.py:98: FutureWarning: The autoclose argument is no longer used by xarray.open_dataset() and is now ignored; it will be removed in a future version of xarray. If necessary, you can control the maximum number of simultaneous open files with xarray.set_options(file_cache_maxsize=...).\n",
      "  dset = xr.open_dataset(paths, autoclose=True, decode_times=decode_times)\n"
     ]
    },
    {
     "data": {
      "text/plain": [
       "<xarray.Dataset>\n",
       "Dimensions:  (time: 1)\n",
       "Coordinates:\n",
       "  * time     (time) timedelta64[ns] 17501 days 09:10:05.106477\n",
       "Data variables:\n",
       "    value    (time) float64 ...\n",
       "Attributes:\n",
       "    Latitude:      65.12524\n",
       "    Longitude:     -147.487778\n",
       "    AirportCode:   FAI\n",
       "    PlaceName:     PokerFlatResearchRange\n",
       "    UtilityName:   GVEA\n",
       "    StationName:   PokerFlat\n",
       "    Make:          ELKOR\n",
       "    Model:         WattsOn\n",
       "    SpecSheetURL:  http://www.elkor.net/pdfs/WattsOn-Mark_II_Datasheet.pdf"
      ]
     },
     "execution_count": 2,
     "metadata": {},
     "output_type": "execute_result"
    }
   ],
   "source": [
    "spark = SparkSession.builder.appName('spark-rdd').getOrCreate()\n",
    "sc = spark.sparkContext\n",
    "filepath='/mnt/c/temp/pythonapps/scripts/PokerFlatResearchRange-PokerFlat-PkFltM1AntEaDel@2017-12-01T091005Z@PT23H@PT145F.nc'\n",
    "# Create an RDD\n",
    "rdd = ncread(sc, filepath, mode='single', partition_on=['time'], partitions=100)\n",
    "rdd.first()  # Get the first element"
   ]
  },
  {
   "cell_type": "code",
   "execution_count": 3,
   "metadata": {},
   "outputs": [
    {
     "data": {
      "text/plain": [
       "100"
      ]
     },
     "execution_count": 3,
     "metadata": {},
     "output_type": "execute_result"
    }
   ],
   "source": [
    "rdd.getNumPartitions()"
   ]
  },
  {
   "cell_type": "code",
   "execution_count": 8,
   "metadata": {},
   "outputs": [],
   "source": [
    "#rdd.map(lambda r: r.value).collect()"
   ]
  },
  {
   "cell_type": "code",
   "execution_count": 10,
   "metadata": {},
   "outputs": [
    {
     "ename": "KeyboardInterrupt",
     "evalue": "",
     "output_type": "error",
     "traceback": [
      "\u001b[0;31m---------------------------------------------------------------------------\u001b[0m",
      "\u001b[0;31mKeyboardInterrupt\u001b[0m                         Traceback (most recent call last)",
      "\u001b[0;32m<ipython-input-10-377a7789e04b>\u001b[0m in \u001b[0;36m<module>\u001b[0;34m\u001b[0m\n\u001b[0;32m----> 1\u001b[0;31m \u001b[0mrdd\u001b[0m\u001b[0;34m.\u001b[0m\u001b[0mcount\u001b[0m\u001b[0;34m(\u001b[0m\u001b[0;34m)\u001b[0m\u001b[0;34m\u001b[0m\u001b[0;34m\u001b[0m\u001b[0m\n\u001b[0m",
      "\u001b[0;32m~/anaconda3/lib/python3.7/site-packages/pyspark/rdd.py\u001b[0m in \u001b[0;36mcount\u001b[0;34m(self)\u001b[0m\n\u001b[1;32m   1053\u001b[0m         \u001b[0;36m3\u001b[0m\u001b[0;34m\u001b[0m\u001b[0;34m\u001b[0m\u001b[0m\n\u001b[1;32m   1054\u001b[0m         \"\"\"\n\u001b[0;32m-> 1055\u001b[0;31m         \u001b[0;32mreturn\u001b[0m \u001b[0mself\u001b[0m\u001b[0;34m.\u001b[0m\u001b[0mmapPartitions\u001b[0m\u001b[0;34m(\u001b[0m\u001b[0;32mlambda\u001b[0m \u001b[0mi\u001b[0m\u001b[0;34m:\u001b[0m \u001b[0;34m[\u001b[0m\u001b[0msum\u001b[0m\u001b[0;34m(\u001b[0m\u001b[0;36m1\u001b[0m \u001b[0;32mfor\u001b[0m \u001b[0m_\u001b[0m \u001b[0;32min\u001b[0m \u001b[0mi\u001b[0m\u001b[0;34m)\u001b[0m\u001b[0;34m]\u001b[0m\u001b[0;34m)\u001b[0m\u001b[0;34m.\u001b[0m\u001b[0msum\u001b[0m\u001b[0;34m(\u001b[0m\u001b[0;34m)\u001b[0m\u001b[0;34m\u001b[0m\u001b[0;34m\u001b[0m\u001b[0m\n\u001b[0m\u001b[1;32m   1056\u001b[0m \u001b[0;34m\u001b[0m\u001b[0m\n\u001b[1;32m   1057\u001b[0m     \u001b[0;32mdef\u001b[0m \u001b[0mstats\u001b[0m\u001b[0;34m(\u001b[0m\u001b[0mself\u001b[0m\u001b[0;34m)\u001b[0m\u001b[0;34m:\u001b[0m\u001b[0;34m\u001b[0m\u001b[0;34m\u001b[0m\u001b[0m\n",
      "\u001b[0;32m~/anaconda3/lib/python3.7/site-packages/pyspark/rdd.py\u001b[0m in \u001b[0;36msum\u001b[0;34m(self)\u001b[0m\n\u001b[1;32m   1044\u001b[0m         \u001b[0;36m6.0\u001b[0m\u001b[0;34m\u001b[0m\u001b[0;34m\u001b[0m\u001b[0m\n\u001b[1;32m   1045\u001b[0m         \"\"\"\n\u001b[0;32m-> 1046\u001b[0;31m         \u001b[0;32mreturn\u001b[0m \u001b[0mself\u001b[0m\u001b[0;34m.\u001b[0m\u001b[0mmapPartitions\u001b[0m\u001b[0;34m(\u001b[0m\u001b[0;32mlambda\u001b[0m \u001b[0mx\u001b[0m\u001b[0;34m:\u001b[0m \u001b[0;34m[\u001b[0m\u001b[0msum\u001b[0m\u001b[0;34m(\u001b[0m\u001b[0mx\u001b[0m\u001b[0;34m)\u001b[0m\u001b[0;34m]\u001b[0m\u001b[0;34m)\u001b[0m\u001b[0;34m.\u001b[0m\u001b[0mfold\u001b[0m\u001b[0;34m(\u001b[0m\u001b[0;36m0\u001b[0m\u001b[0;34m,\u001b[0m \u001b[0moperator\u001b[0m\u001b[0;34m.\u001b[0m\u001b[0madd\u001b[0m\u001b[0;34m)\u001b[0m\u001b[0;34m\u001b[0m\u001b[0;34m\u001b[0m\u001b[0m\n\u001b[0m\u001b[1;32m   1047\u001b[0m \u001b[0;34m\u001b[0m\u001b[0m\n\u001b[1;32m   1048\u001b[0m     \u001b[0;32mdef\u001b[0m \u001b[0mcount\u001b[0m\u001b[0;34m(\u001b[0m\u001b[0mself\u001b[0m\u001b[0;34m)\u001b[0m\u001b[0;34m:\u001b[0m\u001b[0;34m\u001b[0m\u001b[0;34m\u001b[0m\u001b[0m\n",
      "\u001b[0;32m~/anaconda3/lib/python3.7/site-packages/pyspark/rdd.py\u001b[0m in \u001b[0;36mfold\u001b[0;34m(self, zeroValue, op)\u001b[0m\n\u001b[1;32m    915\u001b[0m         \u001b[0;31m# zeroValue provided to each partition is unique from the one provided\u001b[0m\u001b[0;34m\u001b[0m\u001b[0;34m\u001b[0m\u001b[0;34m\u001b[0m\u001b[0m\n\u001b[1;32m    916\u001b[0m         \u001b[0;31m# to the final reduce call\u001b[0m\u001b[0;34m\u001b[0m\u001b[0;34m\u001b[0m\u001b[0;34m\u001b[0m\u001b[0m\n\u001b[0;32m--> 917\u001b[0;31m         \u001b[0mvals\u001b[0m \u001b[0;34m=\u001b[0m \u001b[0mself\u001b[0m\u001b[0;34m.\u001b[0m\u001b[0mmapPartitions\u001b[0m\u001b[0;34m(\u001b[0m\u001b[0mfunc\u001b[0m\u001b[0;34m)\u001b[0m\u001b[0;34m.\u001b[0m\u001b[0mcollect\u001b[0m\u001b[0;34m(\u001b[0m\u001b[0;34m)\u001b[0m\u001b[0;34m\u001b[0m\u001b[0;34m\u001b[0m\u001b[0m\n\u001b[0m\u001b[1;32m    918\u001b[0m         \u001b[0;32mreturn\u001b[0m \u001b[0mreduce\u001b[0m\u001b[0;34m(\u001b[0m\u001b[0mop\u001b[0m\u001b[0;34m,\u001b[0m \u001b[0mvals\u001b[0m\u001b[0;34m,\u001b[0m \u001b[0mzeroValue\u001b[0m\u001b[0;34m)\u001b[0m\u001b[0;34m\u001b[0m\u001b[0;34m\u001b[0m\u001b[0m\n\u001b[1;32m    919\u001b[0m \u001b[0;34m\u001b[0m\u001b[0m\n",
      "\u001b[0;32m~/anaconda3/lib/python3.7/site-packages/pyspark/rdd.py\u001b[0m in \u001b[0;36mcollect\u001b[0;34m(self)\u001b[0m\n\u001b[1;32m    814\u001b[0m         \"\"\"\n\u001b[1;32m    815\u001b[0m         \u001b[0;32mwith\u001b[0m \u001b[0mSCCallSiteSync\u001b[0m\u001b[0;34m(\u001b[0m\u001b[0mself\u001b[0m\u001b[0;34m.\u001b[0m\u001b[0mcontext\u001b[0m\u001b[0;34m)\u001b[0m \u001b[0;32mas\u001b[0m \u001b[0mcss\u001b[0m\u001b[0;34m:\u001b[0m\u001b[0;34m\u001b[0m\u001b[0;34m\u001b[0m\u001b[0m\n\u001b[0;32m--> 816\u001b[0;31m             \u001b[0msock_info\u001b[0m \u001b[0;34m=\u001b[0m \u001b[0mself\u001b[0m\u001b[0;34m.\u001b[0m\u001b[0mctx\u001b[0m\u001b[0;34m.\u001b[0m\u001b[0m_jvm\u001b[0m\u001b[0;34m.\u001b[0m\u001b[0mPythonRDD\u001b[0m\u001b[0;34m.\u001b[0m\u001b[0mcollectAndServe\u001b[0m\u001b[0;34m(\u001b[0m\u001b[0mself\u001b[0m\u001b[0;34m.\u001b[0m\u001b[0m_jrdd\u001b[0m\u001b[0;34m.\u001b[0m\u001b[0mrdd\u001b[0m\u001b[0;34m(\u001b[0m\u001b[0;34m)\u001b[0m\u001b[0;34m)\u001b[0m\u001b[0;34m\u001b[0m\u001b[0;34m\u001b[0m\u001b[0m\n\u001b[0m\u001b[1;32m    817\u001b[0m         \u001b[0;32mreturn\u001b[0m \u001b[0mlist\u001b[0m\u001b[0;34m(\u001b[0m\u001b[0m_load_from_socket\u001b[0m\u001b[0;34m(\u001b[0m\u001b[0msock_info\u001b[0m\u001b[0;34m,\u001b[0m \u001b[0mself\u001b[0m\u001b[0;34m.\u001b[0m\u001b[0m_jrdd_deserializer\u001b[0m\u001b[0;34m)\u001b[0m\u001b[0;34m)\u001b[0m\u001b[0;34m\u001b[0m\u001b[0;34m\u001b[0m\u001b[0m\n\u001b[1;32m    818\u001b[0m \u001b[0;34m\u001b[0m\u001b[0m\n",
      "\u001b[0;32m~/anaconda3/lib/python3.7/site-packages/py4j/java_gateway.py\u001b[0m in \u001b[0;36m__call__\u001b[0;34m(self, *args)\u001b[0m\n\u001b[1;32m   1253\u001b[0m             \u001b[0mproto\u001b[0m\u001b[0;34m.\u001b[0m\u001b[0mEND_COMMAND_PART\u001b[0m\u001b[0;34m\u001b[0m\u001b[0;34m\u001b[0m\u001b[0m\n\u001b[1;32m   1254\u001b[0m \u001b[0;34m\u001b[0m\u001b[0m\n\u001b[0;32m-> 1255\u001b[0;31m         \u001b[0manswer\u001b[0m \u001b[0;34m=\u001b[0m \u001b[0mself\u001b[0m\u001b[0;34m.\u001b[0m\u001b[0mgateway_client\u001b[0m\u001b[0;34m.\u001b[0m\u001b[0msend_command\u001b[0m\u001b[0;34m(\u001b[0m\u001b[0mcommand\u001b[0m\u001b[0;34m)\u001b[0m\u001b[0;34m\u001b[0m\u001b[0;34m\u001b[0m\u001b[0m\n\u001b[0m\u001b[1;32m   1256\u001b[0m         return_value = get_return_value(\n\u001b[1;32m   1257\u001b[0m             answer, self.gateway_client, self.target_id, self.name)\n",
      "\u001b[0;32m~/anaconda3/lib/python3.7/site-packages/py4j/java_gateway.py\u001b[0m in \u001b[0;36msend_command\u001b[0;34m(self, command, retry, binary)\u001b[0m\n\u001b[1;32m    983\u001b[0m         \u001b[0mconnection\u001b[0m \u001b[0;34m=\u001b[0m \u001b[0mself\u001b[0m\u001b[0;34m.\u001b[0m\u001b[0m_get_connection\u001b[0m\u001b[0;34m(\u001b[0m\u001b[0;34m)\u001b[0m\u001b[0;34m\u001b[0m\u001b[0;34m\u001b[0m\u001b[0m\n\u001b[1;32m    984\u001b[0m         \u001b[0;32mtry\u001b[0m\u001b[0;34m:\u001b[0m\u001b[0;34m\u001b[0m\u001b[0;34m\u001b[0m\u001b[0m\n\u001b[0;32m--> 985\u001b[0;31m             \u001b[0mresponse\u001b[0m \u001b[0;34m=\u001b[0m \u001b[0mconnection\u001b[0m\u001b[0;34m.\u001b[0m\u001b[0msend_command\u001b[0m\u001b[0;34m(\u001b[0m\u001b[0mcommand\u001b[0m\u001b[0;34m)\u001b[0m\u001b[0;34m\u001b[0m\u001b[0;34m\u001b[0m\u001b[0m\n\u001b[0m\u001b[1;32m    986\u001b[0m             \u001b[0;32mif\u001b[0m \u001b[0mbinary\u001b[0m\u001b[0;34m:\u001b[0m\u001b[0;34m\u001b[0m\u001b[0;34m\u001b[0m\u001b[0m\n\u001b[1;32m    987\u001b[0m                 \u001b[0;32mreturn\u001b[0m \u001b[0mresponse\u001b[0m\u001b[0;34m,\u001b[0m \u001b[0mself\u001b[0m\u001b[0;34m.\u001b[0m\u001b[0m_create_connection_guard\u001b[0m\u001b[0;34m(\u001b[0m\u001b[0mconnection\u001b[0m\u001b[0;34m)\u001b[0m\u001b[0;34m\u001b[0m\u001b[0;34m\u001b[0m\u001b[0m\n",
      "\u001b[0;32m~/anaconda3/lib/python3.7/site-packages/py4j/java_gateway.py\u001b[0m in \u001b[0;36msend_command\u001b[0;34m(self, command)\u001b[0m\n\u001b[1;32m   1150\u001b[0m \u001b[0;34m\u001b[0m\u001b[0m\n\u001b[1;32m   1151\u001b[0m         \u001b[0;32mtry\u001b[0m\u001b[0;34m:\u001b[0m\u001b[0;34m\u001b[0m\u001b[0;34m\u001b[0m\u001b[0m\n\u001b[0;32m-> 1152\u001b[0;31m             \u001b[0manswer\u001b[0m \u001b[0;34m=\u001b[0m \u001b[0msmart_decode\u001b[0m\u001b[0;34m(\u001b[0m\u001b[0mself\u001b[0m\u001b[0;34m.\u001b[0m\u001b[0mstream\u001b[0m\u001b[0;34m.\u001b[0m\u001b[0mreadline\u001b[0m\u001b[0;34m(\u001b[0m\u001b[0;34m)\u001b[0m\u001b[0;34m[\u001b[0m\u001b[0;34m:\u001b[0m\u001b[0;34m-\u001b[0m\u001b[0;36m1\u001b[0m\u001b[0;34m]\u001b[0m\u001b[0;34m)\u001b[0m\u001b[0;34m\u001b[0m\u001b[0;34m\u001b[0m\u001b[0m\n\u001b[0m\u001b[1;32m   1153\u001b[0m             \u001b[0mlogger\u001b[0m\u001b[0;34m.\u001b[0m\u001b[0mdebug\u001b[0m\u001b[0;34m(\u001b[0m\u001b[0;34m\"Answer received: {0}\"\u001b[0m\u001b[0;34m.\u001b[0m\u001b[0mformat\u001b[0m\u001b[0;34m(\u001b[0m\u001b[0manswer\u001b[0m\u001b[0;34m)\u001b[0m\u001b[0;34m)\u001b[0m\u001b[0;34m\u001b[0m\u001b[0;34m\u001b[0m\u001b[0m\n\u001b[1;32m   1154\u001b[0m             \u001b[0;32mif\u001b[0m \u001b[0manswer\u001b[0m\u001b[0;34m.\u001b[0m\u001b[0mstartswith\u001b[0m\u001b[0;34m(\u001b[0m\u001b[0mproto\u001b[0m\u001b[0;34m.\u001b[0m\u001b[0mRETURN_MESSAGE\u001b[0m\u001b[0;34m)\u001b[0m\u001b[0;34m:\u001b[0m\u001b[0;34m\u001b[0m\u001b[0;34m\u001b[0m\u001b[0m\n",
      "\u001b[0;32m~/anaconda3/lib/python3.7/socket.py\u001b[0m in \u001b[0;36mreadinto\u001b[0;34m(self, b)\u001b[0m\n\u001b[1;32m    587\u001b[0m         \u001b[0;32mwhile\u001b[0m \u001b[0;32mTrue\u001b[0m\u001b[0;34m:\u001b[0m\u001b[0;34m\u001b[0m\u001b[0;34m\u001b[0m\u001b[0m\n\u001b[1;32m    588\u001b[0m             \u001b[0;32mtry\u001b[0m\u001b[0;34m:\u001b[0m\u001b[0;34m\u001b[0m\u001b[0;34m\u001b[0m\u001b[0m\n\u001b[0;32m--> 589\u001b[0;31m                 \u001b[0;32mreturn\u001b[0m \u001b[0mself\u001b[0m\u001b[0;34m.\u001b[0m\u001b[0m_sock\u001b[0m\u001b[0;34m.\u001b[0m\u001b[0mrecv_into\u001b[0m\u001b[0;34m(\u001b[0m\u001b[0mb\u001b[0m\u001b[0;34m)\u001b[0m\u001b[0;34m\u001b[0m\u001b[0;34m\u001b[0m\u001b[0m\n\u001b[0m\u001b[1;32m    590\u001b[0m             \u001b[0;32mexcept\u001b[0m \u001b[0mtimeout\u001b[0m\u001b[0;34m:\u001b[0m\u001b[0;34m\u001b[0m\u001b[0;34m\u001b[0m\u001b[0m\n\u001b[1;32m    591\u001b[0m                 \u001b[0mself\u001b[0m\u001b[0;34m.\u001b[0m\u001b[0m_timeout_occurred\u001b[0m \u001b[0;34m=\u001b[0m \u001b[0;32mTrue\u001b[0m\u001b[0;34m\u001b[0m\u001b[0;34m\u001b[0m\u001b[0m\n",
      "\u001b[0;31mKeyboardInterrupt\u001b[0m: "
     ]
    }
   ],
   "source": [
    "rdd.count()"
   ]
  },
  {
   "cell_type": "code",
   "execution_count": 5,
   "metadata": {},
   "outputs": [],
   "source": [
    "import xarray as xr"
   ]
  },
  {
   "cell_type": "code",
   "execution_count": 6,
   "metadata": {},
   "outputs": [],
   "source": [
    "netcdf_data = xr.open_dataset(\"/mnt/c/temp/pythonapps/scripts/PokerFlatResearchRange-PokerFlat-PkFltM1AntEaDel@2017-12-01T091005Z@PT23H@PT145F.nc\")"
   ]
  },
  {
   "cell_type": "code",
   "execution_count": 7,
   "metadata": {},
   "outputs": [
    {
     "data": {
      "text/plain": [
       "<xarray.Dataset>\n",
       "Dimensions:  (time: 593769)\n",
       "Coordinates:\n",
       "  * time     (time) timedelta64[ns] 17501 days 09:10:05.106477 ... 17502 days 09:10:02.802385\n",
       "Data variables:\n",
       "    value    (time) float64 ...\n",
       "Attributes:\n",
       "    Latitude:      65.12524\n",
       "    Longitude:     -147.487778\n",
       "    AirportCode:   FAI\n",
       "    PlaceName:     PokerFlatResearchRange\n",
       "    UtilityName:   GVEA\n",
       "    StationName:   PokerFlat\n",
       "    Make:          ELKOR\n",
       "    Model:         WattsOn\n",
       "    SpecSheetURL:  http://www.elkor.net/pdfs/WattsOn-Mark_II_Datasheet.pdf"
      ]
     },
     "execution_count": 7,
     "metadata": {},
     "output_type": "execute_result"
    }
   ],
   "source": [
    "netcdf_data"
   ]
  },
  {
   "cell_type": "code",
   "execution_count": 13,
   "metadata": {},
   "outputs": [
    {
     "data": {
      "text/plain": [
       "OrderedDict([('Latitude', '65.12524'),\n",
       "             ('Longitude', '-147.487778'),\n",
       "             ('AirportCode', 'FAI'),\n",
       "             ('PlaceName', 'PokerFlatResearchRange'),\n",
       "             ('UtilityName', 'GVEA'),\n",
       "             ('StationName', 'PokerFlat'),\n",
       "             ('Make', 'ELKOR'),\n",
       "             ('Model', 'WattsOn'),\n",
       "             ('SpecSheetURL',\n",
       "              'http://www.elkor.net/pdfs/WattsOn-Mark_II_Datasheet.pdf')])"
      ]
     },
     "execution_count": 13,
     "metadata": {},
     "output_type": "execute_result"
    }
   ],
   "source": [
    "netcdf_data.attrs"
   ]
  },
  {
   "cell_type": "code",
   "execution_count": 14,
   "metadata": {},
   "outputs": [],
   "source": [
    "nd2 = xr.open_dataset(\"/mnt/c/temp/pythonapps/scripts/PokerFlatResearchRange-PokerFlat-PkFltM1AntEaNetTot@2017-12-01T091005Z@PT23H@PT145F.nc\")"
   ]
  },
  {
   "cell_type": "code",
   "execution_count": 24,
   "metadata": {},
   "outputs": [
    {
     "data": {
      "text/plain": [
       "<xarray.DataArray 'value' ()>\n",
       "array(75352.)\n",
       "Coordinates:\n",
       "    time     timedelta64[ns] 17501 days 09:12:58.218763\n",
       "Attributes:\n",
       "    description:             Export Energy A\n",
       "    TypeOfMeasurement:       Energy\n",
       "    Accuracy:                0.20%\n",
       "    Resolution:              \n",
       "    Units:                   kWh\n",
       "    DeviceRangeMax:          \n",
       "    DeviceRangeMin:          \n",
       "    DeviceInstallationDate:  \n",
       "    Type:                    \n",
       "    TypeDescription:         \n",
       "    Make:                    \n",
       "    Model:                   \n",
       "    Year:                    \n",
       "    DateInstalled:           \n",
       "    URLOfQAReport:           \n",
       "    URLOfDataLicense:        \n",
       "    DataProvider:            ACEP\n",
       "    QAProvider:              \n",
       "    CopyrightHolder:         ACEP\n",
       "    URI:                     \n",
       "    time:                    \n",
       "    value:                   \n",
       "    SamplingRate:            \n",
       "    Scale:                   1\n",
       "    Offset:                  0\n",
       "    RangeMax:                \n",
       "    RangeMin:                \n",
       "    TheoreticalRangeMax:     \n",
       "    TheoreticalRangeMin:     \n",
       "    ChannelName:             FLOAT\n",
       "    OriginalChannelName:     4915\n",
       "    OriginalUnits:           kWh\n",
       "    DailyMin:                \n",
       "    DailyMax:                \n",
       "    DailyMean:               \n",
       "    DailyStdDev:             \n",
       "    MonthlyMin:              \n",
       "    MonthlyMax:              \n",
       "    MonthlyMean:             \n",
       "    MonthlyStdDev:           \n",
       "    StartTime:               \n",
       "    Length:                  \n",
       "    AUX_GroupType:           Updated\n",
       "    AUX_Group:               Energy\n",
       "    AUX_Description:         Delivered Energy A\n",
       "    AUX_LastSampleLabel:     EaDel(KWh)"
      ]
     },
     "execution_count": 24,
     "metadata": {},
     "output_type": "execute_result"
    }
   ],
   "source": [
    "netcdf_data.value[1]"
   ]
  },
  {
   "cell_type": "code",
   "execution_count": 31,
   "metadata": {},
   "outputs": [],
   "source": [
    "nd21 = xr.merge([netcdf_data, nd2], join='outer')"
   ]
  },
  {
   "cell_type": "code",
   "execution_count": 32,
   "metadata": {},
   "outputs": [
    {
     "data": {
      "text/plain": [
       "<bound method ImplementsDatasetReduce._reduce_method.<locals>.wrapped_func of <xarray.Dataset>\n",
       "Dimensions:  (time: 1187538)\n",
       "Coordinates:\n",
       "  * time     (time) timedelta64[ns] 17501 days 09:10:05.106477 ... 17502 days 09:10:02.829617\n",
       "Data variables:\n",
       "    value    (time) float64 7.535e+04 2.809e+05 ... 7.591e+04 2.831e+05>"
      ]
     },
     "execution_count": 32,
     "metadata": {},
     "output_type": "execute_result"
    }
   ],
   "source": [
    "nd21.var"
   ]
  },
  {
   "cell_type": "code",
   "execution_count": 27,
   "metadata": {},
   "outputs": [
    {
     "data": {
      "text/plain": [
       "<bound method ImplementsDatasetReduce._reduce_method.<locals>.wrapped_func of <xarray.Dataset>\n",
       "Dimensions:  (time: 593769)\n",
       "Coordinates:\n",
       "  * time     (time) timedelta64[ns] 17501 days 09:10:05.188791 ... 17502 days 09:10:02.829617\n",
       "Data variables:\n",
       "    value    (time) float64 ...\n",
       "Attributes:\n",
       "    Latitude:      65.12524\n",
       "    Longitude:     -147.487778\n",
       "    AirportCode:   FAI\n",
       "    PlaceName:     PokerFlatResearchRange\n",
       "    UtilityName:   GVEA\n",
       "    StationName:   PokerFlat\n",
       "    Make:          ELKOR\n",
       "    Model:         WattsOn\n",
       "    SpecSheetURL:  http://www.elkor.net/pdfs/WattsOn-Mark_II_Datasheet.pdf>"
      ]
     },
     "execution_count": 27,
     "metadata": {},
     "output_type": "execute_result"
    }
   ],
   "source": [
    "nd2.var"
   ]
  },
  {
   "cell_type": "code",
   "execution_count": 28,
   "metadata": {},
   "outputs": [
    {
     "data": {
      "text/plain": [
       "<xarray.DataArray 'value' ()>\n",
       "array(280939.5625)\n",
       "Coordinates:\n",
       "    time     timedelta64[ns] 17501 days 09:12:58.246846\n",
       "Attributes:\n",
       "    description:             Net Total Energy A\n",
       "    TypeOfMeasurement:       Energy\n",
       "    Accuracy:                0.20%\n",
       "    Resolution:              \n",
       "    Units:                   kWh\n",
       "    DeviceRangeMax:          \n",
       "    DeviceRangeMin:          \n",
       "    DeviceInstallationDate:  \n",
       "    Type:                    \n",
       "    TypeDescription:         \n",
       "    Make:                    \n",
       "    Model:                   \n",
       "    Year:                    \n",
       "    DateInstalled:           \n",
       "    URLOfQAReport:           \n",
       "    URLOfDataLicense:        \n",
       "    DataProvider:            ACEP\n",
       "    QAProvider:              \n",
       "    CopyrightHolder:         ACEP\n",
       "    URI:                     \n",
       "    time:                    \n",
       "    value:                   \n",
       "    SamplingRate:            \n",
       "    Scale:                   1\n",
       "    Offset:                  0\n",
       "    RangeMax:                \n",
       "    RangeMin:                \n",
       "    TheoreticalRangeMax:     \n",
       "    TheoreticalRangeMin:     \n",
       "    ChannelName:             FLOAT\n",
       "    OriginalChannelName:     4897\n",
       "    OriginalUnits:           kWh\n",
       "    DailyMin:                \n",
       "    DailyMax:                \n",
       "    DailyMean:               \n",
       "    DailyStdDev:             \n",
       "    MonthlyMin:              \n",
       "    MonthlyMax:              \n",
       "    MonthlyMean:             \n",
       "    MonthlyStdDev:           \n",
       "    StartTime:               \n",
       "    Length:                  \n",
       "    AUX_GroupType:           Updated\n",
       "    AUX_Group:               Energy\n",
       "    AUX_Description:         Net Energy A\n",
       "    AUX_LastSampleLabel:     EaNetTot(KWh)"
      ]
     },
     "execution_count": 28,
     "metadata": {},
     "output_type": "execute_result"
    }
   ],
   "source": [
    "nd2.value[1]"
   ]
  },
  {
   "cell_type": "code",
   "execution_count": 33,
   "metadata": {},
   "outputs": [
    {
     "data": {
      "text/plain": [
       "<xarray.DataArray 'value' ()>\n",
       "array(280937.71875)\n",
       "Coordinates:\n",
       "    time     timedelta64[ns] 17501 days 09:10:05.188791\n",
       "Attributes:\n",
       "    description:             Net Total Energy A\n",
       "    TypeOfMeasurement:       Energy\n",
       "    Accuracy:                0.20%\n",
       "    Resolution:              \n",
       "    Units:                   kWh\n",
       "    DeviceRangeMax:          \n",
       "    DeviceRangeMin:          \n",
       "    DeviceInstallationDate:  \n",
       "    Type:                    \n",
       "    TypeDescription:         \n",
       "    Make:                    \n",
       "    Model:                   \n",
       "    Year:                    \n",
       "    DateInstalled:           \n",
       "    URLOfQAReport:           \n",
       "    URLOfDataLicense:        \n",
       "    DataProvider:            ACEP\n",
       "    QAProvider:              \n",
       "    CopyrightHolder:         ACEP\n",
       "    URI:                     \n",
       "    time:                    \n",
       "    value:                   \n",
       "    SamplingRate:            \n",
       "    Scale:                   1\n",
       "    Offset:                  0\n",
       "    RangeMax:                \n",
       "    RangeMin:                \n",
       "    TheoreticalRangeMax:     \n",
       "    TheoreticalRangeMin:     \n",
       "    ChannelName:             FLOAT\n",
       "    OriginalChannelName:     4897\n",
       "    OriginalUnits:           kWh\n",
       "    DailyMin:                \n",
       "    DailyMax:                \n",
       "    DailyMean:               \n",
       "    DailyStdDev:             \n",
       "    MonthlyMin:              \n",
       "    MonthlyMax:              \n",
       "    MonthlyMean:             \n",
       "    MonthlyStdDev:           \n",
       "    StartTime:               \n",
       "    Length:                  \n",
       "    AUX_GroupType:           Updated\n",
       "    AUX_Group:               Energy\n",
       "    AUX_Description:         Net Energy A\n",
       "    AUX_LastSampleLabel:     EaNetTot(KWh)"
      ]
     },
     "execution_count": 33,
     "metadata": {},
     "output_type": "execute_result"
    }
   ],
   "source": [
    "nd21.value[1]"
   ]
  },
  {
   "cell_type": "code",
   "execution_count": 36,
   "metadata": {},
   "outputs": [
    {
     "data": {
      "text/plain": [
       "Frozen(SortedKeysDict({'time': 1187538}))"
      ]
     },
     "execution_count": 36,
     "metadata": {},
     "output_type": "execute_result"
    }
   ],
   "source": [
    "nd21.dims"
   ]
  },
  {
   "cell_type": "code",
   "execution_count": 44,
   "metadata": {},
   "outputs": [],
   "source": [
    "nd22 = xr.concat([netcdf_data, nd2], dim='time', data_vars='minimal', )"
   ]
  },
  {
   "cell_type": "code",
   "execution_count": 45,
   "metadata": {},
   "outputs": [
    {
     "data": {
      "text/plain": [
       "<bound method ImplementsDatasetReduce._reduce_method.<locals>.wrapped_func of <xarray.Dataset>\n",
       "Dimensions:  (time: 1187538)\n",
       "Coordinates:\n",
       "  * time     (time) timedelta64[ns] 17501 days 09:10:05.106477 ... 17502 days 09:10:02.829617\n",
       "Data variables:\n",
       "    value    (time) float64 7.535e+04 7.535e+04 ... 2.831e+05 2.831e+05\n",
       "Attributes:\n",
       "    Latitude:      65.12524\n",
       "    Longitude:     -147.487778\n",
       "    AirportCode:   FAI\n",
       "    PlaceName:     PokerFlatResearchRange\n",
       "    UtilityName:   GVEA\n",
       "    StationName:   PokerFlat\n",
       "    Make:          ELKOR\n",
       "    Model:         WattsOn\n",
       "    SpecSheetURL:  http://www.elkor.net/pdfs/WattsOn-Mark_II_Datasheet.pdf>"
      ]
     },
     "execution_count": 45,
     "metadata": {},
     "output_type": "execute_result"
    }
   ],
   "source": [
    "nd22.var"
   ]
  },
  {
   "cell_type": "code",
   "execution_count": 46,
   "metadata": {},
   "outputs": [
    {
     "data": {
      "text/plain": [
       "<xarray.DataArray 'value' ()>\n",
       "array(75352.)\n",
       "Coordinates:\n",
       "    time     timedelta64[ns] 17501 days 09:12:58.218763\n",
       "Attributes:\n",
       "    TypeOfMeasurement:       Energy\n",
       "    Accuracy:                0.20%\n",
       "    Resolution:              \n",
       "    Units:                   kWh\n",
       "    DeviceRangeMax:          \n",
       "    DeviceRangeMin:          \n",
       "    DeviceInstallationDate:  \n",
       "    Type:                    \n",
       "    TypeDescription:         \n",
       "    Make:                    \n",
       "    Model:                   \n",
       "    Year:                    \n",
       "    DateInstalled:           \n",
       "    URLOfQAReport:           \n",
       "    URLOfDataLicense:        \n",
       "    DataProvider:            ACEP\n",
       "    QAProvider:              \n",
       "    CopyrightHolder:         ACEP\n",
       "    URI:                     \n",
       "    time:                    \n",
       "    value:                   \n",
       "    SamplingRate:            \n",
       "    Scale:                   1\n",
       "    Offset:                  0\n",
       "    RangeMax:                \n",
       "    RangeMin:                \n",
       "    TheoreticalRangeMax:     \n",
       "    TheoreticalRangeMin:     \n",
       "    ChannelName:             FLOAT\n",
       "    OriginalUnits:           kWh\n",
       "    DailyMin:                \n",
       "    DailyMax:                \n",
       "    DailyMean:               \n",
       "    DailyStdDev:             \n",
       "    MonthlyMin:              \n",
       "    MonthlyMax:              \n",
       "    MonthlyMean:             \n",
       "    MonthlyStdDev:           \n",
       "    StartTime:               \n",
       "    Length:                  \n",
       "    AUX_GroupType:           Updated\n",
       "    AUX_Group:               Energy"
      ]
     },
     "execution_count": 46,
     "metadata": {},
     "output_type": "execute_result"
    }
   ],
   "source": [
    "nd22.value[1]"
   ]
  },
  {
   "cell_type": "code",
   "execution_count": 43,
   "metadata": {},
   "outputs": [
    {
     "data": {
      "text/plain": [
       "1187538"
      ]
     },
     "execution_count": 43,
     "metadata": {},
     "output_type": "execute_result"
    }
   ],
   "source": [
    "593769*2"
   ]
  },
  {
   "cell_type": "code",
   "execution_count": 48,
   "metadata": {},
   "outputs": [
    {
     "data": {
      "text/plain": [
       "<xarray.DataArray 'time' ()>\n",
       "array(1512119578218763113, dtype='timedelta64[ns]')\n",
       "Coordinates:\n",
       "    time     timedelta64[ns] 17501 days 09:12:58.218763\n",
       "Attributes:\n",
       "    description:  seconds since the UNIX epoch"
      ]
     },
     "execution_count": 48,
     "metadata": {},
     "output_type": "execute_result"
    }
   ],
   "source": [
    "netcdf_data['time'][1]"
   ]
  },
  {
   "cell_type": "code",
   "execution_count": 49,
   "metadata": {},
   "outputs": [
    {
     "data": {
      "text/plain": [
       "<xarray.DataArray 'time' ()>\n",
       "array(1512119578246846914, dtype='timedelta64[ns]')\n",
       "Coordinates:\n",
       "    time     timedelta64[ns] 17501 days 09:12:58.246846\n",
       "Attributes:\n",
       "    description:  seconds since the UNIX epoch"
      ]
     },
     "execution_count": 49,
     "metadata": {},
     "output_type": "execute_result"
    }
   ],
   "source": [
    "nd2.time[1]"
   ]
  },
  {
   "cell_type": "code",
   "execution_count": null,
   "metadata": {},
   "outputs": [],
   "source": []
  }
 ],
 "metadata": {
  "kernelspec": {
   "display_name": "Python 3",
   "language": "python",
   "name": "python3"
  },
  "language_info": {
   "codemirror_mode": {
    "name": "ipython",
    "version": 3
   },
   "file_extension": ".py",
   "mimetype": "text/x-python",
   "name": "python",
   "nbconvert_exporter": "python",
   "pygments_lexer": "ipython3",
   "version": "3.7.1"
  }
 },
 "nbformat": 4,
 "nbformat_minor": 2
}
