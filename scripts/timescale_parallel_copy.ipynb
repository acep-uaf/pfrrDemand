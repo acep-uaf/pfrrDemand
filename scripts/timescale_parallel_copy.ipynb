{
 "cells": [
  {
   "cell_type": "code",
   "execution_count": 1,
   "metadata": {},
   "outputs": [],
   "source": [
    "import pandas as pd\n",
    "import numpy as np\n",
    "import subprocess\n",
    "import os, sys"
   ]
  },
  {
   "cell_type": "code",
   "execution_count": 2,
   "metadata": {},
   "outputs": [],
   "source": [
    "module_path = os.path.abspath(os.path.join('..', 'demand_acep'))\n",
    "if module_path not in sys.path:\n",
    "    sys.path.append(module_path)"
   ]
  },
  {
   "cell_type": "code",
   "execution_count": 3,
   "metadata": {},
   "outputs": [],
   "source": [
    "from timescale_parallel_copy import parallel_copy_data_for_date"
   ]
  },
  {
   "cell_type": "code",
   "execution_count": 4,
   "metadata": {},
   "outputs": [],
   "source": [
    "data_date = '11/02/2017'"
   ]
  },
  {
   "cell_type": "code",
   "execution_count": 5,
   "metadata": {},
   "outputs": [
    {
     "name": "stdout",
     "output_type": "stream",
     "text": [
      "Config imported\n",
      "   meter_name  meter_type\n",
      "0  PkFltM1Ant  WattsOnMk2\n",
      "1  PkFltM2Tel  WattsOnMk2\n",
      "2  PkFltM3Sci  WattsOnMk2\n",
      "3      PQube3       PQube\n"
     ]
    }
   ],
   "source": [
    "import config"
   ]
  },
  {
   "cell_type": "code",
   "execution_count": 6,
   "metadata": {},
   "outputs": [
    {
     "name": "stdout",
     "output_type": "stream",
     "text": [
      "11/02/2017\n",
      "PkFltM1Ant@2017-11-02T081003Z@PT23H@PT155F.csv\n",
      "['/gscratch/stf/demand_acep/go/src/github.com/timescale/timescaledb-parallel-copy/cmd/timescaledb-parallel-copy/timescaledb-parallel-copy', '--db-name', 'demand_acep', '--table', 'PkFltM1Ant_2017', '--file', '/gscratch/stf/demand_acep/Data/2017/11/02/PkFltM1Ant@2017-11-02T081003Z@PT23H@PT155F.csv', '--workers', '28', '--connection', 'host=localhost user=cp84 sslmode=disable']\n",
      "PkFltM3Sci@2017-11-02T083008Z@PT23H@PT154F.csv\n",
      "['/gscratch/stf/demand_acep/go/src/github.com/timescale/timescaledb-parallel-copy/cmd/timescaledb-parallel-copy/timescaledb-parallel-copy', '--db-name', 'demand_acep', '--table', 'PkFltM3Sci_2017', '--file', '/gscratch/stf/demand_acep/Data/2017/11/02/PkFltM3Sci@2017-11-02T083008Z@PT23H@PT154F.csv', '--workers', '28', '--connection', 'host=localhost user=cp84 sslmode=disable']\n",
      "PkFltM2Tel@2017-11-02T082008Z@PT23H@PT154F.csv\n",
      "['/gscratch/stf/demand_acep/go/src/github.com/timescale/timescaledb-parallel-copy/cmd/timescaledb-parallel-copy/timescaledb-parallel-copy', '--db-name', 'demand_acep', '--table', 'PkFltM2Tel_2017', '--file', '/gscratch/stf/demand_acep/Data/2017/11/02/PkFltM2Tel@2017-11-02T082008Z@PT23H@PT154F.csv', '--workers', '28', '--connection', 'host=localhost user=cp84 sslmode=disable']\n",
      "PQube3@2017-11-02T080003Z@P1D@PT171F.csv\n",
      "['/gscratch/stf/demand_acep/go/src/github.com/timescale/timescaledb-parallel-copy/cmd/timescaledb-parallel-copy/timescaledb-parallel-copy', '--db-name', 'demand_acep', '--table', 'PQube3_2017', '--file', '/gscratch/stf/demand_acep/Data/2017/11/02/PQube3@2017-11-02T080003Z@P1D@PT171F.csv', '--workers', '28', '--connection', 'host=localhost user=cp84 sslmode=disable']\n"
     ]
    },
    {
     "data": {
      "text/plain": [
       "{}"
      ]
     },
     "execution_count": 6,
     "metadata": {},
     "output_type": "execute_result"
    }
   ],
   "source": [
    "parallel_copy_data_for_date(config, data_date)"
   ]
  },
  {
   "cell_type": "code",
   "execution_count": 7,
   "metadata": {},
   "outputs": [],
   "source": [
    "strr = 'PQube3@2017-11-01T080002Z@PT23H@PT227F.csv'"
   ]
  },
  {
   "cell_type": "code",
   "execution_count": 8,
   "metadata": {},
   "outputs": [],
   "source": [
    "strs = strr.split('@')"
   ]
  },
  {
   "cell_type": "code",
   "execution_count": 9,
   "metadata": {},
   "outputs": [
    {
     "data": {
      "text/plain": [
       "'PQube3'"
      ]
     },
     "execution_count": 9,
     "metadata": {},
     "output_type": "execute_result"
    }
   ],
   "source": [
    "strs[0]"
   ]
  },
  {
   "cell_type": "code",
   "execution_count": null,
   "metadata": {},
   "outputs": [],
   "source": []
  }
 ],
 "metadata": {
  "kernelspec": {
   "display_name": "Python 3",
   "language": "python",
   "name": "python3"
  },
  "language_info": {
   "codemirror_mode": {
    "name": "ipython",
    "version": 3
   },
   "file_extension": ".py",
   "mimetype": "text/x-python",
   "name": "python",
   "nbconvert_exporter": "python",
   "pygments_lexer": "ipython3",
   "version": "3.6.5"
  }
 },
 "nbformat": 4,
 "nbformat_minor": 2
}
