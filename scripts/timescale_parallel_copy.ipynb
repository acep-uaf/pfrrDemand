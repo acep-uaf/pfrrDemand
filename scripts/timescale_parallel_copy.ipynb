{
 "cells": [
  {
   "cell_type": "code",
   "execution_count": 1,
   "metadata": {},
   "outputs": [],
   "source": [
    "import pandas as pd\n",
    "import numpy as np\n",
    "import subprocess\n",
    "import os, sys"
   ]
  },
  {
   "cell_type": "code",
   "execution_count": 2,
   "metadata": {},
   "outputs": [],
   "source": [
    "module_path = os.path.abspath(os.path.join('..', 'demand_acep'))\n",
    "if module_path not in sys.path:\n",
    "    sys.path.append(module_path)"
   ]
  },
  {
   "cell_type": "code",
   "execution_count": 3,
   "metadata": {},
   "outputs": [
    {
     "name": "stderr",
     "output_type": "stream",
     "text": [
      "/home/ubuntu/anaconda3/lib/python3.7/site-packages/dask/config.py:168: YAMLLoadWarning: calling yaml.load() without Loader=... is deprecated, as the default Loader is unsafe. Please read https://msg.pyyaml.org/load for full details.\n",
      "  data = yaml.load(f.read()) or {}\n",
      "/home/ubuntu/anaconda3/lib/python3.7/site-packages/distributed/config.py:20: YAMLLoadWarning: calling yaml.load() without Loader=... is deprecated, as the default Loader is unsafe. Please read https://msg.pyyaml.org/load for full details.\n",
      "  defaults = yaml.load(f)\n"
     ]
    }
   ],
   "source": [
    "from timescale_parallel_copy import parallel_copy_data_for_date, parallel_copy_data_for_dates"
   ]
  },
  {
   "cell_type": "code",
   "execution_count": 4,
   "metadata": {},
   "outputs": [],
   "source": [
    "data_date = '11/01/2017'"
   ]
  },
  {
   "cell_type": "code",
   "execution_count": 5,
   "metadata": {},
   "outputs": [
    {
     "name": "stdout",
     "output_type": "stream",
     "text": [
      "Config imported\n",
      "   meter_name  meter_type\n",
      "0  PkFltM1Ant  WattsOnMk2\n",
      "1  PkFltM2Tel  WattsOnMk2\n",
      "2  PkFltM3Sci  WattsOnMk2\n",
      "3      PQube3       PQube\n"
     ]
    }
   ],
   "source": [
    "import config"
   ]
  },
  {
   "cell_type": "code",
   "execution_count": 6,
   "metadata": {},
   "outputs": [],
   "source": [
    "#parallel_copy_data_for_date(config, data_date)"
   ]
  },
  {
   "cell_type": "code",
   "execution_count": 7,
   "metadata": {},
   "outputs": [],
   "source": [
    "# Set the start and end date\n",
    "start = \"1st Nov 2017\"\n",
    "end = \"2 Nov 2017\""
   ]
  },
  {
   "cell_type": "code",
   "execution_count": 8,
   "metadata": {},
   "outputs": [
    {
     "name": "stdout",
     "output_type": "stream",
     "text": [
      "Index(['11/01/2017', '11/02/2017'], dtype='object')\n",
      "11/01/2017\n",
      "PkFltM3Sci@2017-11-01T083003Z@P1D@PT210F.csv\n",
      "['timescaledb-parallel-copy', '--db-name', 'demand_acep', '--table', 'PkFltM3Sci_2017', '--file', '/data/data/2017/11/01/PkFltM3Sci@2017-11-01T083003Z@P1D@PT210F.csv', '--workers', '4', '--connection', 'host=localhost user=tsdb_user password=husky123 sslmode=disable', '--skip-header', 'true']\n",
      "COPY 1440\n",
      "\n",
      "PkFltM2Tel@2017-11-01T082008Z@PT23H@PT210F.csv\n",
      "['timescaledb-parallel-copy', '--db-name', 'demand_acep', '--table', 'PkFltM2Tel_2017', '--file', '/data/data/2017/11/01/PkFltM2Tel@2017-11-01T082008Z@PT23H@PT210F.csv', '--workers', '4', '--connection', 'host=localhost user=tsdb_user password=husky123 sslmode=disable', '--skip-header', 'true']\n",
      "COPY 1440\n",
      "\n",
      "PkFltM1Ant@2017-11-01T081003Z@PT23H@PT211F.csv\n",
      "['timescaledb-parallel-copy', '--db-name', 'demand_acep', '--table', 'PkFltM1Ant_2017', '--file', '/data/data/2017/11/01/PkFltM1Ant@2017-11-01T081003Z@PT23H@PT211F.csv', '--workers', '4', '--connection', 'host=localhost user=tsdb_user password=husky123 sslmode=disable', '--skip-header', 'true']\n",
      "COPY 1440\n",
      "\n",
      "PQube3@2017-11-01T080002Z@PT23H@PT227F.csv\n",
      "['timescaledb-parallel-copy', '--db-name', 'demand_acep', '--table', 'PQube3_2017', '--file', '/data/data/2017/11/01/PQube3@2017-11-01T080002Z@PT23H@PT227F.csv', '--workers', '4', '--connection', 'host=localhost user=tsdb_user password=husky123 sslmode=disable', '--skip-header', 'true']\n",
      "COPY 1440\n",
      "\n",
      "11/02/2017\n",
      "PkFltM1Ant@2017-11-02T081003Z@PT23H@PT155F.csv\n",
      "['timescaledb-parallel-copy', '--db-name', 'demand_acep', '--table', 'PkFltM1Ant_2017', '--file', '/data/data/2017/11/02/PkFltM1Ant@2017-11-02T081003Z@PT23H@PT155F.csv', '--workers', '4', '--connection', 'host=localhost user=tsdb_user password=husky123 sslmode=disable', '--skip-header', 'true']\n",
      "COPY 1440\n",
      "\n",
      "PkFltM2Tel@2017-11-02T082008Z@PT23H@PT154F.csv\n",
      "['timescaledb-parallel-copy', '--db-name', 'demand_acep', '--table', 'PkFltM2Tel_2017', '--file', '/data/data/2017/11/02/PkFltM2Tel@2017-11-02T082008Z@PT23H@PT154F.csv', '--workers', '4', '--connection', 'host=localhost user=tsdb_user password=husky123 sslmode=disable', '--skip-header', 'true']\n",
      "COPY 1440\n",
      "\n",
      "PQube3@2017-11-02T080003Z@P1D@PT171F.csv\n",
      "['timescaledb-parallel-copy', '--db-name', 'demand_acep', '--table', 'PQube3_2017', '--file', '/data/data/2017/11/02/PQube3@2017-11-02T080003Z@P1D@PT171F.csv', '--workers', '4', '--connection', 'host=localhost user=tsdb_user password=husky123 sslmode=disable', '--skip-header', 'true']\n",
      "COPY 1440\n",
      "\n",
      "PkFltM3Sci@2017-11-02T083008Z@PT23H@PT154F.csv\n",
      "['timescaledb-parallel-copy', '--db-name', 'demand_acep', '--table', 'PkFltM3Sci_2017', '--file', '/data/data/2017/11/02/PkFltM3Sci@2017-11-02T083008Z@PT23H@PT154F.csv', '--workers', '4', '--connection', 'host=localhost user=tsdb_user password=husky123 sslmode=disable', '--skip-header', 'true']\n",
      "COPY 1440\n",
      "\n"
     ]
    }
   ],
   "source": [
    "parallel_copy_data_for_dates(config, start, end)"
   ]
  }
 ],
 "metadata": {
  "kernelspec": {
   "display_name": "Python 3",
   "language": "python",
   "name": "python3"
  },
  "language_info": {
   "codemirror_mode": {
    "name": "ipython",
    "version": 3
   },
   "file_extension": ".py",
   "mimetype": "text/x-python",
   "name": "python",
   "nbconvert_exporter": "python",
   "pygments_lexer": "ipython3",
   "version": "3.7.3"
  }
 },
 "nbformat": 4,
 "nbformat_minor": 2
}
