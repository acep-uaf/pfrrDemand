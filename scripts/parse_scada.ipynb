{
 "cells": [
  {
   "cell_type": "markdown",
   "metadata": {},
   "source": [
    "## Work related to parsing the scada files"
   ]
  },
  {
   "cell_type": "code",
   "execution_count": 152,
   "metadata": {},
   "outputs": [],
   "source": [
    "# All the import \n",
    "import pandas as pd\n",
    "import numpy as np\n",
    "from netCDF4 import Dataset, MFDataset, num2date\n",
    "from os import listdir\n",
    "from os.path import isfile, join\n",
    "import gzip\n",
    "import shutil\n",
    "from sh import gunzip\n",
    "import matplotlib.pyplot as plt\n",
    "import matplotlib as ply"
   ]
  },
  {
   "cell_type": "code",
   "execution_count": 2,
   "metadata": {},
   "outputs": [],
   "source": [
    " path_scada_2017_07 = \"../data/rawdata/SCADA/2017/07\""
   ]
  },
  {
   "cell_type": "code",
   "execution_count": 3,
   "metadata": {},
   "outputs": [
    {
     "data": {
      "text/plain": [
       "['22', '23', '24', '25', '26', '27', '28', '29', '30', '31']"
      ]
     },
     "execution_count": 3,
     "metadata": {},
     "output_type": "execute_result"
    }
   ],
   "source": [
    "listdir(path_scada_2017_07)"
   ]
  },
  {
   "cell_type": "code",
   "execution_count": 30,
   "metadata": {},
   "outputs": [],
   "source": [
    "# Get the days in the month folder\n",
    "days_in_month = listdir(path_scada_2017_07)"
   ]
  },
  {
   "cell_type": "code",
   "execution_count": 31,
   "metadata": {},
   "outputs": [
    {
     "data": {
      "text/plain": [
       "['22', '23', '24', '25', '26', '27', '28', '29', '30', '31']"
      ]
     },
     "execution_count": 31,
     "metadata": {},
     "output_type": "execute_result"
    }
   ],
   "source": [
    "days_in_month"
   ]
  },
  {
   "cell_type": "code",
   "execution_count": 52,
   "metadata": {},
   "outputs": [],
   "source": [
    "files_22 = listdir(join(path_scada_2017_07, days_in_month[0]))"
   ]
  },
  {
   "cell_type": "code",
   "execution_count": 53,
   "metadata": {},
   "outputs": [
    {
     "data": {
      "text/plain": [
       "['PokerFlatResearchRange-PokerFlat-PokerFlat1EaNetTot@2017-07-21T201417Z@PT11H@PT144F.nc.gz',\n",
       " 'PokerFlatResearchRange-PokerFlat-PokerFlat1EapaTot@2017-07-21T201417Z@PT11H@PT144F.nc.gz',\n",
       " 'PokerFlatResearchRange-PokerFlat-PokerFlat1EapbTot@2017-07-21T201417Z@PT11H@PT144F.nc.gz',\n",
       " 'PokerFlatResearchRange-PokerFlat-PokerFlat1EapcTot@2017-07-21T201417Z@PT11H@PT144F.nc.gz',\n",
       " 'PokerFlatResearchRange-PokerFlat-PokerFlat1EapTot@2017-07-21T201417Z@PT11H@PT144F.nc.gz',\n",
       " 'PokerFlatResearchRange-PokerFlat-PokerFlat1EaRec@2017-07-21T201417Z@PT11H@PT144F.nc.gz',\n",
       " 'PokerFlatResearchRange-PokerFlat-PokerFlat1EbDel@2017-07-21T201417Z@PT11H@PT144F.nc.gz',\n",
       " 'PokerFlatResearchRange-PokerFlat-PokerFlat1EbNetTot@2017-07-21T201417Z@PT11H@PT144F.nc.gz',\n",
       " 'PokerFlatResearchRange-PokerFlat-PokerFlat1EbRec@2017-07-21T201417Z@PT11H@PT144F.nc.gz',\n",
       " 'PokerFlatResearchRange-PokerFlat-PokerFlat1EcDel@2017-07-21T201417Z@PT11H@PT144F.nc.gz',\n",
       " 'PokerFlatResearchRange-PokerFlat-PokerFlat1EcNetTot@2017-07-21T201417Z@PT11H@PT144F.nc.gz',\n",
       " 'PokerFlatResearchRange-PokerFlat-PokerFlat1EcRec@2017-07-21T201417Z@PT11H@PT144F.nc.gz',\n",
       " 'PokerFlatResearchRange-PokerFlat-PokerFlat1ENetTot@2017-07-21T201417Z@PT11H@PT144F.nc.gz',\n",
       " 'PokerFlatResearchRange-PokerFlat-PokerFlat1ERecTot@2017-07-21T201417Z@PT11H@PT144F.nc.gz',\n",
       " 'PokerFlatResearchRange-PokerFlat-PokerFlat1EreNegTot@2017-07-21T201417Z@PT11H@PT144F.nc.gz',\n",
       " 'PokerFlatResearchRange-PokerFlat-PokerFlat1ErePosTot@2017-07-21T201417Z@PT11H@PT144F.nc.gz',\n",
       " 'PokerFlatResearchRange-PokerFlat-PokerFlat1F@2017-07-21T201417Z@PT11H@PT144F.nc.gz',\n",
       " 'PokerFlatResearchRange-PokerFlat-PokerFlat1Ia@2017-07-21T201417Z@PT11H@PT144F.nc.gz',\n",
       " 'PokerFlatResearchRange-PokerFlat-PokerFlat1Ib@2017-07-21T201417Z@PT11H@PT144F.nc.gz',\n",
       " 'PokerFlatResearchRange-PokerFlat-PokerFlat1Ic@2017-07-21T201417Z@PT11H@PT144F.nc.gz',\n",
       " 'PokerFlatResearchRange-PokerFlat-PokerFlat1IMean@2017-07-21T201417Z@PT11H@PT144F.nc.gz',\n",
       " 'PokerFlatResearchRange-PokerFlat-PokerFlat1Pa@2017-07-21T201417Z@PT11H@PT144F.nc.gz',\n",
       " 'PokerFlatResearchRange-PokerFlat-PokerFlat1Pb@2017-07-21T201417Z@PT11H@PT144F.nc.gz',\n",
       " 'PokerFlatResearchRange-PokerFlat-PokerFlat1Pc@2017-07-21T201417Z@PT11H@PT144F.nc.gz',\n",
       " 'PokerFlatResearchRange-PokerFlat-PokerFlat1Pfa@2017-07-21T201417Z@PT11H@PT144F.nc.gz',\n",
       " 'PokerFlatResearchRange-PokerFlat-PokerFlat1Pfb@2017-07-21T201417Z@PT11H@PT144F.nc.gz',\n",
       " 'PokerFlatResearchRange-PokerFlat-PokerFlat1Pfc@2017-07-21T201417Z@PT11H@PT144F.nc.gz',\n",
       " 'PokerFlatResearchRange-PokerFlat-PokerFlat1PfTot@2017-07-21T201417Z@PT11H@PT144F.nc.gz',\n",
       " 'PokerFlatResearchRange-PokerFlat-PokerFlat1PTot@2017-07-21T201417Z@PT11H@PT144F.nc.gz',\n",
       " 'PokerFlatResearchRange-PokerFlat-PokerFlat1Qa@2017-07-21T201417Z@PT11H@PT144F.nc.gz',\n",
       " 'PokerFlatResearchRange-PokerFlat-PokerFlat1Qb@2017-07-21T201417Z@PT11H@PT144F.nc.gz',\n",
       " 'PokerFlatResearchRange-PokerFlat-PokerFlat1Qc@2017-07-21T201417Z@PT11H@PT144F.nc.gz',\n",
       " 'PokerFlatResearchRange-PokerFlat-PokerFlat1QTot@2017-07-21T201417Z@PT11H@PT144F.nc.gz',\n",
       " 'PokerFlatResearchRange-PokerFlat-PokerFlat1Sa@2017-07-21T201417Z@PT11H@PT144F.nc.gz',\n",
       " 'PokerFlatResearchRange-PokerFlat-PokerFlat1Sb@2017-07-21T201417Z@PT11H@PT144F.nc.gz',\n",
       " 'PokerFlatResearchRange-PokerFlat-PokerFlat1Sc@2017-07-21T201417Z@PT11H@PT144F.nc.gz',\n",
       " 'PokerFlatResearchRange-PokerFlat-PokerFlat1SlidingWindowRealPowerDemand3Ph@2017-07-21T201417Z@PT11H@PT144F.nc.gz',\n",
       " 'PokerFlatResearchRange-PokerFlat-PokerFlat1STot@2017-07-21T201417Z@PT11H@PT144F.nc.gz',\n",
       " 'PokerFlatResearchRange-PokerFlat-PokerFlat1Vab@2017-07-21T201417Z@PT11H@PT144F.nc.gz',\n",
       " 'PokerFlatResearchRange-PokerFlat-PokerFlat1Van@2017-07-21T201417Z@PT11H@PT144F.nc.gz',\n",
       " 'PokerFlatResearchRange-PokerFlat-PokerFlat1Vbc@2017-07-21T201417Z@PT11H@PT144F.nc.gz',\n",
       " 'PokerFlatResearchRange-PokerFlat-PokerFlat1Vbn@2017-07-21T201417Z@PT11H@PT144F.nc.gz',\n",
       " 'PokerFlatResearchRange-PokerFlat-PokerFlat1Vca@2017-07-21T201417Z@PT11H@PT144F.nc.gz',\n",
       " 'PokerFlatResearchRange-PokerFlat-PokerFlat1Vcn@2017-07-21T201417Z@PT11H@PT144F.nc.gz',\n",
       " 'PokerFlatResearchRange-PokerFlat-PokerFlat1VllMean@2017-07-21T201417Z@PT11H@PT144F.nc.gz',\n",
       " 'PokerFlatResearchRange-PokerFlat-PokerFlat1VlnMean@2017-07-21T201417Z@PT11H@PT144F.nc.gz',\n",
       " 'PokerFlatResearchRange-PokerFlat-PokerFlat2EaDel@2017-07-21T201417Z@PT11H@PT141F.nc.gz',\n",
       " 'PokerFlatResearchRange-PokerFlat-PokerFlat2EaNetTot@2017-07-21T201417Z@PT11H@PT141F.nc.gz',\n",
       " 'PokerFlatResearchRange-PokerFlat-PokerFlat2EapaTot@2017-07-21T201417Z@PT11H@PT141F.nc.gz',\n",
       " 'PokerFlatResearchRange-PokerFlat-PokerFlat2EapbTot@2017-07-21T201417Z@PT11H@PT141F.nc.gz',\n",
       " 'PokerFlatResearchRange-PokerFlat-PokerFlat2EapcTot@2017-07-21T201417Z@PT11H@PT141F.nc.gz',\n",
       " 'PokerFlatResearchRange-PokerFlat-PokerFlat2EapTot@2017-07-21T201417Z@PT11H@PT141F.nc.gz',\n",
       " 'PokerFlatResearchRange-PokerFlat-PokerFlat2EaRec@2017-07-21T201417Z@PT11H@PT141F.nc.gz',\n",
       " 'PokerFlatResearchRange-PokerFlat-PokerFlat2EbDel@2017-07-21T201417Z@PT11H@PT141F.nc.gz',\n",
       " 'PokerFlatResearchRange-PokerFlat-PokerFlat2EbNetTot@2017-07-21T201417Z@PT11H@PT141F.nc.gz',\n",
       " 'PokerFlatResearchRange-PokerFlat-PokerFlat2EbRec@2017-07-21T201417Z@PT11H@PT141F.nc.gz',\n",
       " 'PokerFlatResearchRange-PokerFlat-PokerFlat2EcDel@2017-07-21T201417Z@PT11H@PT141F.nc.gz',\n",
       " 'PokerFlatResearchRange-PokerFlat-PokerFlat2EcNetTot@2017-07-21T201417Z@PT11H@PT141F.nc.gz',\n",
       " 'PokerFlatResearchRange-PokerFlat-PokerFlat2EcRec@2017-07-21T201417Z@PT11H@PT141F.nc.gz',\n",
       " 'PokerFlatResearchRange-PokerFlat-PokerFlat2EDelTot@2017-07-21T201417Z@PT11H@PT141F.nc.gz',\n",
       " 'PokerFlatResearchRange-PokerFlat-PokerFlat2ENetTot@2017-07-21T201417Z@PT11H@PT141F.nc.gz',\n",
       " 'PokerFlatResearchRange-PokerFlat-PokerFlat2ERecTot@2017-07-21T201417Z@PT11H@PT141F.nc.gz',\n",
       " 'PokerFlatResearchRange-PokerFlat-PokerFlat2EreNegTot@2017-07-21T201417Z@PT11H@PT141F.nc.gz',\n",
       " 'PokerFlatResearchRange-PokerFlat-PokerFlat2ErePosTot@2017-07-21T201417Z@PT11H@PT141F.nc.gz',\n",
       " 'PokerFlatResearchRange-PokerFlat-PokerFlat2F@2017-07-21T201417Z@PT11H@PT141F.nc.gz',\n",
       " 'PokerFlatResearchRange-PokerFlat-PokerFlat2Ia@2017-07-21T201417Z@PT11H@PT141F.nc.gz',\n",
       " 'PokerFlatResearchRange-PokerFlat-PokerFlat2Ib@2017-07-21T201417Z@PT11H@PT141F.nc.gz',\n",
       " 'PokerFlatResearchRange-PokerFlat-PokerFlat2Ic@2017-07-21T201417Z@PT11H@PT141F.nc.gz',\n",
       " 'PokerFlatResearchRange-PokerFlat-PokerFlat2IMean@2017-07-21T201417Z@PT11H@PT141F.nc.gz',\n",
       " 'PokerFlatResearchRange-PokerFlat-PokerFlat2Pa@2017-07-21T201417Z@PT11H@PT141F.nc.gz',\n",
       " 'PokerFlatResearchRange-PokerFlat-PokerFlat2Pb@2017-07-21T201417Z@PT11H@PT141F.nc.gz',\n",
       " 'PokerFlatResearchRange-PokerFlat-PokerFlat2Pc@2017-07-21T201417Z@PT11H@PT141F.nc.gz',\n",
       " 'PokerFlatResearchRange-PokerFlat-PokerFlat2Pfa@2017-07-21T201417Z@PT11H@PT141F.nc.gz',\n",
       " 'PokerFlatResearchRange-PokerFlat-PokerFlat2Pfb@2017-07-21T201417Z@PT11H@PT141F.nc.gz',\n",
       " 'PokerFlatResearchRange-PokerFlat-PokerFlat2Pfc@2017-07-21T201417Z@PT11H@PT141F.nc.gz',\n",
       " 'PokerFlatResearchRange-PokerFlat-PokerFlat2PfTot@2017-07-21T201417Z@PT11H@PT141F.nc.gz',\n",
       " 'PokerFlatResearchRange-PokerFlat-PokerFlat2PTot@2017-07-21T201417Z@PT11H@PT141F.nc.gz',\n",
       " 'PokerFlatResearchRange-PokerFlat-PokerFlat2Qa@2017-07-21T201417Z@PT11H@PT141F.nc.gz',\n",
       " 'PokerFlatResearchRange-PokerFlat-PokerFlat2Qb@2017-07-21T201417Z@PT11H@PT141F.nc.gz',\n",
       " 'PokerFlatResearchRange-PokerFlat-PokerFlat2Qc@2017-07-21T201417Z@PT11H@PT141F.nc.gz',\n",
       " 'PokerFlatResearchRange-PokerFlat-PokerFlat2QTot@2017-07-21T201417Z@PT11H@PT141F.nc.gz',\n",
       " 'PokerFlatResearchRange-PokerFlat-PokerFlat2Sa@2017-07-21T201417Z@PT11H@PT141F.nc.gz',\n",
       " 'PokerFlatResearchRange-PokerFlat-PokerFlat2Sb@2017-07-21T201417Z@PT11H@PT141F.nc.gz',\n",
       " 'PokerFlatResearchRange-PokerFlat-PokerFlat2Sc@2017-07-21T201417Z@PT11H@PT141F.nc.gz',\n",
       " 'PokerFlatResearchRange-PokerFlat-PokerFlat2SlidingWindowRealPowerDemand3Ph@2017-07-21T201417Z@PT11H@PT141F.nc.gz',\n",
       " 'PokerFlatResearchRange-PokerFlat-PokerFlat2STot@2017-07-21T201417Z@PT11H@PT141F.nc.gz',\n",
       " 'PokerFlatResearchRange-PokerFlat-PokerFlat2Vab@2017-07-21T201417Z@PT11H@PT141F.nc.gz',\n",
       " 'PokerFlatResearchRange-PokerFlat-PokerFlat2Van@2017-07-21T201417Z@PT11H@PT141F.nc.gz',\n",
       " 'PokerFlatResearchRange-PokerFlat-PokerFlat2Vbc@2017-07-21T201417Z@PT11H@PT141F.nc.gz',\n",
       " 'PokerFlatResearchRange-PokerFlat-PokerFlat2Vbn@2017-07-21T201417Z@PT11H@PT141F.nc.gz',\n",
       " 'PokerFlatResearchRange-PokerFlat-PokerFlat2Vca@2017-07-21T201417Z@PT11H@PT141F.nc.gz',\n",
       " 'PokerFlatResearchRange-PokerFlat-PokerFlat2Vcn@2017-07-21T201417Z@PT11H@PT141F.nc.gz',\n",
       " 'PokerFlatResearchRange-PokerFlat-PokerFlat2VllMean@2017-07-21T201417Z@PT11H@PT141F.nc.gz',\n",
       " 'PokerFlatResearchRange-PokerFlat-PokerFlat2VlnMean@2017-07-21T201417Z@PT11H@PT141F.nc.gz',\n",
       " 'PokerFlatResearchRange-PokerFlat-PokerFlat3EaDel@2017-07-21T201417Z@PT11H@PT141F.nc.gz',\n",
       " 'PokerFlatResearchRange-PokerFlat-PokerFlat3EaNetTot@2017-07-21T201417Z@PT11H@PT141F.nc.gz',\n",
       " 'PokerFlatResearchRange-PokerFlat-PokerFlat3EapaTot@2017-07-21T201417Z@PT11H@PT141F.nc.gz',\n",
       " 'PokerFlatResearchRange-PokerFlat-PokerFlat3EapbTot@2017-07-21T201417Z@PT11H@PT141F.nc.gz',\n",
       " 'PokerFlatResearchRange-PokerFlat-PokerFlat3EapcTot@2017-07-21T201417Z@PT11H@PT141F.nc.gz',\n",
       " 'PokerFlatResearchRange-PokerFlat-PokerFlat3EapTot@2017-07-21T201417Z@PT11H@PT141F.nc.gz',\n",
       " 'PokerFlatResearchRange-PokerFlat-PokerFlat3EaRec@2017-07-21T201417Z@PT11H@PT141F.nc.gz',\n",
       " 'PokerFlatResearchRange-PokerFlat-PokerFlat3EbDel@2017-07-21T201417Z@PT11H@PT141F.nc.gz',\n",
       " 'PokerFlatResearchRange-PokerFlat-PokerFlat3EbNetTot@2017-07-21T201417Z@PT11H@PT141F.nc.gz',\n",
       " 'PokerFlatResearchRange-PokerFlat-PokerFlat3EbRec@2017-07-21T201417Z@PT11H@PT141F.nc.gz',\n",
       " 'PokerFlatResearchRange-PokerFlat-PokerFlat3EcDel@2017-07-21T201417Z@PT11H@PT141F.nc.gz',\n",
       " 'PokerFlatResearchRange-PokerFlat-PokerFlat3EcNetTot@2017-07-21T201417Z@PT11H@PT141F.nc.gz',\n",
       " 'PokerFlatResearchRange-PokerFlat-PokerFlat3EcRec@2017-07-21T201417Z@PT11H@PT141F.nc.gz',\n",
       " 'PokerFlatResearchRange-PokerFlat-PokerFlat3EDelTot@2017-07-21T201417Z@PT11H@PT141F.nc.gz',\n",
       " 'PokerFlatResearchRange-PokerFlat-PokerFlat3ENetTot@2017-07-21T201417Z@PT11H@PT141F.nc.gz',\n",
       " 'PokerFlatResearchRange-PokerFlat-PokerFlat3ERecTot@2017-07-21T201417Z@PT11H@PT141F.nc.gz',\n",
       " 'PokerFlatResearchRange-PokerFlat-PokerFlat3EreNegTot@2017-07-21T201417Z@PT11H@PT141F.nc.gz',\n",
       " 'PokerFlatResearchRange-PokerFlat-PokerFlat3ErePosTot@2017-07-21T201417Z@PT11H@PT141F.nc.gz',\n",
       " 'PokerFlatResearchRange-PokerFlat-PokerFlat3F@2017-07-21T201417Z@PT11H@PT141F.nc.gz',\n",
       " 'PokerFlatResearchRange-PokerFlat-PokerFlat3Ia@2017-07-21T201417Z@PT11H@PT141F.nc.gz',\n",
       " 'PokerFlatResearchRange-PokerFlat-PokerFlat3Ib@2017-07-21T201417Z@PT11H@PT141F.nc.gz',\n",
       " 'PokerFlatResearchRange-PokerFlat-PokerFlat3Ic@2017-07-21T201417Z@PT11H@PT141F.nc.gz',\n",
       " 'PokerFlatResearchRange-PokerFlat-PokerFlat3IMean@2017-07-21T201417Z@PT11H@PT141F.nc.gz',\n",
       " 'PokerFlatResearchRange-PokerFlat-PokerFlat3Pa@2017-07-21T201417Z@PT11H@PT141F.nc.gz',\n",
       " 'PokerFlatResearchRange-PokerFlat-PokerFlat3Pb@2017-07-21T201417Z@PT11H@PT141F.nc.gz',\n",
       " 'PokerFlatResearchRange-PokerFlat-PokerFlat3Pc@2017-07-21T201417Z@PT11H@PT141F.nc.gz',\n",
       " 'PokerFlatResearchRange-PokerFlat-PokerFlat3Pfa@2017-07-21T201417Z@PT11H@PT141F.nc.gz',\n",
       " 'PokerFlatResearchRange-PokerFlat-PokerFlat3Pfb@2017-07-21T201417Z@PT11H@PT141F.nc.gz',\n",
       " 'PokerFlatResearchRange-PokerFlat-PokerFlat3Pfc@2017-07-21T201417Z@PT11H@PT141F.nc.gz',\n",
       " 'PokerFlatResearchRange-PokerFlat-PokerFlat3PfTot@2017-07-21T201417Z@PT11H@PT141F.nc.gz',\n",
       " 'PokerFlatResearchRange-PokerFlat-PokerFlat3PTot@2017-07-21T201417Z@PT11H@PT141F.nc.gz',\n",
       " 'PokerFlatResearchRange-PokerFlat-PokerFlat3Qa@2017-07-21T201417Z@PT11H@PT141F.nc.gz',\n",
       " 'PokerFlatResearchRange-PokerFlat-PokerFlat3Qb@2017-07-21T201417Z@PT11H@PT141F.nc.gz',\n",
       " 'PokerFlatResearchRange-PokerFlat-PokerFlat3Qc@2017-07-21T201417Z@PT11H@PT141F.nc.gz',\n",
       " 'PokerFlatResearchRange-PokerFlat-PokerFlat3QTot@2017-07-21T201417Z@PT11H@PT141F.nc.gz',\n",
       " 'PokerFlatResearchRange-PokerFlat-PokerFlat3Sa@2017-07-21T201417Z@PT11H@PT141F.nc.gz',\n",
       " 'PokerFlatResearchRange-PokerFlat-PokerFlat3Sb@2017-07-21T201417Z@PT11H@PT141F.nc.gz',\n",
       " 'PokerFlatResearchRange-PokerFlat-PokerFlat3Sc@2017-07-21T201417Z@PT11H@PT141F.nc.gz',\n",
       " 'PokerFlatResearchRange-PokerFlat-PokerFlat3SlidingWindowRealPowerDemand3Ph@2017-07-21T201417Z@PT11H@PT141F.nc.gz',\n",
       " 'PokerFlatResearchRange-PokerFlat-PokerFlat3STot@2017-07-21T201417Z@PT11H@PT141F.nc.gz',\n",
       " 'PokerFlatResearchRange-PokerFlat-PokerFlat3Vab@2017-07-21T201417Z@PT11H@PT141F.nc.gz',\n",
       " 'PokerFlatResearchRange-PokerFlat-PokerFlat3Van@2017-07-21T201417Z@PT11H@PT141F.nc.gz',\n",
       " 'PokerFlatResearchRange-PokerFlat-PokerFlat3Vbc@2017-07-21T201417Z@PT11H@PT141F.nc.gz',\n",
       " 'PokerFlatResearchRange-PokerFlat-PokerFlat3Vbn@2017-07-21T201417Z@PT11H@PT141F.nc.gz',\n",
       " 'PokerFlatResearchRange-PokerFlat-PokerFlat3Vca@2017-07-21T201417Z@PT11H@PT141F.nc.gz',\n",
       " 'PokerFlatResearchRange-PokerFlat-PokerFlat3Vcn@2017-07-21T201417Z@PT11H@PT141F.nc.gz',\n",
       " 'PokerFlatResearchRange-PokerFlat-PokerFlat3VllMean@2017-07-21T201417Z@PT11H@PT141F.nc.gz',\n",
       " 'PokerFlatResearchRange-PokerFlat-PokerFlat3VlnMean@2017-07-21T201417Z@PT11H@PT141F.nc.gz']"
      ]
     },
     "execution_count": 53,
     "metadata": {},
     "output_type": "execute_result"
    }
   ],
   "source": [
    "files_22"
   ]
  },
  {
   "cell_type": "code",
   "execution_count": 55,
   "metadata": {},
   "outputs": [],
   "source": [
    "for i in files_22:\n",
    "    gunzip(join(join(path_scada_2017_07, days_in_month[0]), i))"
   ]
  },
  {
   "cell_type": "code",
   "execution_count": 56,
   "metadata": {},
   "outputs": [],
   "source": [
    "files_22_nc = listdir(join(path_scada_2017_07, days_in_month[0]))"
   ]
  },
  {
   "cell_type": "code",
   "execution_count": 58,
   "metadata": {},
   "outputs": [
    {
     "data": {
      "text/plain": [
       "['PokerFlatResearchRange-PokerFlat-PokerFlat1EaNetTot@2017-07-21T201417Z@PT11H@PT144F.nc',\n",
       " 'PokerFlatResearchRange-PokerFlat-PokerFlat1EapaTot@2017-07-21T201417Z@PT11H@PT144F.nc',\n",
       " 'PokerFlatResearchRange-PokerFlat-PokerFlat1EapbTot@2017-07-21T201417Z@PT11H@PT144F.nc',\n",
       " 'PokerFlatResearchRange-PokerFlat-PokerFlat1EapcTot@2017-07-21T201417Z@PT11H@PT144F.nc',\n",
       " 'PokerFlatResearchRange-PokerFlat-PokerFlat1EapTot@2017-07-21T201417Z@PT11H@PT144F.nc',\n",
       " 'PokerFlatResearchRange-PokerFlat-PokerFlat1EaRec@2017-07-21T201417Z@PT11H@PT144F.nc',\n",
       " 'PokerFlatResearchRange-PokerFlat-PokerFlat1EbDel@2017-07-21T201417Z@PT11H@PT144F.nc',\n",
       " 'PokerFlatResearchRange-PokerFlat-PokerFlat1EbNetTot@2017-07-21T201417Z@PT11H@PT144F.nc',\n",
       " 'PokerFlatResearchRange-PokerFlat-PokerFlat1EbRec@2017-07-21T201417Z@PT11H@PT144F.nc',\n",
       " 'PokerFlatResearchRange-PokerFlat-PokerFlat1EcDel@2017-07-21T201417Z@PT11H@PT144F.nc',\n",
       " 'PokerFlatResearchRange-PokerFlat-PokerFlat1EcNetTot@2017-07-21T201417Z@PT11H@PT144F.nc',\n",
       " 'PokerFlatResearchRange-PokerFlat-PokerFlat1EcRec@2017-07-21T201417Z@PT11H@PT144F.nc',\n",
       " 'PokerFlatResearchRange-PokerFlat-PokerFlat1ENetTot@2017-07-21T201417Z@PT11H@PT144F.nc',\n",
       " 'PokerFlatResearchRange-PokerFlat-PokerFlat1ERecTot@2017-07-21T201417Z@PT11H@PT144F.nc',\n",
       " 'PokerFlatResearchRange-PokerFlat-PokerFlat1EreNegTot@2017-07-21T201417Z@PT11H@PT144F.nc',\n",
       " 'PokerFlatResearchRange-PokerFlat-PokerFlat1ErePosTot@2017-07-21T201417Z@PT11H@PT144F.nc',\n",
       " 'PokerFlatResearchRange-PokerFlat-PokerFlat1F@2017-07-21T201417Z@PT11H@PT144F.nc',\n",
       " 'PokerFlatResearchRange-PokerFlat-PokerFlat1Ia@2017-07-21T201417Z@PT11H@PT144F.nc',\n",
       " 'PokerFlatResearchRange-PokerFlat-PokerFlat1Ib@2017-07-21T201417Z@PT11H@PT144F.nc',\n",
       " 'PokerFlatResearchRange-PokerFlat-PokerFlat1Ic@2017-07-21T201417Z@PT11H@PT144F.nc',\n",
       " 'PokerFlatResearchRange-PokerFlat-PokerFlat1IMean@2017-07-21T201417Z@PT11H@PT144F.nc',\n",
       " 'PokerFlatResearchRange-PokerFlat-PokerFlat1Pa@2017-07-21T201417Z@PT11H@PT144F.nc',\n",
       " 'PokerFlatResearchRange-PokerFlat-PokerFlat1Pb@2017-07-21T201417Z@PT11H@PT144F.nc',\n",
       " 'PokerFlatResearchRange-PokerFlat-PokerFlat1Pc@2017-07-21T201417Z@PT11H@PT144F.nc',\n",
       " 'PokerFlatResearchRange-PokerFlat-PokerFlat1Pfa@2017-07-21T201417Z@PT11H@PT144F.nc',\n",
       " 'PokerFlatResearchRange-PokerFlat-PokerFlat1Pfb@2017-07-21T201417Z@PT11H@PT144F.nc',\n",
       " 'PokerFlatResearchRange-PokerFlat-PokerFlat1Pfc@2017-07-21T201417Z@PT11H@PT144F.nc',\n",
       " 'PokerFlatResearchRange-PokerFlat-PokerFlat1PfTot@2017-07-21T201417Z@PT11H@PT144F.nc',\n",
       " 'PokerFlatResearchRange-PokerFlat-PokerFlat1PTot@2017-07-21T201417Z@PT11H@PT144F.nc',\n",
       " 'PokerFlatResearchRange-PokerFlat-PokerFlat1Qa@2017-07-21T201417Z@PT11H@PT144F.nc',\n",
       " 'PokerFlatResearchRange-PokerFlat-PokerFlat1Qb@2017-07-21T201417Z@PT11H@PT144F.nc',\n",
       " 'PokerFlatResearchRange-PokerFlat-PokerFlat1Qc@2017-07-21T201417Z@PT11H@PT144F.nc',\n",
       " 'PokerFlatResearchRange-PokerFlat-PokerFlat1QTot@2017-07-21T201417Z@PT11H@PT144F.nc',\n",
       " 'PokerFlatResearchRange-PokerFlat-PokerFlat1Sa@2017-07-21T201417Z@PT11H@PT144F.nc',\n",
       " 'PokerFlatResearchRange-PokerFlat-PokerFlat1Sb@2017-07-21T201417Z@PT11H@PT144F.nc',\n",
       " 'PokerFlatResearchRange-PokerFlat-PokerFlat1Sc@2017-07-21T201417Z@PT11H@PT144F.nc',\n",
       " 'PokerFlatResearchRange-PokerFlat-PokerFlat1SlidingWindowRealPowerDemand3Ph@2017-07-21T201417Z@PT11H@PT144F.nc',\n",
       " 'PokerFlatResearchRange-PokerFlat-PokerFlat1STot@2017-07-21T201417Z@PT11H@PT144F.nc',\n",
       " 'PokerFlatResearchRange-PokerFlat-PokerFlat1Vab@2017-07-21T201417Z@PT11H@PT144F.nc',\n",
       " 'PokerFlatResearchRange-PokerFlat-PokerFlat1Van@2017-07-21T201417Z@PT11H@PT144F.nc',\n",
       " 'PokerFlatResearchRange-PokerFlat-PokerFlat1Vbc@2017-07-21T201417Z@PT11H@PT144F.nc',\n",
       " 'PokerFlatResearchRange-PokerFlat-PokerFlat1Vbn@2017-07-21T201417Z@PT11H@PT144F.nc',\n",
       " 'PokerFlatResearchRange-PokerFlat-PokerFlat1Vca@2017-07-21T201417Z@PT11H@PT144F.nc',\n",
       " 'PokerFlatResearchRange-PokerFlat-PokerFlat1Vcn@2017-07-21T201417Z@PT11H@PT144F.nc',\n",
       " 'PokerFlatResearchRange-PokerFlat-PokerFlat1VllMean@2017-07-21T201417Z@PT11H@PT144F.nc',\n",
       " 'PokerFlatResearchRange-PokerFlat-PokerFlat1VlnMean@2017-07-21T201417Z@PT11H@PT144F.nc',\n",
       " 'PokerFlatResearchRange-PokerFlat-PokerFlat2EaDel@2017-07-21T201417Z@PT11H@PT141F.nc',\n",
       " 'PokerFlatResearchRange-PokerFlat-PokerFlat2EaNetTot@2017-07-21T201417Z@PT11H@PT141F.nc',\n",
       " 'PokerFlatResearchRange-PokerFlat-PokerFlat2EapaTot@2017-07-21T201417Z@PT11H@PT141F.nc',\n",
       " 'PokerFlatResearchRange-PokerFlat-PokerFlat2EapbTot@2017-07-21T201417Z@PT11H@PT141F.nc',\n",
       " 'PokerFlatResearchRange-PokerFlat-PokerFlat2EapcTot@2017-07-21T201417Z@PT11H@PT141F.nc',\n",
       " 'PokerFlatResearchRange-PokerFlat-PokerFlat2EapTot@2017-07-21T201417Z@PT11H@PT141F.nc',\n",
       " 'PokerFlatResearchRange-PokerFlat-PokerFlat2EaRec@2017-07-21T201417Z@PT11H@PT141F.nc',\n",
       " 'PokerFlatResearchRange-PokerFlat-PokerFlat2EbDel@2017-07-21T201417Z@PT11H@PT141F.nc',\n",
       " 'PokerFlatResearchRange-PokerFlat-PokerFlat2EbNetTot@2017-07-21T201417Z@PT11H@PT141F.nc',\n",
       " 'PokerFlatResearchRange-PokerFlat-PokerFlat2EbRec@2017-07-21T201417Z@PT11H@PT141F.nc',\n",
       " 'PokerFlatResearchRange-PokerFlat-PokerFlat2EcDel@2017-07-21T201417Z@PT11H@PT141F.nc',\n",
       " 'PokerFlatResearchRange-PokerFlat-PokerFlat2EcNetTot@2017-07-21T201417Z@PT11H@PT141F.nc',\n",
       " 'PokerFlatResearchRange-PokerFlat-PokerFlat2EcRec@2017-07-21T201417Z@PT11H@PT141F.nc',\n",
       " 'PokerFlatResearchRange-PokerFlat-PokerFlat2EDelTot@2017-07-21T201417Z@PT11H@PT141F.nc',\n",
       " 'PokerFlatResearchRange-PokerFlat-PokerFlat2ENetTot@2017-07-21T201417Z@PT11H@PT141F.nc',\n",
       " 'PokerFlatResearchRange-PokerFlat-PokerFlat2ERecTot@2017-07-21T201417Z@PT11H@PT141F.nc',\n",
       " 'PokerFlatResearchRange-PokerFlat-PokerFlat2EreNegTot@2017-07-21T201417Z@PT11H@PT141F.nc',\n",
       " 'PokerFlatResearchRange-PokerFlat-PokerFlat2ErePosTot@2017-07-21T201417Z@PT11H@PT141F.nc',\n",
       " 'PokerFlatResearchRange-PokerFlat-PokerFlat2F@2017-07-21T201417Z@PT11H@PT141F.nc',\n",
       " 'PokerFlatResearchRange-PokerFlat-PokerFlat2Ia@2017-07-21T201417Z@PT11H@PT141F.nc',\n",
       " 'PokerFlatResearchRange-PokerFlat-PokerFlat2Ib@2017-07-21T201417Z@PT11H@PT141F.nc',\n",
       " 'PokerFlatResearchRange-PokerFlat-PokerFlat2Ic@2017-07-21T201417Z@PT11H@PT141F.nc',\n",
       " 'PokerFlatResearchRange-PokerFlat-PokerFlat2IMean@2017-07-21T201417Z@PT11H@PT141F.nc',\n",
       " 'PokerFlatResearchRange-PokerFlat-PokerFlat2Pa@2017-07-21T201417Z@PT11H@PT141F.nc',\n",
       " 'PokerFlatResearchRange-PokerFlat-PokerFlat2Pb@2017-07-21T201417Z@PT11H@PT141F.nc',\n",
       " 'PokerFlatResearchRange-PokerFlat-PokerFlat2Pc@2017-07-21T201417Z@PT11H@PT141F.nc',\n",
       " 'PokerFlatResearchRange-PokerFlat-PokerFlat2Pfa@2017-07-21T201417Z@PT11H@PT141F.nc',\n",
       " 'PokerFlatResearchRange-PokerFlat-PokerFlat2Pfb@2017-07-21T201417Z@PT11H@PT141F.nc',\n",
       " 'PokerFlatResearchRange-PokerFlat-PokerFlat2Pfc@2017-07-21T201417Z@PT11H@PT141F.nc',\n",
       " 'PokerFlatResearchRange-PokerFlat-PokerFlat2PfTot@2017-07-21T201417Z@PT11H@PT141F.nc',\n",
       " 'PokerFlatResearchRange-PokerFlat-PokerFlat2PTot@2017-07-21T201417Z@PT11H@PT141F.nc',\n",
       " 'PokerFlatResearchRange-PokerFlat-PokerFlat2Qa@2017-07-21T201417Z@PT11H@PT141F.nc',\n",
       " 'PokerFlatResearchRange-PokerFlat-PokerFlat2Qb@2017-07-21T201417Z@PT11H@PT141F.nc',\n",
       " 'PokerFlatResearchRange-PokerFlat-PokerFlat2Qc@2017-07-21T201417Z@PT11H@PT141F.nc',\n",
       " 'PokerFlatResearchRange-PokerFlat-PokerFlat2QTot@2017-07-21T201417Z@PT11H@PT141F.nc',\n",
       " 'PokerFlatResearchRange-PokerFlat-PokerFlat2Sa@2017-07-21T201417Z@PT11H@PT141F.nc',\n",
       " 'PokerFlatResearchRange-PokerFlat-PokerFlat2Sb@2017-07-21T201417Z@PT11H@PT141F.nc',\n",
       " 'PokerFlatResearchRange-PokerFlat-PokerFlat2Sc@2017-07-21T201417Z@PT11H@PT141F.nc',\n",
       " 'PokerFlatResearchRange-PokerFlat-PokerFlat2SlidingWindowRealPowerDemand3Ph@2017-07-21T201417Z@PT11H@PT141F.nc',\n",
       " 'PokerFlatResearchRange-PokerFlat-PokerFlat2STot@2017-07-21T201417Z@PT11H@PT141F.nc',\n",
       " 'PokerFlatResearchRange-PokerFlat-PokerFlat2Vab@2017-07-21T201417Z@PT11H@PT141F.nc',\n",
       " 'PokerFlatResearchRange-PokerFlat-PokerFlat2Van@2017-07-21T201417Z@PT11H@PT141F.nc',\n",
       " 'PokerFlatResearchRange-PokerFlat-PokerFlat2Vbc@2017-07-21T201417Z@PT11H@PT141F.nc',\n",
       " 'PokerFlatResearchRange-PokerFlat-PokerFlat2Vbn@2017-07-21T201417Z@PT11H@PT141F.nc',\n",
       " 'PokerFlatResearchRange-PokerFlat-PokerFlat2Vca@2017-07-21T201417Z@PT11H@PT141F.nc',\n",
       " 'PokerFlatResearchRange-PokerFlat-PokerFlat2Vcn@2017-07-21T201417Z@PT11H@PT141F.nc',\n",
       " 'PokerFlatResearchRange-PokerFlat-PokerFlat2VllMean@2017-07-21T201417Z@PT11H@PT141F.nc',\n",
       " 'PokerFlatResearchRange-PokerFlat-PokerFlat2VlnMean@2017-07-21T201417Z@PT11H@PT141F.nc',\n",
       " 'PokerFlatResearchRange-PokerFlat-PokerFlat3EaDel@2017-07-21T201417Z@PT11H@PT141F.nc',\n",
       " 'PokerFlatResearchRange-PokerFlat-PokerFlat3EaNetTot@2017-07-21T201417Z@PT11H@PT141F.nc',\n",
       " 'PokerFlatResearchRange-PokerFlat-PokerFlat3EapaTot@2017-07-21T201417Z@PT11H@PT141F.nc',\n",
       " 'PokerFlatResearchRange-PokerFlat-PokerFlat3EapbTot@2017-07-21T201417Z@PT11H@PT141F.nc',\n",
       " 'PokerFlatResearchRange-PokerFlat-PokerFlat3EapcTot@2017-07-21T201417Z@PT11H@PT141F.nc',\n",
       " 'PokerFlatResearchRange-PokerFlat-PokerFlat3EapTot@2017-07-21T201417Z@PT11H@PT141F.nc',\n",
       " 'PokerFlatResearchRange-PokerFlat-PokerFlat3EaRec@2017-07-21T201417Z@PT11H@PT141F.nc',\n",
       " 'PokerFlatResearchRange-PokerFlat-PokerFlat3EbDel@2017-07-21T201417Z@PT11H@PT141F.nc',\n",
       " 'PokerFlatResearchRange-PokerFlat-PokerFlat3EbNetTot@2017-07-21T201417Z@PT11H@PT141F.nc',\n",
       " 'PokerFlatResearchRange-PokerFlat-PokerFlat3EbRec@2017-07-21T201417Z@PT11H@PT141F.nc',\n",
       " 'PokerFlatResearchRange-PokerFlat-PokerFlat3EcDel@2017-07-21T201417Z@PT11H@PT141F.nc',\n",
       " 'PokerFlatResearchRange-PokerFlat-PokerFlat3EcNetTot@2017-07-21T201417Z@PT11H@PT141F.nc',\n",
       " 'PokerFlatResearchRange-PokerFlat-PokerFlat3EcRec@2017-07-21T201417Z@PT11H@PT141F.nc',\n",
       " 'PokerFlatResearchRange-PokerFlat-PokerFlat3EDelTot@2017-07-21T201417Z@PT11H@PT141F.nc',\n",
       " 'PokerFlatResearchRange-PokerFlat-PokerFlat3ENetTot@2017-07-21T201417Z@PT11H@PT141F.nc',\n",
       " 'PokerFlatResearchRange-PokerFlat-PokerFlat3ERecTot@2017-07-21T201417Z@PT11H@PT141F.nc',\n",
       " 'PokerFlatResearchRange-PokerFlat-PokerFlat3EreNegTot@2017-07-21T201417Z@PT11H@PT141F.nc',\n",
       " 'PokerFlatResearchRange-PokerFlat-PokerFlat3ErePosTot@2017-07-21T201417Z@PT11H@PT141F.nc',\n",
       " 'PokerFlatResearchRange-PokerFlat-PokerFlat3F@2017-07-21T201417Z@PT11H@PT141F.nc',\n",
       " 'PokerFlatResearchRange-PokerFlat-PokerFlat3Ia@2017-07-21T201417Z@PT11H@PT141F.nc',\n",
       " 'PokerFlatResearchRange-PokerFlat-PokerFlat3Ib@2017-07-21T201417Z@PT11H@PT141F.nc',\n",
       " 'PokerFlatResearchRange-PokerFlat-PokerFlat3Ic@2017-07-21T201417Z@PT11H@PT141F.nc',\n",
       " 'PokerFlatResearchRange-PokerFlat-PokerFlat3IMean@2017-07-21T201417Z@PT11H@PT141F.nc',\n",
       " 'PokerFlatResearchRange-PokerFlat-PokerFlat3Pa@2017-07-21T201417Z@PT11H@PT141F.nc',\n",
       " 'PokerFlatResearchRange-PokerFlat-PokerFlat3Pb@2017-07-21T201417Z@PT11H@PT141F.nc',\n",
       " 'PokerFlatResearchRange-PokerFlat-PokerFlat3Pc@2017-07-21T201417Z@PT11H@PT141F.nc',\n",
       " 'PokerFlatResearchRange-PokerFlat-PokerFlat3Pfa@2017-07-21T201417Z@PT11H@PT141F.nc',\n",
       " 'PokerFlatResearchRange-PokerFlat-PokerFlat3Pfb@2017-07-21T201417Z@PT11H@PT141F.nc',\n",
       " 'PokerFlatResearchRange-PokerFlat-PokerFlat3Pfc@2017-07-21T201417Z@PT11H@PT141F.nc',\n",
       " 'PokerFlatResearchRange-PokerFlat-PokerFlat3PfTot@2017-07-21T201417Z@PT11H@PT141F.nc',\n",
       " 'PokerFlatResearchRange-PokerFlat-PokerFlat3PTot@2017-07-21T201417Z@PT11H@PT141F.nc',\n",
       " 'PokerFlatResearchRange-PokerFlat-PokerFlat3Qa@2017-07-21T201417Z@PT11H@PT141F.nc',\n",
       " 'PokerFlatResearchRange-PokerFlat-PokerFlat3Qb@2017-07-21T201417Z@PT11H@PT141F.nc',\n",
       " 'PokerFlatResearchRange-PokerFlat-PokerFlat3Qc@2017-07-21T201417Z@PT11H@PT141F.nc',\n",
       " 'PokerFlatResearchRange-PokerFlat-PokerFlat3QTot@2017-07-21T201417Z@PT11H@PT141F.nc',\n",
       " 'PokerFlatResearchRange-PokerFlat-PokerFlat3Sa@2017-07-21T201417Z@PT11H@PT141F.nc',\n",
       " 'PokerFlatResearchRange-PokerFlat-PokerFlat3Sb@2017-07-21T201417Z@PT11H@PT141F.nc',\n",
       " 'PokerFlatResearchRange-PokerFlat-PokerFlat3Sc@2017-07-21T201417Z@PT11H@PT141F.nc',\n",
       " 'PokerFlatResearchRange-PokerFlat-PokerFlat3SlidingWindowRealPowerDemand3Ph@2017-07-21T201417Z@PT11H@PT141F.nc',\n",
       " 'PokerFlatResearchRange-PokerFlat-PokerFlat3STot@2017-07-21T201417Z@PT11H@PT141F.nc',\n",
       " 'PokerFlatResearchRange-PokerFlat-PokerFlat3Vab@2017-07-21T201417Z@PT11H@PT141F.nc',\n",
       " 'PokerFlatResearchRange-PokerFlat-PokerFlat3Van@2017-07-21T201417Z@PT11H@PT141F.nc',\n",
       " 'PokerFlatResearchRange-PokerFlat-PokerFlat3Vbc@2017-07-21T201417Z@PT11H@PT141F.nc',\n",
       " 'PokerFlatResearchRange-PokerFlat-PokerFlat3Vbn@2017-07-21T201417Z@PT11H@PT141F.nc',\n",
       " 'PokerFlatResearchRange-PokerFlat-PokerFlat3Vca@2017-07-21T201417Z@PT11H@PT141F.nc',\n",
       " 'PokerFlatResearchRange-PokerFlat-PokerFlat3Vcn@2017-07-21T201417Z@PT11H@PT141F.nc',\n",
       " 'PokerFlatResearchRange-PokerFlat-PokerFlat3VllMean@2017-07-21T201417Z@PT11H@PT141F.nc',\n",
       " 'PokerFlatResearchRange-PokerFlat-PokerFlat3VlnMean@2017-07-21T201417Z@PT11H@PT141F.nc']"
      ]
     },
     "execution_count": 58,
     "metadata": {},
     "output_type": "execute_result"
    }
   ],
   "source": [
    "files_22_nc"
   ]
  },
  {
   "cell_type": "code",
   "execution_count": 111,
   "metadata": {},
   "outputs": [],
   "source": [
    "f1_nc = Dataset(join(join(path_scada_2017_07, days_in_month[0]), 'PokerFlatResearchRange-PokerFlat-PokerFlat1VllMean@2017-07-21T201417Z@PT11H@PT144F.nc'))"
   ]
  },
  {
   "cell_type": "code",
   "execution_count": 93,
   "metadata": {},
   "outputs": [
    {
     "data": {
      "text/plain": [
       "'PokerFlatResearchRange-PokerFlat-PokerFlat1EaNetTot@2017-07-21T201417Z@PT11H@PT144F.nc'"
      ]
     },
     "execution_count": 93,
     "metadata": {},
     "output_type": "execute_result"
    }
   ],
   "source": [
    "files_22_nc[0]"
   ]
  },
  {
   "cell_type": "code",
   "execution_count": 112,
   "metadata": {},
   "outputs": [
    {
     "data": {
      "text/plain": [
       "<class 'netCDF4._netCDF4.Dataset'>\n",
       "root group (NETCDF3_CLASSIC data model, file format NETCDF3):\n",
       "    Latitude: 65.12524\n",
       "    Longitude: -147.487778\n",
       "    AirportCode: FAI\n",
       "    PlaceName: PokerFlatResearchRange\n",
       "    UtilityName: GVEA\n",
       "    StationName: PokerFlat\n",
       "    Make: ELKOR\n",
       "    Model: WattsOn\n",
       "    SpecSheetURL: http://www.elkor.net/pdfs/WattsOn-Mark_II_Datasheet.pdf\n",
       "    dimensions(sizes): time(292477)\n",
       "    variables(dimensions): float64 \u001b[4mtime\u001b[0m(time), float64 \u001b[4mvalue\u001b[0m(time)\n",
       "    groups: "
      ]
     },
     "execution_count": 112,
     "metadata": {},
     "output_type": "execute_result"
    }
   ],
   "source": [
    "f1_nc"
   ]
  },
  {
   "cell_type": "code",
   "execution_count": 113,
   "metadata": {},
   "outputs": [
    {
     "name": "stdout",
     "output_type": "stream",
     "text": [
      "time\n",
      "<class 'netCDF4._netCDF4.Variable'>\n",
      "float64 time(time)\n",
      "    units: seconds\n",
      "    description: seconds since the UNIX epoch\n",
      "unlimited dimensions: time\n",
      "current shape = (292477,)\n",
      "filling on, default _FillValue of 9.969209968386869e+36 used\n",
      "\n",
      "value\n",
      "<class 'netCDF4._netCDF4.Variable'>\n",
      "float64 value(time)\n",
      "    description: Average Voltage L-L\n",
      "    TypeOfMeasurement: Voltage\n",
      "    Accuracy: 0.30%\n",
      "    Resolution: \n",
      "    Units: V\n",
      "    DeviceRangeMax: \n",
      "    DeviceRangeMin: \n",
      "    DeviceInstallationDate: 7/19/2017\n",
      "    Type: \n",
      "    TypeDescription: \n",
      "    Make: \n",
      "    Model: \n",
      "    Year: \n",
      "    DateInstalled: \n",
      "    URLOfQAReport: \n",
      "    URLOfDataLicense: \n",
      "    DataProvider: ACEP\n",
      "    QAProvider: \n",
      "    CopyrightHolder: ACEP\n",
      "    URI: \n",
      "    time: \n",
      "    value: \n",
      "    SamplingRate: \n",
      "    Scale: 1\n",
      "    Offset: 0\n",
      "    RangeMax: \n",
      "    RangeMin: \n",
      "    TheoreticalRangeMax: \n",
      "    TheoreticalRangeMin: \n",
      "    ChannelName: FLOAT\n",
      "    OriginalChannelName: 521\n",
      "    OriginalUnits: V\n",
      "    DailyMin: \n",
      "    DailyMax: \n",
      "    DailyMean: \n",
      "    DailyStdDev: \n",
      "    MonthlyMin: \n",
      "    MonthlyMax: \n",
      "    MonthlyMean: \n",
      "    MonthlyStdDev: \n",
      "    StartTime: \n",
      "    Length: \n",
      "    AUX_GroupType: Average\n",
      "    AUX_Group: Voltage\n",
      "    AUX_Description: Vll(V)\n",
      "    AUX_LastSampleLabel: VllMean(V)\n",
      "unlimited dimensions: time\n",
      "current shape = (292477,)\n",
      "filling on, default _FillValue of 9.969209968386869e+36 used\n",
      "\n"
     ]
    }
   ],
   "source": [
    "for v in f1_nc.variables:\n",
    "    print(v)\n",
    "    print(f1_nc.variables[v])"
   ]
  },
  {
   "cell_type": "code",
   "execution_count": 114,
   "metadata": {},
   "outputs": [
    {
     "name": "stdout",
     "output_type": "stream",
     "text": [
      "NETCDF3_CLASSIC\n"
     ]
    }
   ],
   "source": [
    "print(f1_nc.data_model)"
   ]
  },
  {
   "cell_type": "code",
   "execution_count": 115,
   "metadata": {},
   "outputs": [
    {
     "name": "stdout",
     "output_type": "stream",
     "text": [
      "OrderedDict([('time', <class 'netCDF4._netCDF4.Dimension'> (unlimited): name = 'time', size = 292477\n",
      ")])\n"
     ]
    }
   ],
   "source": [
    "print(f1_nc.dimensions)"
   ]
  },
  {
   "cell_type": "code",
   "execution_count": 116,
   "metadata": {},
   "outputs": [
    {
     "ename": "IndexError",
     "evalue": "Latitude not found in /",
     "output_type": "error",
     "traceback": [
      "\u001b[0;31m---------------------------------------------------------------------------\u001b[0m",
      "\u001b[0;31mIndexError\u001b[0m                                Traceback (most recent call last)",
      "\u001b[0;32m<ipython-input-116-20556ca25d91>\u001b[0m in \u001b[0;36m<module>\u001b[0;34m\u001b[0m\n\u001b[0;32m----> 1\u001b[0;31m \u001b[0mprint\u001b[0m\u001b[0;34m(\u001b[0m\u001b[0mf1_nc\u001b[0m\u001b[0;34m[\u001b[0m\u001b[0;34m'Latitude'\u001b[0m\u001b[0;34m]\u001b[0m\u001b[0;34m)\u001b[0m\u001b[0;34m\u001b[0m\u001b[0;34m\u001b[0m\u001b[0m\n\u001b[0m",
      "\u001b[0;32mnetCDF4/_netCDF4.pyx\u001b[0m in \u001b[0;36mnetCDF4._netCDF4.Dataset.__getitem__\u001b[0;34m()\u001b[0m\n",
      "\u001b[0;31mIndexError\u001b[0m: Latitude not found in /"
     ]
    }
   ],
   "source": [
    "print(f1_nc['Latitude'])"
   ]
  },
  {
   "cell_type": "code",
   "execution_count": 117,
   "metadata": {},
   "outputs": [
    {
     "data": {
      "text/plain": [
       "OrderedDict([('Latitude', '65.12524'),\n",
       "             ('Longitude', '-147.487778'),\n",
       "             ('AirportCode', 'FAI'),\n",
       "             ('PlaceName', 'PokerFlatResearchRange'),\n",
       "             ('UtilityName', 'GVEA'),\n",
       "             ('StationName', 'PokerFlat'),\n",
       "             ('Make', 'ELKOR'),\n",
       "             ('Model', 'WattsOn'),\n",
       "             ('SpecSheetURL',\n",
       "              'http://www.elkor.net/pdfs/WattsOn-Mark_II_Datasheet.pdf')])"
      ]
     },
     "execution_count": 117,
     "metadata": {},
     "output_type": "execute_result"
    }
   ],
   "source": [
    "f1_nc.__dict__"
   ]
  },
  {
   "cell_type": "code",
   "execution_count": 118,
   "metadata": {},
   "outputs": [],
   "source": [
    "neteav = f1_nc.variables['value'][:]"
   ]
  },
  {
   "cell_type": "code",
   "execution_count": 123,
   "metadata": {},
   "outputs": [
    {
     "data": {
      "text/plain": [
       "masked_array(data=[3.17032861e+16, 3.17032861e+16, 3.17032861e+16, ...,\n",
       "                   1.95098625e-20, 1.95098625e-20, 1.95098625e-20],\n",
       "             mask=False,\n",
       "       fill_value=1e+20)"
      ]
     },
     "execution_count": 123,
     "metadata": {},
     "output_type": "execute_result"
    }
   ],
   "source": [
    "neteav"
   ]
  },
  {
   "cell_type": "code",
   "execution_count": 120,
   "metadata": {},
   "outputs": [],
   "source": [
    "nett = f1_nc.variables['time'][:]"
   ]
  },
  {
   "cell_type": "code",
   "execution_count": 121,
   "metadata": {},
   "outputs": [
    {
     "data": {
      "text/plain": [
       "[<matplotlib.lines.Line2D at 0x7f00b26aaeb8>]"
      ]
     },
     "execution_count": 121,
     "metadata": {},
     "output_type": "execute_result"
    },
    {
     "data": {
      "image/png": "[encoded data removed]",
      "text/plain": [
       "<Figure size 432x288 with 1 Axes>"
      ]
     },
     "metadata": {
      "needs_background": "light"
     },
     "output_type": "display_data"
    }
   ],
   "source": [
    "plt.plot(neteav)"
   ]
  },
  {
   "cell_type": "code",
   "execution_count": 122,
   "metadata": {},
   "outputs": [
    {
     "data": {
      "text/plain": [
       "[<matplotlib.lines.Line2D at 0x7f00b2238ba8>]"
      ]
     },
     "execution_count": 122,
     "metadata": {},
     "output_type": "execute_result"
    },
    {
     "data": {
      "image/png": "[encoded data removed]",
      "text/plain": [
       "<Figure size 432x288 with 1 Axes>"
      ]
     },
     "metadata": {
      "needs_background": "light"
     },
     "output_type": "display_data"
    }
   ],
   "source": [
    "plt.plot(nett)"
   ]
  },
  {
   "cell_type": "code",
   "execution_count": 110,
   "metadata": {},
   "outputs": [
    {
     "data": {
      "text/plain": [
       "masked_array(data=[1.50066806e+09, 1.50066806e+09, 1.50066806e+09, ...,\n",
       "                   1.50071040e+09, 1.50071040e+09, 1.50071040e+09],\n",
       "             mask=False,\n",
       "       fill_value=1e+20)"
      ]
     },
     "execution_count": 110,
     "metadata": {},
     "output_type": "execute_result"
    }
   ],
   "source": [
    "nett"
   ]
  },
  {
   "cell_type": "code",
   "execution_count": 125,
   "metadata": {},
   "outputs": [
    {
     "ename": "TypeError",
     "evalue": "join() argument must be str or bytes, not 'list'",
     "output_type": "error",
     "traceback": [
      "\u001b[0;31m---------------------------------------------------------------------------\u001b[0m",
      "\u001b[0;31mTypeError\u001b[0m                                 Traceback (most recent call last)",
      "\u001b[0;32m<ipython-input-125-f91a5f38e5e6>\u001b[0m in \u001b[0;36m<module>\u001b[0;34m\u001b[0m\n\u001b[0;32m----> 1\u001b[0;31m \u001b[0mmf_nc\u001b[0m \u001b[0;34m=\u001b[0m \u001b[0mMFDataset\u001b[0m\u001b[0;34m(\u001b[0m\u001b[0mjoin\u001b[0m\u001b[0;34m(\u001b[0m\u001b[0mjoin\u001b[0m\u001b[0;34m(\u001b[0m\u001b[0mpath_scada_2017_07\u001b[0m\u001b[0;34m,\u001b[0m \u001b[0mdays_in_month\u001b[0m\u001b[0;34m[\u001b[0m\u001b[0;36m0\u001b[0m\u001b[0;34m]\u001b[0m\u001b[0;34m)\u001b[0m\u001b[0;34m,\u001b[0m \u001b[0mfiles_22_nc\u001b[0m\u001b[0;34m)\u001b[0m\u001b[0;34m)\u001b[0m\u001b[0;34m\u001b[0m\u001b[0;34m\u001b[0m\u001b[0m\n\u001b[0m",
      "\u001b[0;32m~/anaconda3/envs/keras2/lib/python3.6/posixpath.py\u001b[0m in \u001b[0;36mjoin\u001b[0;34m(a, *p)\u001b[0m\n\u001b[1;32m     92\u001b[0m                 \u001b[0mpath\u001b[0m \u001b[0;34m+=\u001b[0m \u001b[0msep\u001b[0m \u001b[0;34m+\u001b[0m \u001b[0mb\u001b[0m\u001b[0;34m\u001b[0m\u001b[0;34m\u001b[0m\u001b[0m\n\u001b[1;32m     93\u001b[0m     \u001b[0;32mexcept\u001b[0m \u001b[0;34m(\u001b[0m\u001b[0mTypeError\u001b[0m\u001b[0;34m,\u001b[0m \u001b[0mAttributeError\u001b[0m\u001b[0;34m,\u001b[0m \u001b[0mBytesWarning\u001b[0m\u001b[0;34m)\u001b[0m\u001b[0;34m:\u001b[0m\u001b[0;34m\u001b[0m\u001b[0;34m\u001b[0m\u001b[0m\n\u001b[0;32m---> 94\u001b[0;31m         \u001b[0mgenericpath\u001b[0m\u001b[0;34m.\u001b[0m\u001b[0m_check_arg_types\u001b[0m\u001b[0;34m(\u001b[0m\u001b[0;34m'join'\u001b[0m\u001b[0;34m,\u001b[0m \u001b[0ma\u001b[0m\u001b[0;34m,\u001b[0m \u001b[0;34m*\u001b[0m\u001b[0mp\u001b[0m\u001b[0;34m)\u001b[0m\u001b[0;34m\u001b[0m\u001b[0;34m\u001b[0m\u001b[0m\n\u001b[0m\u001b[1;32m     95\u001b[0m         \u001b[0;32mraise\u001b[0m\u001b[0;34m\u001b[0m\u001b[0;34m\u001b[0m\u001b[0m\n\u001b[1;32m     96\u001b[0m     \u001b[0;32mreturn\u001b[0m \u001b[0mpath\u001b[0m\u001b[0;34m\u001b[0m\u001b[0;34m\u001b[0m\u001b[0m\n",
      "\u001b[0;32m~/anaconda3/envs/keras2/lib/python3.6/genericpath.py\u001b[0m in \u001b[0;36m_check_arg_types\u001b[0;34m(funcname, *args)\u001b[0m\n\u001b[1;32m    147\u001b[0m         \u001b[0;32melse\u001b[0m\u001b[0;34m:\u001b[0m\u001b[0;34m\u001b[0m\u001b[0;34m\u001b[0m\u001b[0m\n\u001b[1;32m    148\u001b[0m             raise TypeError('%s() argument must be str or bytes, not %r' %\n\u001b[0;32m--> 149\u001b[0;31m                             (funcname, s.__class__.__name__)) from None\n\u001b[0m\u001b[1;32m    150\u001b[0m     \u001b[0;32mif\u001b[0m \u001b[0mhasstr\u001b[0m \u001b[0;32mand\u001b[0m \u001b[0mhasbytes\u001b[0m\u001b[0;34m:\u001b[0m\u001b[0;34m\u001b[0m\u001b[0;34m\u001b[0m\u001b[0m\n\u001b[1;32m    151\u001b[0m         \u001b[0;32mraise\u001b[0m \u001b[0mTypeError\u001b[0m\u001b[0;34m(\u001b[0m\u001b[0;34m\"Can't mix strings and bytes in path components\"\u001b[0m\u001b[0;34m)\u001b[0m \u001b[0;32mfrom\u001b[0m \u001b[0;32mNone\u001b[0m\u001b[0;34m\u001b[0m\u001b[0;34m\u001b[0m\u001b[0m\n",
      "\u001b[0;31mTypeError\u001b[0m: join() argument must be str or bytes, not 'list'"
     ]
    }
   ],
   "source": []
  },
  {
   "cell_type": "code",
   "execution_count": 126,
   "metadata": {},
   "outputs": [],
   "source": [
    "files_nc_path = [join(join(path_scada_2017_07, days_in_month[0]), i) for i in files_22_nc]"
   ]
  },
  {
   "cell_type": "code",
   "execution_count": 128,
   "metadata": {},
   "outputs": [],
   "source": [
    "mf_nc = MFDataset(files_nc_path)"
   ]
  },
  {
   "cell_type": "code",
   "execution_count": 129,
   "metadata": {},
   "outputs": [
    {
     "data": {
      "text/plain": [
       "<class 'netCDF4._netCDF4.MFDataset'>\n",
       "root group (NETCDF3_CLASSIC data model, file format NETCDF3):\n",
       "    Latitude: 65.12524\n",
       "    Longitude: -147.487778\n",
       "    AirportCode: FAI\n",
       "    PlaceName: PokerFlatResearchRange\n",
       "    UtilityName: GVEA\n",
       "    StationName: PokerFlat\n",
       "    Make: ELKOR\n",
       "    Model: WattsOn\n",
       "    SpecSheetURL: http://www.elkor.net/pdfs/WattsOn-Mark_II_Datasheet.pdf\n",
       "    dimensions = ('time',)\n",
       "    variables = ('time', 'value')\n",
       "    groups = ()"
      ]
     },
     "execution_count": 129,
     "metadata": {},
     "output_type": "execute_result"
    }
   ],
   "source": [
    "mf_nc"
   ]
  },
  {
   "cell_type": "code",
   "execution_count": 130,
   "metadata": {},
   "outputs": [
    {
     "data": {
      "text/plain": [
       "<class 'netCDF4._netCDF4._Variable'>\n",
       "float64 value('time',)\n",
       "    description: Net Total Energy A\n",
       "    TypeOfMeasurement: Energy\n",
       "    Accuracy: 0.20%\n",
       "    Resolution: \n",
       "    Units: kWh\n",
       "    DeviceRangeMax: \n",
       "    DeviceRangeMin: \n",
       "    DeviceInstallationDate: 7/19/2017\n",
       "    Type: \n",
       "    TypeDescription: \n",
       "    Make: \n",
       "    Model: \n",
       "    Year: \n",
       "    DateInstalled: \n",
       "    URLOfQAReport: \n",
       "    URLOfDataLicense: \n",
       "    DataProvider: ACEP\n",
       "    QAProvider: \n",
       "    CopyrightHolder: ACEP\n",
       "    URI: \n",
       "    time: \n",
       "    value: \n",
       "    SamplingRate: \n",
       "    Scale: 1\n",
       "    Offset: 0\n",
       "    RangeMax: \n",
       "    RangeMin: \n",
       "    TheoreticalRangeMax: \n",
       "    TheoreticalRangeMin: \n",
       "    ChannelName: FLOAT\n",
       "    OriginalChannelName: 4897\n",
       "    OriginalUnits: kWh\n",
       "    DailyMin: \n",
       "    DailyMax: \n",
       "    DailyMean: \n",
       "    DailyStdDev: \n",
       "    MonthlyMin: \n",
       "    MonthlyMax: \n",
       "    MonthlyMean: \n",
       "    MonthlyStdDev: \n",
       "    StartTime: \n",
       "    Length: \n",
       "    AUX_GroupType: Updated\n",
       "    AUX_Group: Energy\n",
       "    AUX_Description: Net Energy A\n",
       "    AUX_LastSampleLabel: EaNetTot(KWh)\n",
       "unlimited dimensions = ('time',)\n",
       "current size = (42086374,)"
      ]
     },
     "execution_count": 130,
     "metadata": {},
     "output_type": "execute_result"
    }
   ],
   "source": [
    "mf_nc.variables['value']"
   ]
  },
  {
   "cell_type": "code",
   "execution_count": 144,
   "metadata": {},
   "outputs": [],
   "source": [
    "from NetcdfHandler import PsiNetcdf"
   ]
  },
  {
   "cell_type": "code",
   "execution_count": null,
   "metadata": {},
   "outputs": [],
   "source": []
  },
  {
   "cell_type": "code",
   "execution_count": 149,
   "metadata": {},
   "outputs": [],
   "source": [
    "psiCDF = PsiNetcdf(f1_nc)"
   ]
  },
  {
   "cell_type": "code",
   "execution_count": 150,
   "metadata": {},
   "outputs": [
    {
     "name": "stdout",
     "output_type": "stream",
     "text": [
      "Global Attributes:\n",
      "\tLatitude: '65.12524'\n",
      "\tLongitude: '-147.487778'\n",
      "\tAirportCode: 'FAI'\n",
      "\tPlaceName: 'PokerFlatResearchRange'\n",
      "\tUtilityName: 'GVEA'\n",
      "\tStationName: 'PokerFlat'\n",
      "\tMake: 'ELKOR'\n",
      "\tModel: 'WattsOn'\n",
      "\tSpecSheetURL: 'http://www.elkor.net/pdfs/WattsOn-Mark_II_Datasheet.pdf'\n",
      "NetCDF dimension information:\n",
      "\tName: time\n",
      "\t\tsize: 292477\n",
      "\t\ttype: dtype('float64')\n",
      "\t\tunits: 'seconds'\n",
      "\t\tdescription: 'seconds since the UNIX epoch'\n",
      "NetCDF variable information:\n",
      "\tName: value\n",
      "\t\tdimensions: ('time',)\n",
      "\t\tsize: 292477\n",
      "\t\ttype: dtype('float64')\n",
      "\t\tdescription: 'Average Voltage L-L'\n",
      "\t\tTypeOfMeasurement: 'Voltage'\n",
      "\t\tAccuracy: '0.30%'\n",
      "\t\tResolution: ''\n",
      "\t\tUnits: 'V'\n",
      "\t\tDeviceRangeMax: ''\n",
      "\t\tDeviceRangeMin: ''\n",
      "\t\tDeviceInstallationDate: '7/19/2017'\n",
      "\t\tType: ''\n",
      "\t\tTypeDescription: ''\n",
      "\t\tMake: ''\n",
      "\t\tModel: ''\n",
      "\t\tYear: ''\n",
      "\t\tDateInstalled: ''\n",
      "\t\tURLOfQAReport: ''\n",
      "\t\tURLOfDataLicense: ''\n",
      "\t\tDataProvider: 'ACEP'\n",
      "\t\tQAProvider: ''\n",
      "\t\tCopyrightHolder: 'ACEP'\n",
      "\t\tURI: ''\n",
      "\t\ttime: ''\n",
      "\t\tvalue: ''\n",
      "\t\tSamplingRate: ''\n",
      "\t\tScale: '1'\n",
      "\t\tOffset: '0'\n",
      "\t\tRangeMax: ''\n",
      "\t\tRangeMin: ''\n",
      "\t\tTheoreticalRangeMax: ''\n",
      "\t\tTheoreticalRangeMin: ''\n",
      "\t\tChannelName: 'FLOAT'\n",
      "\t\tOriginalChannelName: '521'\n",
      "\t\tOriginalUnits: 'V'\n",
      "\t\tDailyMin: ''\n",
      "\t\tDailyMax: ''\n",
      "\t\tDailyMean: ''\n",
      "\t\tDailyStdDev: ''\n",
      "\t\tMonthlyMin: ''\n",
      "\t\tMonthlyMax: ''\n",
      "\t\tMonthlyMean: ''\n",
      "\t\tMonthlyStdDev: ''\n",
      "\t\tStartTime: ''\n",
      "\t\tLength: ''\n",
      "\t\tAUX_GroupType: 'Average'\n",
      "\t\tAUX_Group: 'Voltage'\n",
      "\t\tAUX_Description: 'Vll(V)'\n",
      "\t\tAUX_LastSampleLabel: 'VllMean(V)'\n"
     ]
    }
   ],
   "source": [
    "psiCDF.previewNetcdf()"
   ]
  },
  {
   "cell_type": "code",
   "execution_count": 151,
   "metadata": {},
   "outputs": [
    {
     "data": {
      "image/png": "[encoded data removed]",
      "text/plain": [
       "<Figure size 432x288 with 1 Axes>"
      ]
     },
     "metadata": {
      "needs_background": "light"
     },
     "output_type": "display_data"
    }
   ],
   "source": [
    "psiCDF.plotNetCDF('Voltage B-C',True)"
   ]
  },
  {
   "cell_type": "code",
   "execution_count": 143,
   "metadata": {},
   "outputs": [
    {
     "data": {
      "text/plain": [
       "<module 'matplotlib' from '/home/ubuntu_cp/anaconda3/envs/keras2/lib/python3.6/site-packages/matplotlib/__init__.py'>"
      ]
     },
     "execution_count": 143,
     "metadata": {},
     "output_type": "execute_result"
    }
   ],
   "source": [
    "ply"
   ]
  },
  {
   "cell_type": "code",
   "execution_count": 148,
   "metadata": {},
   "outputs": [],
   "source": [
    "class PsiNetcdf():\n",
    "    import netCDF4\n",
    "    import matplotlib as ply\n",
    "    \n",
    "\n",
    "    def __init__(self,cdf):\n",
    "        \"\"\"\n",
    "        :param cdf: a netcdf object from Netcdf4 library\n",
    "        \"\"\"\n",
    "        self.cdf = cdf\n",
    "        self.variables = \"\"\n",
    "        self.global_attributes = \"\"\n",
    "        self.dimensions =\"\"\n",
    "    def previewNetcdf(self):\n",
    "        '''\n",
    "         outputs dimensions, variables and their attribute information.\n",
    "        The information is similar to that of NCAR's ncdump utility.\n",
    "        '''\n",
    "        # NetCDF global attributes\n",
    "        attrs = self.cdf.ncattrs()\n",
    "        print(\"Global Attributes:\")\n",
    "        for attr in attrs:\n",
    "            print('\\t%s:' % attr, repr(self.cdf.getncattr(attr)))\n",
    "        dims = [dim for dim in self.cdf.dimensions]  # list of nc dimensions\n",
    "        # Dimension shape information.\n",
    "        print(\"NetCDF dimension information:\")\n",
    "        for dim in dims:\n",
    "            print(\"\\tName:\", dim)\n",
    "            print(\"\\t\\tsize:\", len(self.cdf.dimensions[dim]))\n",
    "            self.print_attr(dim)\n",
    "        # Variable information.\n",
    "        vars = [var for var in self.cdf.variables]  # list of nc variables\n",
    "        print(\"NetCDF variable information:\")\n",
    "        for var in vars:\n",
    "            if var not in dims:\n",
    "                print('\\tName:', var)\n",
    "                print(\"\\t\\tdimensions:\", self.cdf.variables[var].dimensions)\n",
    "                print(\"\\t\\tsize:\", self.cdf.variables[var].size)\n",
    "                self.print_attr(var)\n",
    "\n",
    "        return\n",
    "\n",
    "    def print_attr(self, key):\n",
    "        \"\"\"\n",
    "        Prints the NetCDF file attributes for a given key\n",
    "        Parameters\n",
    "        ----------\n",
    "        key : unicode\n",
    "            a valid netCDF4.Dataset.variables key\n",
    "        \"\"\"\n",
    "        try:\n",
    "            print(\"\\t\\ttype:\", repr(self.cdf.variables[key].dtype))\n",
    "            for ncattr in self.cdf.variables[key].ncattrs():\n",
    "                print('\\t\\t%s:' % ncattr, \\\n",
    "                      repr(self.cdf.variables[key].getncattr(ncattr)))\n",
    "        except KeyError:\n",
    "            print(\"\\t\\tWARNING: %s does not contain variable attributes\" % key)\n",
    "\n",
    "    def plotNetCDF(self,variable,save=False):\n",
    "        \"\"\"\n",
    "         Plots the netcdf values against time.       \n",
    "         :param save: boolean. If true the plot is saved as a pdf. Default is false.\n",
    "        :return: None\n",
    "        \"\"\"\n",
    "        from matplotlib.backends.backend_pdf import PdfPages\n",
    "        def makeplot():\n",
    "            ply.pyplot.title('{0} by time'.format(variable))\n",
    "            ply.pyplot.ylabel(self.cdf.variables['value'].getncattr('Units'))\n",
    "            ply.pyplot.plot(x,y)\n",
    "            \n",
    "        x = self.cdf['time']\n",
    "        y = self.cdf['value']\n",
    "        filename = \"{0}_plot.pdf\".format(variable)\n",
    "        if save:\n",
    "            with PdfPages(filename) as pdf:\n",
    "                # plot the raw data\n",
    "                ply.pyplot.figure(figsize=(8, 6))\n",
    "                makeplot()\n",
    "                pdf.savefig()  # saves the current figure into a pdf page\n",
    "                ply.pyplot.close()\n",
    "        makeplot() #plot to the screen.\n",
    "        \n",
    "        \n",
    "\n",
    "    def plot2NetCDF(self, cdf2, smooth = 60, full = True, save = False):\n",
    "        \"\"\"\n",
    "        :param cdf2: a second PsiNetcdf object\n",
    "         :param smooth: integer. The number of seconds to average values over. The default is 60, so that average value over 1 minute is plotted against time.\n",
    "        :param full: boolean. If true the entire dataset is included in one plot. Default is True\n",
    "        :param save: boolean. If true the plot is saved as a pdf. Default is false.\n",
    "        :return: None\n",
    "        \"\"\"\n",
    "        return\n",
    "    \n"
   ]
  },
  {
   "cell_type": "code",
   "execution_count": 161,
   "metadata": {},
   "outputs": [
    {
     "ename": "NameError",
     "evalue": "name 'seconds' is not defined",
     "output_type": "error",
     "traceback": [
      "\u001b[0;31m---------------------------------------------------------------------------\u001b[0m",
      "\u001b[0;31mNameError\u001b[0m                                 Traceback (most recent call last)",
      "\u001b[0;32m<ipython-input-161-e3940d5aaa3f>\u001b[0m in \u001b[0;36m<module>\u001b[0;34m\u001b[0m\n\u001b[0;32m----> 1\u001b[0;31m \u001b[0mnum2date\u001b[0m\u001b[0;34m(\u001b[0m\u001b[0mnett\u001b[0m\u001b[0;34m.\u001b[0m\u001b[0mdata\u001b[0m\u001b[0;34m[\u001b[0m\u001b[0;36m0\u001b[0m\u001b[0;34m]\u001b[0m\u001b[0;34m,\u001b[0m \u001b[0mseconds\u001b[0m \u001b[0;34m)\u001b[0m\u001b[0;34m\u001b[0m\u001b[0;34m\u001b[0m\u001b[0m\n\u001b[0m",
      "\u001b[0;31mNameError\u001b[0m: name 'seconds' is not defined"
     ]
    }
   ],
   "source": [
    "num2date(nett.data[0], seconds )"
   ]
  },
  {
   "cell_type": "code",
   "execution_count": 157,
   "metadata": {},
   "outputs": [
    {
     "data": {
      "text/plain": [
       "array([1.50066806e+09, 1.50066806e+09, 1.50066806e+09, ...,\n",
       "       1.50071040e+09, 1.50071040e+09, 1.50071040e+09])"
      ]
     },
     "execution_count": 157,
     "metadata": {},
     "output_type": "execute_result"
    }
   ],
   "source": [
    "nett.data"
   ]
  },
  {
   "cell_type": "code",
   "execution_count": 165,
   "metadata": {},
   "outputs": [
    {
     "name": "stdout",
     "output_type": "stream",
     "text": [
      "2017-07-21 20:14:17.599595\n"
     ]
    }
   ],
   "source": [
    "from datetime import datetime\n",
    "# if you encounter a \"year is out of range\" error the timestamp\n",
    "# may be in milliseconds, try `ts /= 1000` in that case\n",
    "print(datetime.utcfromtimestamp(nett.data[0]))"
   ]
  },
  {
   "cell_type": "code",
   "execution_count": 164,
   "metadata": {},
   "outputs": [
    {
     "name": "stdout",
     "output_type": "stream",
     "text": [
      "2017-07-21 20:14:17.741638\n"
     ]
    }
   ],
   "source": [
    "print(datetime.utcfromtimestamp(nett.data[1]))"
   ]
  },
  {
   "cell_type": "code",
   "execution_count": 167,
   "metadata": {},
   "outputs": [
    {
     "name": "stdout",
     "output_type": "stream",
     "text": [
      "2017-07-21 20:14:17.899711\n"
     ]
    }
   ],
   "source": [
    "print(datetime.utcfromtimestamp(nett.data[2]))"
   ]
  },
  {
   "cell_type": "code",
   "execution_count": 168,
   "metadata": {},
   "outputs": [
    {
     "data": {
      "text/plain": [
       "300116"
      ]
     },
     "execution_count": 168,
     "metadata": {},
     "output_type": "execute_result"
    }
   ],
   "source": [
    "899711 - 599595"
   ]
  },
  {
   "cell_type": "code",
   "execution_count": 169,
   "metadata": {},
   "outputs": [
    {
     "data": {
      "text/plain": [
       "142043"
      ]
     },
     "execution_count": 169,
     "metadata": {},
     "output_type": "execute_result"
    }
   ],
   "source": [
    "741638 - 599595 "
   ]
  },
  {
   "cell_type": "code",
   "execution_count": 170,
   "metadata": {},
   "outputs": [
    {
     "data": {
      "text/plain": [
       "158073"
      ]
     },
     "execution_count": 170,
     "metadata": {},
     "output_type": "execute_result"
    }
   ],
   "source": [
    "899711 - 741638"
   ]
  },
  {
   "cell_type": "code",
   "execution_count": 172,
   "metadata": {},
   "outputs": [],
   "source": [
    "diff = np.diff(nett.data)"
   ]
  },
  {
   "cell_type": "code",
   "execution_count": 173,
   "metadata": {},
   "outputs": [
    {
     "data": {
      "text/plain": [
       "(array([2.9181e+05, 5.8800e+02, 1.3000e+01, 1.3000e+01, 2.5000e+01,\n",
       "        1.0000e+00, 2.2000e+01, 2.0000e+00, 0.0000e+00, 2.0000e+00]),\n",
       " array([0.12734795, 0.29150505, 0.45566216, 0.61981926, 0.78397636,\n",
       "        0.94813347, 1.11229057, 1.27644768, 1.44060478, 1.60476189,\n",
       "        1.76891899]),\n",
       " <a list of 10 Patch objects>)"
      ]
     },
     "execution_count": 173,
     "metadata": {},
     "output_type": "execute_result"
    },
    {
     "data": {
      "image/png": "[encoded data removed]",
      "text/plain": [
       "<Figure size 432x288 with 1 Axes>"
      ]
     },
     "metadata": {
      "needs_background": "light"
     },
     "output_type": "display_data"
    }
   ],
   "source": [
    "plt.hist(diff)"
   ]
  },
  {
   "cell_type": "code",
   "execution_count": 176,
   "metadata": {},
   "outputs": [],
   "source": [
    "import scipy.stats"
   ]
  },
  {
   "cell_type": "code",
   "execution_count": 177,
   "metadata": {},
   "outputs": [
    {
     "data": {
      "text/plain": [
       "DescribeResult(nobs=292476, minmax=(0.1273479461669922, 1.7689189910888672), mean=0.14478473210403578, variance=0.0003520703030986799, skewness=30.39985793565948, kurtosis=1530.4954821540514)"
      ]
     },
     "execution_count": 177,
     "metadata": {},
     "output_type": "execute_result"
    }
   ],
   "source": [
    "scipy.stats.describe(diff)"
   ]
  },
  {
   "cell_type": "code",
   "execution_count": 178,
   "metadata": {},
   "outputs": [
    {
     "data": {
      "text/plain": [
       "6.944444444444445"
      ]
     },
     "execution_count": 178,
     "metadata": {},
     "output_type": "execute_result"
    }
   ],
   "source": [
    "1/0.144\n"
   ]
  },
  {
   "cell_type": "code",
   "execution_count": 179,
   "metadata": {},
   "outputs": [
    {
     "data": {
      "text/plain": [
       "1500710403.658902"
      ]
     },
     "execution_count": 179,
     "metadata": {},
     "output_type": "execute_result"
    }
   ],
   "source": [
    "nett.data[-1]"
   ]
  },
  {
   "cell_type": "code",
   "execution_count": 180,
   "metadata": {},
   "outputs": [
    {
     "name": "stdout",
     "output_type": "stream",
     "text": [
      "2017-07-22 08:00:03.658902\n"
     ]
    }
   ],
   "source": [
    "print(datetime.utcfromtimestamp(nett.data[-1]))"
   ]
  },
  {
   "cell_type": "code",
   "execution_count": null,
   "metadata": {},
   "outputs": [],
   "source": []
  }
 ],
 "metadata": {
  "kernelspec": {
   "display_name": "Python (keras2)",
   "language": "python",
   "name": "keras2"
  },
  "language_info": {
   "codemirror_mode": {
    "name": "ipython",
    "version": 3
   },
   "file_extension": ".py",
   "mimetype": "text/x-python",
   "name": "python",
   "nbconvert_exporter": "python",
   "pygments_lexer": "ipython3",
   "version": "3.6.8"
  }
 },
 "nbformat": 4,
 "nbformat_minor": 2
}
