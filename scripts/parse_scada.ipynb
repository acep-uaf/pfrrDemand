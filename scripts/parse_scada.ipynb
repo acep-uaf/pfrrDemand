{
 "cells": [
  {
   "cell_type": "markdown",
   "metadata": {},
   "source": [
    "## Work related to parsing the scada files"
   ]
  },
  {
   "cell_type": "code",
   "execution_count": 3,
   "metadata": {},
   "outputs": [],
   "source": [
    "# All the import \n",
    "import pandas as pd\n",
    "import numpy as np\n",
    "from netCDF4 import Dataset, MFDataset, num2date\n",
    "from os import listdir\n",
    "from os.path import isfile, join\n",
    "import gzip\n",
    "import shutil\n",
    "from sh import gunzip\n",
    "import matplotlib.pyplot as plt\n",
    "import matplotlib as ply"
   ]
  },
  {
   "cell_type": "code",
   "execution_count": 8,
   "metadata": {},
   "outputs": [],
   "source": [
    " path_scada_2018_05 = \"/home/ubuntu/demand_acep/demand_acep/data/measurements/2018/05\""
   ]
  },
  {
   "cell_type": "code",
   "execution_count": 9,
   "metadata": {},
   "outputs": [
    {
     "data": {
      "text/plain": [
       "['PokerFlatResearchRange-PokerFlat-PQube3Pc@2018-05-21T185734Z@PT13H@PT151F.nc',\n",
       " 'PokerFlatResearchRange-PokerFlat-PkFltM3SciPc@2018-05-21T185402Z@PT13H@PT139F.nc',\n",
       " 'PokerFlatResearchRange-PokerFlat-PkFltM1AntPc@2018-05-21T174827Z@PT14H@PT142F.nc',\n",
       " 'PokerFlatResearchRange-PokerFlat-PkFltM1AntPa@2018-05-21T081005Z@PT9H@PT142F.nc',\n",
       " 'PokerFlatResearchRange-PokerFlat-PkFltM1AntPTot@2018-05-21T081005Z@PT9H@PT142F.nc',\n",
       " 'PokerFlatResearchRange-PokerFlat-PkFltM1AntPa@2018-05-21T174827Z@PT14H@PT142F.nc',\n",
       " 'PokerFlatResearchRange-PokerFlat-PkFltM3SciPTot@2018-05-21T083005Z@PT10H@PT139F.nc',\n",
       " 'PokerFlatResearchRange-PokerFlat-PkFltM3SciPa@2018-05-21T083005Z@PT10H@PT139F.nc',\n",
       " 'PokerFlatResearchRange-PokerFlat-PkFltM2TelPTot@2018-05-21T184812Z@PT13H@PT140F.nc',\n",
       " 'PokerFlatResearchRange-PokerFlat-PkFltM2TelPa@2018-05-21T082005Z@PT10H@PT139F.nc',\n",
       " 'PokerFlatResearchRange-PokerFlat-PkFltM2TelPc@2018-05-21T184812Z@PT13H@PT140F.nc',\n",
       " 'PokerFlatResearchRange-PokerFlat-PkFltM1AntPb@2018-05-21T174827Z@PT14H@PT142F.nc',\n",
       " 'PokerFlatResearchRange-PokerFlat-PQube3Pa@2018-05-21T080005Z@PT10H@PT151F.nc',\n",
       " 'PokerFlatResearchRange-PokerFlat-PkFltM2TelPTot@2018-05-21T082005Z@PT10H@PT139F.nc',\n",
       " 'PokerFlatResearchRange-PokerFlat-PkFltM3SciPc@2018-05-21T083005Z@PT10H@PT139F.nc',\n",
       " 'PokerFlatResearchRange-PokerFlat-PQube3Pc@2018-05-21T080005Z@PT10H@PT151F.nc',\n",
       " 'PokerFlatResearchRange-PokerFlat-PQube3Pa@2018-05-21T185734Z@PT13H@PT151F.nc',\n",
       " 'PokerFlatResearchRange-PokerFlat-PQube3PTot@2018-05-21T185734Z@PT13H@PT151F.nc',\n",
       " 'PokerFlatResearchRange-PokerFlat-PkFltM1AntPb@2018-05-21T081005Z@PT9H@PT142F.nc',\n",
       " 'PokerFlatResearchRange-PokerFlat-PkFltM3SciPb@2018-05-21T185402Z@PT13H@PT139F.nc',\n",
       " 'PokerFlatResearchRange-PokerFlat-PkFltM3SciPa@2018-05-21T185402Z@PT13H@PT139F.nc',\n",
       " 'PokerFlatResearchRange-PokerFlat-PkFltM3SciPb@2018-05-21T083005Z@PT10H@PT139F.nc',\n",
       " 'PokerFlatResearchRange-PokerFlat-PkFltM2TelPb@2018-05-21T184812Z@PT13H@PT140F.nc',\n",
       " 'PokerFlatResearchRange-PokerFlat-PkFltM1AntPTot@2018-05-21T174827Z@PT14H@PT142F.nc',\n",
       " 'PokerFlatResearchRange-PokerFlat-PkFltM1AntPc@2018-05-21T081005Z@PT9H@PT142F.nc',\n",
       " 'PokerFlatResearchRange-PokerFlat-PkFltM2TelPa@2018-05-21T184812Z@PT13H@PT140F.nc',\n",
       " 'PokerFlatResearchRange-PokerFlat-PQube3Pb@2018-05-21T185734Z@PT13H@PT151F.nc',\n",
       " 'PokerFlatResearchRange-PokerFlat-PkFltM2TelPb@2018-05-21T082005Z@PT10H@PT139F.nc',\n",
       " 'PokerFlatResearchRange-PokerFlat-PQube3Pb@2018-05-21T080005Z@PT10H@PT151F.nc',\n",
       " 'PokerFlatResearchRange-PokerFlat-PkFltM2TelPc@2018-05-21T082005Z@PT10H@PT139F.nc',\n",
       " 'PokerFlatResearchRange-PokerFlat-PQube3PTot@2018-05-21T080005Z@PT10H@PT151F.nc',\n",
       " 'PokerFlatResearchRange-PokerFlat-PkFltM3SciPTot@2018-05-21T185402Z@PT13H@PT139F.nc']"
      ]
     },
     "execution_count": 9,
     "metadata": {},
     "output_type": "execute_result"
    }
   ],
   "source": [
    "listdir(path_scada_2018_05)"
   ]
  },
  {
   "cell_type": "code",
   "execution_count": 12,
   "metadata": {},
   "outputs": [],
   "source": [
    "# Get the days in the month folder\n",
    "files = listdir(path_scada_2018_05)"
   ]
  },
  {
   "cell_type": "code",
   "execution_count": 14,
   "metadata": {},
   "outputs": [],
   "source": [
    "nc_01 = Dataset(join(path_scada_2018_05, files[0]))"
   ]
  },
  {
   "cell_type": "code",
   "execution_count": 16,
   "metadata": {},
   "outputs": [
    {
     "data": {
      "text/plain": [
       "<class 'netCDF4._netCDF4.Dataset'>\n",
       "root group (NETCDF3_CLASSIC data model, file format NETCDF3):\n",
       "    Latitude: 65.12524\n",
       "    Longitude: -147.487778\n",
       "    AirportCode: FAI\n",
       "    PlaceName: PokerFlatResearchRange\n",
       "    UtilityName: GVEA\n",
       "    StationName: PokerFlat\n",
       "    Make: PSL\n",
       "    Model: PQube 3\n",
       "    SpecSheetURL: \n",
       "    dimensions(sizes): time(310920)\n",
       "    variables(dimensions): float64 \u001b[4mtime\u001b[0m(time), float64 \u001b[4mvalue\u001b[0m(time)\n",
       "    groups: "
      ]
     },
     "execution_count": 16,
     "metadata": {},
     "output_type": "execute_result"
    }
   ],
   "source": [
    "nc_01"
   ]
  },
  {
   "cell_type": "code",
   "execution_count": 19,
   "metadata": {},
   "outputs": [],
   "source": [
    "nc_02 = Dataset(join(path_scada_2018_05, files[2]))"
   ]
  },
  {
   "cell_type": "code",
   "execution_count": 20,
   "metadata": {},
   "outputs": [
    {
     "data": {
      "text/plain": [
       "<class 'netCDF4._netCDF4.Dataset'>\n",
       "root group (NETCDF3_CLASSIC data model, file format NETCDF3):\n",
       "    Latitude: 65.12524\n",
       "    Longitude: -147.487778\n",
       "    AirportCode: FAI\n",
       "    PlaceName: PokerFlatResearchRange\n",
       "    UtilityName: GVEA\n",
       "    StationName: PokerFlat\n",
       "    Make: ELKOR\n",
       "    Model: WattsOn\n",
       "    SpecSheetURL: http://www.elkor.net/pdfs/WattsOn-Mark_II_Datasheet.pdf\n",
       "    dimensions(sizes): time(362026)\n",
       "    variables(dimensions): float64 \u001b[4mtime\u001b[0m(time), float64 \u001b[4mvalue\u001b[0m(time)\n",
       "    groups: "
      ]
     },
     "execution_count": 20,
     "metadata": {},
     "output_type": "execute_result"
    }
   ],
   "source": [
    "nc_02"
   ]
  },
  {
   "cell_type": "code",
   "execution_count": null,
   "metadata": {},
   "outputs": [],
   "source": []
  }
 ],
 "metadata": {
  "kernelspec": {
   "display_name": "Python 3",
   "language": "python",
   "name": "python3"
  },
  "language_info": {
   "codemirror_mode": {
    "name": "ipython",
    "version": 3
   },
   "file_extension": ".py",
   "mimetype": "text/x-python",
   "name": "python",
   "nbconvert_exporter": "python",
   "pygments_lexer": "ipython3",
   "version": "3.7.3"
  }
 },
 "nbformat": 4,
 "nbformat_minor": 2
}
