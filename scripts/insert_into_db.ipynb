{
 "cells": [
  {
   "cell_type": "markdown",
   "metadata": {},
   "source": [
    "## This file inserts data into database"
   ]
  },
  {
   "cell_type": "code",
   "execution_count": 1,
   "metadata": {},
   "outputs": [],
   "source": [
    "import os, sys\n",
    "import pandas as pd\n",
    "from sqlalchemy import *"
   ]
  },
  {
   "cell_type": "code",
   "execution_count": 2,
   "metadata": {},
   "outputs": [],
   "source": [
    "module_path = os.path.abspath(os.path.join('..', 'demand_acep'))\n",
    "if module_path not in sys.path:\n",
    "    sys.path.append(module_path)"
   ]
  },
  {
   "cell_type": "code",
   "execution_count": 3,
   "metadata": {},
   "outputs": [],
   "source": [
    "db = create_engine('postgresql://cp84@localhost:5432/demand_acep')"
   ]
  },
  {
   "cell_type": "code",
   "execution_count": 4,
   "metadata": {},
   "outputs": [
    {
     "name": "stdout",
     "output_type": "stream",
     "text": [
      "Config imported\n"
     ]
    }
   ],
   "source": [
    "from insert_into_db import insert_into_database"
   ]
  },
  {
   "cell_type": "code",
   "execution_count": 5,
   "metadata": {},
   "outputs": [],
   "source": [
    "import config"
   ]
  },
  {
   "cell_type": "code",
   "execution_count": 6,
   "metadata": {},
   "outputs": [],
   "source": [
    "data_date = \"11/01/2017\""
   ]
  },
  {
   "cell_type": "code",
   "execution_count": 7,
   "metadata": {},
   "outputs": [
    {
     "name": "stdout",
     "output_type": "stream",
     "text": [
      "2017\n",
      "/gscratch/stf/demand_acep/Data\n",
      "/gscratch/stf/demand_acep/Data/2017/11/01\n",
      "{'PkFltM1Ant': ['time', 'EaDel', 'EbDel', 'EcDel', 'EDelTot', 'EaNetTot', 'EbNetTot', 'EcNetTot', 'ENetTot', 'EapaTot', 'EapbTot', 'EapcTot', 'EapTot', 'EaRec', 'EbRec', 'EcRec', 'ERecTot', 'EreNegTot', 'ErePosTot', 'F', 'Ia', 'Ib', 'Ic', 'IMean', 'Pa', 'Pb', 'Pc', 'PTot', 'Pfa', 'Pfb', 'Pfc', 'PfTot', 'Qa', 'Qb', 'Qc', 'QTot', 'Sa', 'Sb', 'Sc', 'STot', 'SlidingWindowRealPowerDemand3Ph', 'Vab', 'Van', 'Vbc', 'Vbn', 'Vca', 'Vcn', 'VllMean', 'VlnMean'], 'PkFltM2Tel': ['time', 'EaDel', 'EbDel', 'EcDel', 'EDelTot', 'EaNetTot', 'EbNetTot', 'EcNetTot', 'ENetTot', 'EapaTot', 'EapbTot', 'EapcTot', 'EapTot', 'EaRec', 'EbRec', 'EcRec', 'ERecTot', 'EreNegTot', 'ErePosTot', 'F', 'Ia', 'Ib', 'Ic', 'IMean', 'Pa', 'Pb', 'Pc', 'PTot', 'Pfa', 'Pfb', 'Pfc', 'PfTot', 'Qa', 'Qb', 'Qc', 'QTot', 'Sa', 'Sb', 'Sc', 'STot', 'SlidingWindowRealPowerDemand3Ph', 'Vab', 'Van', 'Vbc', 'Vbn', 'Vca', 'Vcn', 'VllMean', 'VlnMean'], 'PkFltM3Sci': ['time', 'EaDel', 'EbDel', 'EcDel', 'EDelTot', 'EaNetTot', 'EbNetTot', 'EcNetTot', 'ENetTot', 'EapaTot', 'EapbTot', 'EapcTot', 'EapTot', 'EaRec', 'EbRec', 'EcRec', 'ERecTot', 'EreNegTot', 'ErePosTot', 'F', 'Ia', 'Ib', 'Ic', 'IMean', 'Pa', 'Pb', 'Pc', 'PTot', 'Pfa', 'Pfb', 'Pfc', 'PfTot', 'Qa', 'Qb', 'Qc', 'QTot', 'Sa', 'Sb', 'Sc', 'STot', 'SlidingWindowRealPowerDemand3Ph', 'Vab', 'Van', 'Vbc', 'Vbn', 'Vca', 'Vcn', 'VllMean', 'VlnMean'], 'PQube3': ['time', 'EaDel', 'EbDel', 'EcDel', 'EDelTot', 'EaNetTot', 'EbNetTot', 'EcNetTot', 'ENetTot', 'EapaTot', 'EapbTot', 'EapcTot', 'EapTot', 'EaRec', 'EbRec', 'EcRec', 'ERecTot', 'EreNegTot', 'ErePosTot', 'F', 'Ia', 'Ib', 'Ic', 'IMean', 'Pa', 'Pb', 'Pc', 'PTot', 'Pfa', 'Pfb', 'Pfc', 'PfTot', 'Qa', 'Qb', 'Qc', 'QTot', 'Sa', 'Sb', 'Sc', 'STot', 'SlidingWindowRealPowerDemand3Ph', 'Vab', 'Van', 'Vbc', 'Vbn', 'Vca', 'Vcn', 'VllMean', 'VlnMean']}\n",
      "[2017, 2018, 2019]\n",
      "{'PkFltM1Ant': Empty DataFrame\n",
      "Columns: []\n",
      "Index: [], 'PkFltM2Tel': Empty DataFrame\n",
      "Columns: []\n",
      "Index: [], 'PkFltM3Sci': Empty DataFrame\n",
      "Columns: []\n",
      "Index: [], 'PQube3': Empty DataFrame\n",
      "Columns: []\n",
      "Index: []}\n",
      "PkFltM2Tel\n",
      "PkFltM3Sci\n",
      "PQube3\n",
      "PkFltM2Tel\n",
      "PkFltM3Sci\n",
      "PQube3\n",
      "PkFltM2Tel\n",
      "PQube3\n",
      "PQube3\n",
      "PkFltM3Sci\n",
      "PkFltM1Ant\n",
      "PkFltM2Tel\n",
      "PQube3\n",
      "PkFltM1Ant\n",
      "PkFltM1Ant\n",
      "PkFltM2Tel\n",
      "PkFltM1Ant\n",
      "PQube3\n",
      "PkFltM2Tel\n",
      "PQube3\n",
      "PkFltM2Tel\n",
      "PQube3\n",
      "PkFltM2Tel\n",
      "PkFltM2Tel\n",
      "PQube3\n",
      "PkFltM2Tel\n",
      "PkFltM2Tel\n",
      "PkFltM2Tel\n",
      "PkFltM3Sci\n",
      "PkFltM2Tel\n",
      "PkFltM3Sci\n",
      "PQube3\n",
      "PQube3\n",
      "PQube3\n",
      "PkFltM1Ant\n",
      "PkFltM3Sci\n",
      "PkFltM3Sci\n",
      "PkFltM3Sci\n",
      "PkFltM2Tel\n",
      "PkFltM1Ant\n",
      "PkFltM3Sci\n",
      "PQube3\n",
      "PkFltM3Sci\n",
      "PkFltM2Tel\n",
      "PkFltM1Ant\n",
      "PQube3\n",
      "PkFltM2Tel\n",
      "PkFltM1Ant\n",
      "PkFltM1Ant\n",
      "PkFltM2Tel\n",
      "PQube3\n",
      "PkFltM3Sci\n",
      "PkFltM3Sci\n",
      "PkFltM3Sci\n",
      "PkFltM3Sci\n",
      "PkFltM1Ant\n",
      "PkFltM3Sci\n",
      "PkFltM1Ant\n",
      "PkFltM1Ant\n",
      "PkFltM3Sci\n",
      "PkFltM3Sci\n",
      "PkFltM3Sci\n",
      "PkFltM2Tel\n",
      "PkFltM1Ant\n",
      "PkFltM1Ant\n",
      "PQube3\n",
      "PQube3\n",
      "PQube3\n",
      "PkFltM1Ant\n",
      "PQube3\n",
      "PkFltM2Tel\n",
      "PkFltM2Tel\n",
      "PkFltM3Sci\n",
      "PQube3\n",
      "PkFltM1Ant\n",
      "PkFltM1Ant\n",
      "PkFltM1Ant\n",
      "PkFltM1Ant\n",
      "PkFltM1Ant\n",
      "PkFltM2Tel\n",
      "PQube3\n",
      "PQube3\n",
      "PkFltM2Tel\n",
      "PkFltM3Sci\n",
      "PkFltM1Ant\n",
      "PQube3\n",
      "PkFltM2Tel\n",
      "PQube3\n",
      "PQube3\n",
      "PQube3\n",
      "PkFltM1Ant\n",
      "PkFltM1Ant\n",
      "PkFltM2Tel\n",
      "PkFltM1Ant\n",
      "PQube3\n",
      "PQube3\n",
      "PkFltM3Sci\n",
      "PQube3\n",
      "PkFltM3Sci\n",
      "PkFltM1Ant\n",
      "PQube3\n",
      "PkFltM1Ant\n",
      "PQube3\n",
      "PkFltM2Tel\n",
      "PkFltM3Sci\n",
      "PkFltM3Sci\n",
      "PkFltM1Ant\n",
      "PkFltM2Tel\n",
      "PQube3\n",
      "PkFltM2Tel\n",
      "PQube3\n",
      "PkFltM2Tel\n",
      "PQube3\n",
      "PkFltM2Tel\n",
      "PQube3\n",
      "PkFltM3Sci\n",
      "PkFltM2Tel\n",
      "PkFltM1Ant\n",
      "PkFltM2Tel\n",
      "PkFltM3Sci\n",
      "PkFltM3Sci\n",
      "PkFltM2Tel\n",
      "PQube3\n",
      "PkFltM1Ant\n",
      "PkFltM2Tel\n",
      "PkFltM1Ant\n",
      "PkFltM2Tel\n",
      "PkFltM3Sci\n",
      "PkFltM3Sci\n",
      "PQube3\n",
      "PkFltM2Tel\n",
      "PkFltM1Ant\n",
      "PkFltM3Sci\n",
      "PkFltM3Sci\n",
      "PkFltM1Ant\n",
      "PkFltM1Ant\n",
      "PkFltM2Tel\n",
      "PkFltM3Sci\n",
      "PkFltM1Ant\n",
      "PkFltM3Sci\n",
      "PkFltM3Sci\n",
      "PkFltM2Tel\n",
      "PkFltM3Sci\n",
      "PkFltM3Sci\n",
      "PkFltM1Ant\n",
      "PkFltM1Ant\n",
      "PkFltM3Sci\n",
      "PQube3\n",
      "PkFltM1Ant\n",
      "PkFltM3Sci\n",
      "PkFltM2Tel\n",
      "PkFltM2Tel\n",
      "PkFltM1Ant\n",
      "PkFltM1Ant\n",
      "PkFltM2Tel\n",
      "PkFltM3Sci\n",
      "PkFltM1Ant\n",
      "PkFltM1Ant\n",
      "PkFltM2Tel\n",
      "PkFltM3Sci\n",
      "PkFltM2Tel\n",
      "PkFltM3Sci\n",
      "PkFltM2Tel\n",
      "PQube3\n",
      "PkFltM2Tel\n",
      "PkFltM2Tel\n",
      "PQube3\n",
      "PkFltM1Ant\n",
      "PQube3\n",
      "PkFltM1Ant\n",
      "PkFltM3Sci\n",
      "PkFltM3Sci\n",
      "PkFltM2Tel\n",
      "PkFltM1Ant\n",
      "PQube3\n",
      "PQube3\n",
      "PkFltM3Sci\n",
      "PkFltM1Ant\n",
      "PQube3\n",
      "PkFltM2Tel\n",
      "PkFltM2Tel\n",
      "PkFltM1Ant\n",
      "PkFltM1Ant\n",
      "PkFltM3Sci\n",
      "PkFltM1Ant\n",
      "PQube3\n",
      "PkFltM3Sci\n",
      "PkFltM3Sci\n",
      "PkFltM3Sci\n",
      "PQube3\n"
     ]
    }
   ],
   "source": [
    "meter_collection = insert_into_database(db, config, data_date)"
   ]
  },
  {
   "cell_type": "code",
   "execution_count": 8,
   "metadata": {},
   "outputs": [
    {
     "name": "stdout",
     "output_type": "stream",
     "text": [
      "<class 'pandas.core.frame.DataFrame'>\n",
      "DatetimeIndex: 408583 entries, 2017-11-01 08:10:03.196509 to 2017-11-02 08:10:02.984116\n",
      "Data columns (total 48 columns):\n",
      "EaRec                              408583 non-null float64\n",
      "STot                               408583 non-null float64\n",
      "Vbn                                408583 non-null float64\n",
      "Ib                                 408583 non-null float64\n",
      "EcNetTot                           408583 non-null float64\n",
      "VllMean                            408583 non-null float64\n",
      "EcDel                              408583 non-null float64\n",
      "Sa                                 408583 non-null float64\n",
      "Vca                                408583 non-null float64\n",
      "PTot                               408583 non-null float64\n",
      "Qc                                 408583 non-null float64\n",
      "Pb                                 408583 non-null float64\n",
      "Qb                                 408583 non-null float64\n",
      "VlnMean                            408583 non-null float64\n",
      "Vab                                408583 non-null float64\n",
      "EapTot                             408583 non-null float64\n",
      "EreNegTot                          408583 non-null float64\n",
      "EapbTot                            408583 non-null float64\n",
      "EDelTot                            408583 non-null float64\n",
      "ErePosTot                          408583 non-null float64\n",
      "PfTot                              408583 non-null float64\n",
      "EapaTot                            408583 non-null float64\n",
      "Ia                                 408583 non-null float64\n",
      "EbNetTot                           408583 non-null float64\n",
      "Pa                                 408583 non-null float64\n",
      "ENetTot                            408583 non-null float64\n",
      "F                                  408583 non-null float64\n",
      "SlidingWindowRealPowerDemand3Ph    408583 non-null float64\n",
      "ERecTot                            408583 non-null float64\n",
      "EbRec                              408583 non-null float64\n",
      "EbDel                              408583 non-null float64\n",
      "Ic                                 408583 non-null float64\n",
      "Qa                                 408583 non-null float64\n",
      "Sb                                 408583 non-null float64\n",
      "QTot                               408583 non-null float64\n",
      "Pc                                 408583 non-null float64\n",
      "Pfc                                408583 non-null float64\n",
      "Pfa                                408583 non-null float64\n",
      "Vbc                                408583 non-null float64\n",
      "IMean                              408583 non-null float64\n",
      "Sc                                 408583 non-null float64\n",
      "EaDel                              408583 non-null float64\n",
      "Vcn                                408583 non-null float64\n",
      "EcRec                              408583 non-null float64\n",
      "Van                                408583 non-null float64\n",
      "EaNetTot                           408583 non-null float64\n",
      "Pfb                                408583 non-null float64\n",
      "EapcTot                            408583 non-null float64\n",
      "dtypes: float64(48)\n",
      "memory usage: 152.7 MB\n"
     ]
    }
   ],
   "source": [
    "meter_collection['PkFltM1Ant'].info()"
   ]
  },
  {
   "cell_type": "code",
   "execution_count": 9,
   "metadata": {},
   "outputs": [],
   "source": [
    "a = {\"abc\":1, \"def\" : 2}"
   ]
  },
  {
   "cell_type": "code",
   "execution_count": 10,
   "metadata": {},
   "outputs": [],
   "source": [
    "from datetime import datetime"
   ]
  },
  {
   "cell_type": "code",
   "execution_count": 11,
   "metadata": {},
   "outputs": [],
   "source": [
    "#pd.DataFrame(columns = ['time', 'sim'], dtype = [datetime, float])"
   ]
  },
  {
   "cell_type": "code",
   "execution_count": 12,
   "metadata": {},
   "outputs": [
    {
     "data": {
      "text/plain": [
       "dict_keys(['abc', 'def'])"
      ]
     },
     "execution_count": 12,
     "metadata": {},
     "output_type": "execute_result"
    }
   ],
   "source": [
    "a.keys()"
   ]
  },
  {
   "cell_type": "code",
   "execution_count": 13,
   "metadata": {},
   "outputs": [],
   "source": [
    "import io"
   ]
  },
  {
   "cell_type": "code",
   "execution_count": 14,
   "metadata": {},
   "outputs": [],
   "source": [
    "cols=[\"time\", \"name\", \"score\", \"height\", \"weight\"]"
   ]
  },
  {
   "cell_type": "code",
   "execution_count": 15,
   "metadata": {},
   "outputs": [],
   "source": [
    "df = pd.read_csv(io.StringIO(\"\"), names=cols, dtype=dict(zip(cols,[int, str, int, float, float])), index_col=['time']) "
   ]
  },
  {
   "cell_type": "code",
   "execution_count": 16,
   "metadata": {},
   "outputs": [
    {
     "name": "stdout",
     "output_type": "stream",
     "text": [
      "<class 'pandas.core.frame.DataFrame'>\n",
      "Int64Index: 0 entries\n",
      "Data columns (total 4 columns):\n",
      "name      0 non-null object\n",
      "score     0 non-null int64\n",
      "height    0 non-null float64\n",
      "weight    0 non-null float64\n",
      "dtypes: float64(2), int64(1), object(1)\n",
      "memory usage: 0.0+ bytes\n"
     ]
    }
   ],
   "source": [
    "df.info()"
   ]
  },
  {
   "cell_type": "code",
   "execution_count": 17,
   "metadata": {},
   "outputs": [
    {
     "ename": "KeyError",
     "evalue": "1",
     "output_type": "error",
     "traceback": [
      "\u001b[0;31m---------------------------------------------------------------------------\u001b[0m",
      "\u001b[0;31mKeyError\u001b[0m                                  Traceback (most recent call last)",
      "\u001b[0;32m/sw/anaconda-5.3/python3.7/lib/python3.6/site-packages/pandas/core/indexes/base.py\u001b[0m in \u001b[0;36mget_loc\u001b[0;34m(self, key, method, tolerance)\u001b[0m\n\u001b[1;32m   2524\u001b[0m             \u001b[0;32mtry\u001b[0m\u001b[0;34m:\u001b[0m\u001b[0;34m\u001b[0m\u001b[0m\n\u001b[0;32m-> 2525\u001b[0;31m                 \u001b[0;32mreturn\u001b[0m \u001b[0mself\u001b[0m\u001b[0;34m.\u001b[0m\u001b[0m_engine\u001b[0m\u001b[0;34m.\u001b[0m\u001b[0mget_loc\u001b[0m\u001b[0;34m(\u001b[0m\u001b[0mkey\u001b[0m\u001b[0;34m)\u001b[0m\u001b[0;34m\u001b[0m\u001b[0m\n\u001b[0m\u001b[1;32m   2526\u001b[0m             \u001b[0;32mexcept\u001b[0m \u001b[0mKeyError\u001b[0m\u001b[0;34m:\u001b[0m\u001b[0;34m\u001b[0m\u001b[0m\n",
      "\u001b[0;32mpandas/_libs/index.pyx\u001b[0m in \u001b[0;36mpandas._libs.index.IndexEngine.get_loc\u001b[0;34m()\u001b[0m\n",
      "\u001b[0;32mpandas/_libs/index.pyx\u001b[0m in \u001b[0;36mpandas._libs.index.IndexEngine.get_loc\u001b[0;34m()\u001b[0m\n",
      "\u001b[0;32mpandas/_libs/hashtable_class_helper.pxi\u001b[0m in \u001b[0;36mpandas._libs.hashtable.PyObjectHashTable.get_item\u001b[0;34m()\u001b[0m\n",
      "\u001b[0;32mpandas/_libs/hashtable_class_helper.pxi\u001b[0m in \u001b[0;36mpandas._libs.hashtable.PyObjectHashTable.get_item\u001b[0;34m()\u001b[0m\n",
      "\u001b[0;31mKeyError\u001b[0m: 1",
      "\nDuring handling of the above exception, another exception occurred:\n",
      "\u001b[0;31mKeyError\u001b[0m                                  Traceback (most recent call last)",
      "\u001b[0;32m<ipython-input-17-8ca6318d3b72>\u001b[0m in \u001b[0;36m<module>\u001b[0;34m()\u001b[0m\n\u001b[0;32m----> 1\u001b[0;31m \u001b[0mdf\u001b[0m\u001b[0;34m.\u001b[0m\u001b[0mset_index\u001b[0m\u001b[0;34m(\u001b[0m\u001b[0;34m[\u001b[0m\u001b[0;36m1\u001b[0m\u001b[0;34m,\u001b[0m \u001b[0;36m2\u001b[0m\u001b[0;34m,\u001b[0m \u001b[0;36m3\u001b[0m\u001b[0;34m,\u001b[0m \u001b[0;36m4\u001b[0m\u001b[0;34m]\u001b[0m\u001b[0;34m)\u001b[0m\u001b[0;34m\u001b[0m\u001b[0m\n\u001b[0m",
      "\u001b[0;32m/sw/anaconda-5.3/python3.7/lib/python3.6/site-packages/pandas/core/frame.py\u001b[0m in \u001b[0;36mset_index\u001b[0;34m(self, keys, drop, append, inplace, verify_integrity)\u001b[0m\n\u001b[1;32m   3144\u001b[0m                 \u001b[0mnames\u001b[0m\u001b[0;34m.\u001b[0m\u001b[0mappend\u001b[0m\u001b[0;34m(\u001b[0m\u001b[0;32mNone\u001b[0m\u001b[0;34m)\u001b[0m\u001b[0;34m\u001b[0m\u001b[0m\n\u001b[1;32m   3145\u001b[0m             \u001b[0;32melse\u001b[0m\u001b[0;34m:\u001b[0m\u001b[0;34m\u001b[0m\u001b[0m\n\u001b[0;32m-> 3146\u001b[0;31m                 \u001b[0mlevel\u001b[0m \u001b[0;34m=\u001b[0m \u001b[0mframe\u001b[0m\u001b[0;34m[\u001b[0m\u001b[0mcol\u001b[0m\u001b[0;34m]\u001b[0m\u001b[0;34m.\u001b[0m\u001b[0m_values\u001b[0m\u001b[0;34m\u001b[0m\u001b[0m\n\u001b[0m\u001b[1;32m   3147\u001b[0m                 \u001b[0mnames\u001b[0m\u001b[0;34m.\u001b[0m\u001b[0mappend\u001b[0m\u001b[0;34m(\u001b[0m\u001b[0mcol\u001b[0m\u001b[0;34m)\u001b[0m\u001b[0;34m\u001b[0m\u001b[0m\n\u001b[1;32m   3148\u001b[0m                 \u001b[0;32mif\u001b[0m \u001b[0mdrop\u001b[0m\u001b[0;34m:\u001b[0m\u001b[0;34m\u001b[0m\u001b[0m\n",
      "\u001b[0;32m/sw/anaconda-5.3/python3.7/lib/python3.6/site-packages/pandas/core/frame.py\u001b[0m in \u001b[0;36m__getitem__\u001b[0;34m(self, key)\u001b[0m\n\u001b[1;32m   2137\u001b[0m             \u001b[0;32mreturn\u001b[0m \u001b[0mself\u001b[0m\u001b[0;34m.\u001b[0m\u001b[0m_getitem_multilevel\u001b[0m\u001b[0;34m(\u001b[0m\u001b[0mkey\u001b[0m\u001b[0;34m)\u001b[0m\u001b[0;34m\u001b[0m\u001b[0m\n\u001b[1;32m   2138\u001b[0m         \u001b[0;32melse\u001b[0m\u001b[0;34m:\u001b[0m\u001b[0;34m\u001b[0m\u001b[0m\n\u001b[0;32m-> 2139\u001b[0;31m             \u001b[0;32mreturn\u001b[0m \u001b[0mself\u001b[0m\u001b[0;34m.\u001b[0m\u001b[0m_getitem_column\u001b[0m\u001b[0;34m(\u001b[0m\u001b[0mkey\u001b[0m\u001b[0;34m)\u001b[0m\u001b[0;34m\u001b[0m\u001b[0m\n\u001b[0m\u001b[1;32m   2140\u001b[0m \u001b[0;34m\u001b[0m\u001b[0m\n\u001b[1;32m   2141\u001b[0m     \u001b[0;32mdef\u001b[0m \u001b[0m_getitem_column\u001b[0m\u001b[0;34m(\u001b[0m\u001b[0mself\u001b[0m\u001b[0;34m,\u001b[0m \u001b[0mkey\u001b[0m\u001b[0;34m)\u001b[0m\u001b[0;34m:\u001b[0m\u001b[0;34m\u001b[0m\u001b[0m\n",
      "\u001b[0;32m/sw/anaconda-5.3/python3.7/lib/python3.6/site-packages/pandas/core/frame.py\u001b[0m in \u001b[0;36m_getitem_column\u001b[0;34m(self, key)\u001b[0m\n\u001b[1;32m   2144\u001b[0m         \u001b[0;31m# get column\u001b[0m\u001b[0;34m\u001b[0m\u001b[0;34m\u001b[0m\u001b[0m\n\u001b[1;32m   2145\u001b[0m         \u001b[0;32mif\u001b[0m \u001b[0mself\u001b[0m\u001b[0;34m.\u001b[0m\u001b[0mcolumns\u001b[0m\u001b[0;34m.\u001b[0m\u001b[0mis_unique\u001b[0m\u001b[0;34m:\u001b[0m\u001b[0;34m\u001b[0m\u001b[0m\n\u001b[0;32m-> 2146\u001b[0;31m             \u001b[0;32mreturn\u001b[0m \u001b[0mself\u001b[0m\u001b[0;34m.\u001b[0m\u001b[0m_get_item_cache\u001b[0m\u001b[0;34m(\u001b[0m\u001b[0mkey\u001b[0m\u001b[0;34m)\u001b[0m\u001b[0;34m\u001b[0m\u001b[0m\n\u001b[0m\u001b[1;32m   2147\u001b[0m \u001b[0;34m\u001b[0m\u001b[0m\n\u001b[1;32m   2148\u001b[0m         \u001b[0;31m# duplicate columns & possible reduce dimensionality\u001b[0m\u001b[0;34m\u001b[0m\u001b[0;34m\u001b[0m\u001b[0m\n",
      "\u001b[0;32m/sw/anaconda-5.3/python3.7/lib/python3.6/site-packages/pandas/core/generic.py\u001b[0m in \u001b[0;36m_get_item_cache\u001b[0;34m(self, item)\u001b[0m\n\u001b[1;32m   1840\u001b[0m         \u001b[0mres\u001b[0m \u001b[0;34m=\u001b[0m \u001b[0mcache\u001b[0m\u001b[0;34m.\u001b[0m\u001b[0mget\u001b[0m\u001b[0;34m(\u001b[0m\u001b[0mitem\u001b[0m\u001b[0;34m)\u001b[0m\u001b[0;34m\u001b[0m\u001b[0m\n\u001b[1;32m   1841\u001b[0m         \u001b[0;32mif\u001b[0m \u001b[0mres\u001b[0m \u001b[0;32mis\u001b[0m \u001b[0;32mNone\u001b[0m\u001b[0;34m:\u001b[0m\u001b[0;34m\u001b[0m\u001b[0m\n\u001b[0;32m-> 1842\u001b[0;31m             \u001b[0mvalues\u001b[0m \u001b[0;34m=\u001b[0m \u001b[0mself\u001b[0m\u001b[0;34m.\u001b[0m\u001b[0m_data\u001b[0m\u001b[0;34m.\u001b[0m\u001b[0mget\u001b[0m\u001b[0;34m(\u001b[0m\u001b[0mitem\u001b[0m\u001b[0;34m)\u001b[0m\u001b[0;34m\u001b[0m\u001b[0m\n\u001b[0m\u001b[1;32m   1843\u001b[0m             \u001b[0mres\u001b[0m \u001b[0;34m=\u001b[0m \u001b[0mself\u001b[0m\u001b[0;34m.\u001b[0m\u001b[0m_box_item_values\u001b[0m\u001b[0;34m(\u001b[0m\u001b[0mitem\u001b[0m\u001b[0;34m,\u001b[0m \u001b[0mvalues\u001b[0m\u001b[0;34m)\u001b[0m\u001b[0;34m\u001b[0m\u001b[0m\n\u001b[1;32m   1844\u001b[0m             \u001b[0mcache\u001b[0m\u001b[0;34m[\u001b[0m\u001b[0mitem\u001b[0m\u001b[0;34m]\u001b[0m \u001b[0;34m=\u001b[0m \u001b[0mres\u001b[0m\u001b[0;34m\u001b[0m\u001b[0m\n",
      "\u001b[0;32m/sw/anaconda-5.3/python3.7/lib/python3.6/site-packages/pandas/core/internals.py\u001b[0m in \u001b[0;36mget\u001b[0;34m(self, item, fastpath)\u001b[0m\n\u001b[1;32m   3841\u001b[0m \u001b[0;34m\u001b[0m\u001b[0m\n\u001b[1;32m   3842\u001b[0m             \u001b[0;32mif\u001b[0m \u001b[0;32mnot\u001b[0m \u001b[0misna\u001b[0m\u001b[0;34m(\u001b[0m\u001b[0mitem\u001b[0m\u001b[0;34m)\u001b[0m\u001b[0;34m:\u001b[0m\u001b[0;34m\u001b[0m\u001b[0m\n\u001b[0;32m-> 3843\u001b[0;31m                 \u001b[0mloc\u001b[0m \u001b[0;34m=\u001b[0m \u001b[0mself\u001b[0m\u001b[0;34m.\u001b[0m\u001b[0mitems\u001b[0m\u001b[0;34m.\u001b[0m\u001b[0mget_loc\u001b[0m\u001b[0;34m(\u001b[0m\u001b[0mitem\u001b[0m\u001b[0;34m)\u001b[0m\u001b[0;34m\u001b[0m\u001b[0m\n\u001b[0m\u001b[1;32m   3844\u001b[0m             \u001b[0;32melse\u001b[0m\u001b[0;34m:\u001b[0m\u001b[0;34m\u001b[0m\u001b[0m\n\u001b[1;32m   3845\u001b[0m                 \u001b[0mindexer\u001b[0m \u001b[0;34m=\u001b[0m \u001b[0mnp\u001b[0m\u001b[0;34m.\u001b[0m\u001b[0marange\u001b[0m\u001b[0;34m(\u001b[0m\u001b[0mlen\u001b[0m\u001b[0;34m(\u001b[0m\u001b[0mself\u001b[0m\u001b[0;34m.\u001b[0m\u001b[0mitems\u001b[0m\u001b[0;34m)\u001b[0m\u001b[0;34m)\u001b[0m\u001b[0;34m[\u001b[0m\u001b[0misna\u001b[0m\u001b[0;34m(\u001b[0m\u001b[0mself\u001b[0m\u001b[0;34m.\u001b[0m\u001b[0mitems\u001b[0m\u001b[0;34m)\u001b[0m\u001b[0;34m]\u001b[0m\u001b[0;34m\u001b[0m\u001b[0m\n",
      "\u001b[0;32m/sw/anaconda-5.3/python3.7/lib/python3.6/site-packages/pandas/core/indexes/base.py\u001b[0m in \u001b[0;36mget_loc\u001b[0;34m(self, key, method, tolerance)\u001b[0m\n\u001b[1;32m   2525\u001b[0m                 \u001b[0;32mreturn\u001b[0m \u001b[0mself\u001b[0m\u001b[0;34m.\u001b[0m\u001b[0m_engine\u001b[0m\u001b[0;34m.\u001b[0m\u001b[0mget_loc\u001b[0m\u001b[0;34m(\u001b[0m\u001b[0mkey\u001b[0m\u001b[0;34m)\u001b[0m\u001b[0;34m\u001b[0m\u001b[0m\n\u001b[1;32m   2526\u001b[0m             \u001b[0;32mexcept\u001b[0m \u001b[0mKeyError\u001b[0m\u001b[0;34m:\u001b[0m\u001b[0;34m\u001b[0m\u001b[0m\n\u001b[0;32m-> 2527\u001b[0;31m                 \u001b[0;32mreturn\u001b[0m \u001b[0mself\u001b[0m\u001b[0;34m.\u001b[0m\u001b[0m_engine\u001b[0m\u001b[0;34m.\u001b[0m\u001b[0mget_loc\u001b[0m\u001b[0;34m(\u001b[0m\u001b[0mself\u001b[0m\u001b[0;34m.\u001b[0m\u001b[0m_maybe_cast_indexer\u001b[0m\u001b[0;34m(\u001b[0m\u001b[0mkey\u001b[0m\u001b[0;34m)\u001b[0m\u001b[0;34m)\u001b[0m\u001b[0;34m\u001b[0m\u001b[0m\n\u001b[0m\u001b[1;32m   2528\u001b[0m \u001b[0;34m\u001b[0m\u001b[0m\n\u001b[1;32m   2529\u001b[0m         \u001b[0mindexer\u001b[0m \u001b[0;34m=\u001b[0m \u001b[0mself\u001b[0m\u001b[0;34m.\u001b[0m\u001b[0mget_indexer\u001b[0m\u001b[0;34m(\u001b[0m\u001b[0;34m[\u001b[0m\u001b[0mkey\u001b[0m\u001b[0;34m]\u001b[0m\u001b[0;34m,\u001b[0m \u001b[0mmethod\u001b[0m\u001b[0;34m=\u001b[0m\u001b[0mmethod\u001b[0m\u001b[0;34m,\u001b[0m \u001b[0mtolerance\u001b[0m\u001b[0;34m=\u001b[0m\u001b[0mtolerance\u001b[0m\u001b[0;34m)\u001b[0m\u001b[0;34m\u001b[0m\u001b[0m\n",
      "\u001b[0;32mpandas/_libs/index.pyx\u001b[0m in \u001b[0;36mpandas._libs.index.IndexEngine.get_loc\u001b[0;34m()\u001b[0m\n",
      "\u001b[0;32mpandas/_libs/index.pyx\u001b[0m in \u001b[0;36mpandas._libs.index.IndexEngine.get_loc\u001b[0;34m()\u001b[0m\n",
      "\u001b[0;32mpandas/_libs/hashtable_class_helper.pxi\u001b[0m in \u001b[0;36mpandas._libs.hashtable.PyObjectHashTable.get_item\u001b[0;34m()\u001b[0m\n",
      "\u001b[0;32mpandas/_libs/hashtable_class_helper.pxi\u001b[0m in \u001b[0;36mpandas._libs.hashtable.PyObjectHashTable.get_item\u001b[0;34m()\u001b[0m\n",
      "\u001b[0;31mKeyError\u001b[0m: 1"
     ]
    }
   ],
   "source": [
    "df.set_index([1, 2, 3, 4])"
   ]
  },
  {
   "cell_type": "code",
   "execution_count": null,
   "metadata": {},
   "outputs": [],
   "source": [
    "print(df)"
   ]
  },
  {
   "cell_type": "code",
   "execution_count": 18,
   "metadata": {},
   "outputs": [],
   "source": [
    "#meter_collection['PkFltM1Ant'].set_index('time', inplace=True)"
   ]
  },
  {
   "cell_type": "code",
   "execution_count": 19,
   "metadata": {},
   "outputs": [
    {
     "name": "stdout",
     "output_type": "stream",
     "text": [
      "<class 'pandas.core.frame.DataFrame'>\n",
      "DatetimeIndex: 408583 entries, 2017-11-01 08:10:03.196509 to 2017-11-02 08:10:02.984116\n",
      "Data columns (total 48 columns):\n",
      "EaRec                              408583 non-null float64\n",
      "STot                               408583 non-null float64\n",
      "Vbn                                408583 non-null float64\n",
      "Ib                                 408583 non-null float64\n",
      "EcNetTot                           408583 non-null float64\n",
      "VllMean                            408583 non-null float64\n",
      "EcDel                              408583 non-null float64\n",
      "Sa                                 408583 non-null float64\n",
      "Vca                                408583 non-null float64\n",
      "PTot                               408583 non-null float64\n",
      "Qc                                 408583 non-null float64\n",
      "Pb                                 408583 non-null float64\n",
      "Qb                                 408583 non-null float64\n",
      "VlnMean                            408583 non-null float64\n",
      "Vab                                408583 non-null float64\n",
      "EapTot                             408583 non-null float64\n",
      "EreNegTot                          408583 non-null float64\n",
      "EapbTot                            408583 non-null float64\n",
      "EDelTot                            408583 non-null float64\n",
      "ErePosTot                          408583 non-null float64\n",
      "PfTot                              408583 non-null float64\n",
      "EapaTot                            408583 non-null float64\n",
      "Ia                                 408583 non-null float64\n",
      "EbNetTot                           408583 non-null float64\n",
      "Pa                                 408583 non-null float64\n",
      "ENetTot                            408583 non-null float64\n",
      "F                                  408583 non-null float64\n",
      "SlidingWindowRealPowerDemand3Ph    408583 non-null float64\n",
      "ERecTot                            408583 non-null float64\n",
      "EbRec                              408583 non-null float64\n",
      "EbDel                              408583 non-null float64\n",
      "Ic                                 408583 non-null float64\n",
      "Qa                                 408583 non-null float64\n",
      "Sb                                 408583 non-null float64\n",
      "QTot                               408583 non-null float64\n",
      "Pc                                 408583 non-null float64\n",
      "Pfc                                408583 non-null float64\n",
      "Pfa                                408583 non-null float64\n",
      "Vbc                                408583 non-null float64\n",
      "IMean                              408583 non-null float64\n",
      "Sc                                 408583 non-null float64\n",
      "EaDel                              408583 non-null float64\n",
      "Vcn                                408583 non-null float64\n",
      "EcRec                              408583 non-null float64\n",
      "Van                                408583 non-null float64\n",
      "EaNetTot                           408583 non-null float64\n",
      "Pfb                                408583 non-null float64\n",
      "EapcTot                            408583 non-null float64\n",
      "dtypes: float64(48)\n",
      "memory usage: 152.7 MB\n"
     ]
    }
   ],
   "source": [
    "meter_collection['PkFltM1Ant'].info()"
   ]
  },
  {
   "cell_type": "code",
   "execution_count": null,
   "metadata": {},
   "outputs": [],
   "source": [
    "#meter_collection['PkFltM1Ant']['datetime'] = pd.to_datetime(meter_collection['PkFltM1Ant']['time'])"
   ]
  },
  {
   "cell_type": "code",
   "execution_count": 20,
   "metadata": {},
   "outputs": [],
   "source": [
    "meter_collection['PkFltM1Ant'].to_sql('PkFltM1Ant_2017', db, if_exists=\"append\")"
   ]
  },
  {
   "cell_type": "code",
   "execution_count": null,
   "metadata": {},
   "outputs": [],
   "source": []
  }
 ],
 "metadata": {
  "kernelspec": {
   "display_name": "Python 3",
   "language": "python",
   "name": "python3"
  },
  "language_info": {
   "codemirror_mode": {
    "name": "ipython",
    "version": 3
   },
   "file_extension": ".py",
   "mimetype": "text/x-python",
   "name": "python",
   "nbconvert_exporter": "python",
   "pygments_lexer": "ipython3",
   "version": "3.6.5"
  }
 },
 "nbformat": 4,
 "nbformat_minor": 2
}
