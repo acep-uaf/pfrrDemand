{
 "cells": [
  {
   "cell_type": "code",
   "execution_count": 1,
   "metadata": {},
   "outputs": [],
   "source": [
    "import multiprocess as mp\n",
    "import random \n",
    "import string\n",
    "import os\n",
    "import sys"
   ]
  },
  {
   "cell_type": "code",
   "execution_count": 2,
   "metadata": {},
   "outputs": [],
   "source": [
    "import pandas as pd"
   ]
  },
  {
   "cell_type": "code",
   "execution_count": 3,
   "metadata": {},
   "outputs": [],
   "source": [
    "module_path = os.path.abspath(os.path.join('..', 'demand_acep'))\n",
    "if module_path not in sys.path:\n",
    "    sys.path.append(module_path)"
   ]
  },
  {
   "cell_type": "code",
   "execution_count": 4,
   "metadata": {},
   "outputs": [
    {
     "name": "stdout",
     "output_type": "stream",
     "text": [
      "Config imported\n",
      "   meter_name  meter_type\n",
      "0  PkFltM1Ant  WattsOnMk2\n",
      "1  PkFltM2Tel  WattsOnMk2\n",
      "2  PkFltM3Sci  WattsOnMk2\n",
      "3      PQube3       PQube\n"
     ]
    }
   ],
   "source": [
    "import config"
   ]
  },
  {
   "cell_type": "code",
   "execution_count": 5,
   "metadata": {},
   "outputs": [
    {
     "name": "stderr",
     "output_type": "stream",
     "text": [
      "/home/ubuntu/anaconda3/lib/python3.7/site-packages/dask/config.py:168: YAMLLoadWarning: calling yaml.load() without Loader=... is deprecated, as the default Loader is unsafe. Please read https://msg.pyyaml.org/load for full details.\n",
      "  data = yaml.load(f.read()) or {}\n",
      "/home/ubuntu/anaconda3/lib/python3.7/site-packages/distributed/config.py:20: YAMLLoadWarning: calling yaml.load() without Loader=... is deprecated, as the default Loader is unsafe. Please read https://msg.pyyaml.org/load for full details.\n",
      "  defaults = yaml.load(f)\n"
     ]
    }
   ],
   "source": [
    "from extract_data_to_csv import extract_csv_for_date, printResult"
   ]
  },
  {
   "cell_type": "code",
   "execution_count": 6,
   "metadata": {},
   "outputs": [],
   "source": [
    "processes=mp.cpu_count() "
   ]
  },
  {
   "cell_type": "code",
   "execution_count": 7,
   "metadata": {},
   "outputs": [
    {
     "data": {
      "text/plain": [
       "4"
      ]
     },
     "execution_count": 7,
     "metadata": {},
     "output_type": "execute_result"
    }
   ],
   "source": [
    "processes"
   ]
  },
  {
   "cell_type": "code",
   "execution_count": 8,
   "metadata": {},
   "outputs": [],
   "source": [
    "# Set the start and end date\n",
    "start = \"1st Nov 2017\"\n",
    "end = \"30th Apr 2019\""
   ]
  },
  {
   "cell_type": "code",
   "execution_count": 9,
   "metadata": {},
   "outputs": [
    {
     "name": "stdout",
     "output_type": "stream",
     "text": [
      "Index(['11/01/2017', '11/02/2017', '11/03/2017', '11/04/2017', '11/05/2017',\n",
      "       '11/06/2017', '11/07/2017', '11/08/2017', '11/09/2017', '11/10/2017',\n",
      "       ...\n",
      "       '04/21/2019', '04/22/2019', '04/23/2019', '04/24/2019', '04/25/2019',\n",
      "       '04/26/2019', '04/27/2019', '04/28/2019', '04/29/2019', '04/30/2019'],\n",
      "      dtype='object', length=546)\n",
      "11/01/2017\n",
      "11/02/2017\n",
      "/data/data/2017/11/01/PkFltM1Ant@2017-11-01T081003Z@PT23H@PT211F.csv\n",
      "/data/data/2017/11/01/PkFltM2Tel@2017-11-01T082008Z@PT23H@PT210F.csv\n",
      "/data/data/2017/11/01/PkFltM3Sci@2017-11-01T083003Z@P1D@PT210F.csv\n",
      "/data/data/2017/11/01/PQube3@2017-11-01T080002Z@PT23H@PT227F.csv\n",
      "11/03/2017\n",
      "11/04/2017\n",
      "11/05/2017\n",
      "{'PkFltM2Tel': 'PkFltM2Tel@2017-11-01T082008Z@PT23H@PT210F.csv', 'PQube3': 'PQube3@2017-11-01T080002Z@PT23H@PT227F.csv', 'PkFltM1Ant': 'PkFltM1Ant@2017-11-01T081003Z@PT23H@PT211F.csv', 'PkFltM3Sci': 'PkFltM3Sci@2017-11-01T083003Z@P1D@PT210F.csv'}\n"
     ]
    },
    {
     "name": "stderr",
     "output_type": "stream",
     "text": [
      "/home/ubuntu/demand_acep/demand_acep/extract_data_to_csv.py:84: FutureWarning: Passing timedelta64-dtype data is deprecated, will raise a TypeError in a future version\n",
      "  channel_df = extract_data(dirpath, filename)\n",
      "/home/ubuntu/demand_acep/demand_acep/extract_data_to_csv.py:84: FutureWarning: Passing timedelta64-dtype data is deprecated, will raise a TypeError in a future version\n",
      "  channel_df = extract_data(dirpath, filename)\n",
      "/home/ubuntu/demand_acep/demand_acep/extract_data_to_csv.py:84: FutureWarning: Passing timedelta64-dtype data is deprecated, will raise a TypeError in a future version\n",
      "  channel_df = extract_data(dirpath, filename)\n",
      "/home/ubuntu/demand_acep/demand_acep/extract_data_to_csv.py:84: FutureWarning: Passing timedelta64-dtype data is deprecated, will raise a TypeError in a future version\n",
      "  channel_df = extract_data(dirpath, filename)\n"
     ]
    },
    {
     "name": "stdout",
     "output_type": "stream",
     "text": [
      "/data/data/2017/11/02/PkFltM1Ant@2017-11-02T081003Z@PT23H@PT155F.csv\n",
      "/data/data/2017/11/02/PkFltM2Tel@2017-11-02T082008Z@PT23H@PT154F.csv\n",
      "/data/data/2017/11/02/PkFltM3Sci@2017-11-02T083008Z@PT23H@PT154F.csv\n",
      "/data/data/2017/11/02/PQube3@2017-11-02T080003Z@P1D@PT171F.csv\n",
      "11/06/2017\n",
      "{'PQube3': 'PQube3@2017-11-02T080003Z@P1D@PT171F.csv', 'PkFltM3Sci': 'PkFltM3Sci@2017-11-02T083008Z@PT23H@PT154F.csv', 'PkFltM1Ant': 'PkFltM1Ant@2017-11-02T081003Z@PT23H@PT155F.csv', 'PkFltM2Tel': 'PkFltM2Tel@2017-11-02T082008Z@PT23H@PT154F.csv'}\n"
     ]
    },
    {
     "name": "stderr",
     "output_type": "stream",
     "text": [
      "Process ForkPoolWorker-4:\n",
      "Process ForkPoolWorker-2:\n",
      "Process ForkPoolWorker-3:\n",
      "Traceback (most recent call last):\n",
      "Traceback (most recent call last):\n",
      "Traceback (most recent call last):\n",
      "  File \"/home/ubuntu/anaconda3/lib/python3.7/site-packages/xarray/backends/file_manager.py\", line 167, in acquire\n",
      "    file = self._cache[self._key]\n",
      "  File \"/home/ubuntu/anaconda3/lib/python3.7/site-packages/multiprocess/process.py\", line 297, in _bootstrap\n",
      "    self.run()\n",
      "  File \"/home/ubuntu/anaconda3/lib/python3.7/site-packages/multiprocess/process.py\", line 297, in _bootstrap\n",
      "    self.run()\n",
      "  File \"/home/ubuntu/anaconda3/lib/python3.7/site-packages/xarray/backends/lru_cache.py\", line 42, in __getitem__\n",
      "    value = self._cache[key]\n",
      "  File \"/home/ubuntu/anaconda3/lib/python3.7/site-packages/multiprocess/process.py\", line 99, in run\n",
      "    self._target(*self._args, **self._kwargs)\n",
      "  File \"/home/ubuntu/anaconda3/lib/python3.7/site-packages/multiprocess/pool.py\", line 121, in worker\n",
      "    result = (True, func(*args, **kwds))\n",
      "  File \"/home/ubuntu/anaconda3/lib/python3.7/site-packages/multiprocess/process.py\", line 99, in run\n",
      "    self._target(*self._args, **self._kwargs)\n",
      "KeyError: [<function _open_scipy_netcdf at 0x7f9a24863e18>, ('/data/data/2017/11/05/PokerFlatResearchRange-PokerFlat-PQube3Vbn@2017-11-05T080006Z@P1D@PT150F.nc',), 'r', (('mmap', None), ('version', 2))]\n",
      "  File \"/home/ubuntu/anaconda3/lib/python3.7/site-packages/multiprocess/pool.py\", line 121, in worker\n",
      "    result = (True, func(*args, **kwds))\n",
      "\n",
      "During handling of the above exception, another exception occurred:\n",
      "\n",
      "  File \"/home/ubuntu/demand_acep/demand_acep/extract_data_to_csv.py\", line 88, in extract_csv_for_date\n",
      "    channel_resampled = data_resample(channel_df, sample_time)\n",
      "  File \"/home/ubuntu/demand_acep/demand_acep/extract_data_to_csv.py\", line 84, in extract_csv_for_date\n",
      "    channel_df = extract_data(dirpath, filename)\n",
      "Process ForkPoolWorker-1:\n",
      "  File \"/home/ubuntu/demand_acep/demand_acep/demand_acep.py\", line 43, in data_resample\n",
      "    netcdf_resampled = netcdf_df.resample(sample_time, closed=\"left\", label=\"right\").mean()\n",
      "Traceback (most recent call last):\n",
      "  File \"pandas/_libs/properties.pyx\", line 36, in pandas._libs.properties.CachedProperty.__get__\n",
      "Traceback (most recent call last):\n",
      "  File \"/home/ubuntu/anaconda3/lib/python3.7/site-packages/pandas/core/resample.py\", line 865, in f\n",
      "    return self._downsample(_method)\n",
      "  File \"/home/ubuntu/anaconda3/lib/python3.7/site-packages/pandas/core/resample.py\", line 1010, in _downsample\n",
      "    if ax.freq is not None or ax.inferred_freq is not None:\n",
      "  File \"/home/ubuntu/anaconda3/lib/python3.7/site-packages/multiprocess/process.py\", line 297, in _bootstrap\n",
      "    self.run()\n",
      "  File \"/home/ubuntu/demand_acep/demand_acep/demand_acep.py\", line 21, in extract_data\n",
      "    netcdf_df.set_index(pd.to_datetime(netcdf_df.index.values), inplace=True)\n",
      "  File \"/home/ubuntu/anaconda3/lib/python3.7/site-packages/multiprocess/process.py\", line 297, in _bootstrap\n",
      "    self.run()\n",
      "  File \"/home/ubuntu/anaconda3/lib/python3.7/site-packages/pandas/core/arrays/datetimelike.py\", line 843, in inferred_freq\n",
      "    return frequencies.infer_freq(self)\n",
      "  File \"/home/ubuntu/anaconda3/lib/python3.7/site-packages/multiprocess/process.py\", line 99, in run\n",
      "    self._target(*self._args, **self._kwargs)\n",
      "  File \"/home/ubuntu/anaconda3/lib/python3.7/site-packages/pandas/core/tools/datetimes.py\", line 609, in to_datetime\n",
      "    result = convert_listlike(arg, box, format)\n",
      "  File \"/home/ubuntu/anaconda3/lib/python3.7/site-packages/multiprocess/process.py\", line 99, in run\n",
      "    self._target(*self._args, **self._kwargs)\n",
      "  File \"/home/ubuntu/anaconda3/lib/python3.7/site-packages/pandas/tseries/frequencies.py\", line 254, in infer_freq\n",
      "    return inferer.get_freq()\n",
      "  File \"/home/ubuntu/anaconda3/lib/python3.7/site-packages/pandas/core/tools/datetimes.py\", line 302, in _convert_listlike_datetimes\n",
      "    allow_object=True)\n",
      "  File \"/home/ubuntu/anaconda3/lib/python3.7/site-packages/multiprocess/pool.py\", line 121, in worker\n",
      "    result = (True, func(*args, **kwds))\n",
      "  File \"/home/ubuntu/anaconda3/lib/python3.7/site-packages/pandas/core/arrays/datetimes.py\", line 1857, in objects_to_datetime64ns\n",
      "    require_iso8601=require_iso8601\n",
      "  File \"/home/ubuntu/anaconda3/lib/python3.7/site-packages/multiprocess/pool.py\", line 121, in worker\n",
      "    result = (True, func(*args, **kwds))\n",
      "  File \"/home/ubuntu/demand_acep/demand_acep/extract_data_to_csv.py\", line 84, in extract_csv_for_date\n",
      "    channel_df = extract_data(dirpath, filename)\n",
      "KeyboardInterrupt\n",
      "  File \"/home/ubuntu/demand_acep/demand_acep/demand_acep.py\", line 21, in extract_data\n",
      "    netcdf_df.set_index(pd.to_datetime(netcdf_df.index.values), inplace=True)\n",
      "  File \"/home/ubuntu/anaconda3/lib/python3.7/site-packages/pandas/core/tools/datetimes.py\", line 609, in to_datetime\n",
      "    result = convert_listlike(arg, box, format)\n",
      "  File \"/home/ubuntu/anaconda3/lib/python3.7/site-packages/pandas/tseries/frequencies.py\", line 313, in get_freq\n",
      "    if self.hour_deltas in ([1, 17], [1, 65], [1, 17, 65]):\n",
      "  File \"/home/ubuntu/anaconda3/lib/python3.7/site-packages/pandas/core/tools/datetimes.py\", line 302, in _convert_listlike_datetimes\n",
      "    allow_object=True)\n",
      "  File \"/home/ubuntu/demand_acep/demand_acep/extract_data_to_csv.py\", line 84, in extract_csv_for_date\n",
      "    channel_df = extract_data(dirpath, filename)\n",
      "  File \"pandas/_libs/properties.pyx\", line 36, in pandas._libs.properties.CachedProperty.__get__\n",
      "  File \"/home/ubuntu/anaconda3/lib/python3.7/site-packages/pandas/core/arrays/datetimes.py\", line 1857, in objects_to_datetime64ns\n",
      "    require_iso8601=require_iso8601\n",
      "  File \"/home/ubuntu/demand_acep/demand_acep/demand_acep.py\", line 19, in extract_data\n",
      "    netcdf_data = xr.open_dataset(os.path.join(dirpath, filename))\n",
      "KeyboardInterrupt\n",
      "  File \"/home/ubuntu/anaconda3/lib/python3.7/site-packages/xarray/backends/api.py\", line 394, in open_dataset\n",
      "    ds = maybe_decode_store(store)\n",
      "  File \"/home/ubuntu/anaconda3/lib/python3.7/site-packages/pandas/tseries/frequencies.py\", line 347, in hour_deltas\n",
      "    return [x / _ONE_HOUR for x in self.deltas]\n",
      "  File \"/home/ubuntu/anaconda3/lib/python3.7/site-packages/pandas/tseries/frequencies.py\", line 347, in <listcomp>\n",
      "    return [x / _ONE_HOUR for x in self.deltas]\n",
      "  File \"/home/ubuntu/anaconda3/lib/python3.7/site-packages/xarray/backends/api.py\", line 324, in maybe_decode_store\n",
      "    drop_variables=drop_variables, use_cftime=use_cftime)\n",
      "KeyboardInterrupt\n",
      "  File \"/home/ubuntu/anaconda3/lib/python3.7/site-packages/xarray/conventions.py\", line 470, in decode_cf\n",
      "    vars, attrs = obj.load()\n",
      "  File \"/home/ubuntu/anaconda3/lib/python3.7/site-packages/xarray/backends/common.py\", line 120, in load\n",
      "    for k, v in self.get_variables().items())\n",
      "  File \"/home/ubuntu/anaconda3/lib/python3.7/site-packages/xarray/backends/scipy_.py\", line 166, in get_variables\n",
      "    for k, v in self.ds.variables.items())\n",
      "  File \"/home/ubuntu/anaconda3/lib/python3.7/site-packages/xarray/backends/scipy_.py\", line 158, in ds\n",
      "    return self._manager.acquire()\n",
      "  File \"/home/ubuntu/anaconda3/lib/python3.7/site-packages/xarray/backends/file_manager.py\", line 173, in acquire\n",
      "    file = self._opener(*self._args, **kwargs)\n",
      "  File \"/home/ubuntu/anaconda3/lib/python3.7/site-packages/xarray/backends/scipy_.py\", line 89, in _open_scipy_netcdf\n",
      "    version=version)\n",
      "  File \"/home/ubuntu/anaconda3/lib/python3.7/site-packages/scipy/io/netcdf.py\", line 284, in __init__\n",
      "    self._read()\n",
      "  File \"/home/ubuntu/anaconda3/lib/python3.7/site-packages/scipy/io/netcdf.py\", line 606, in _read\n",
      "    magic = self.fp.read(3)\n",
      "KeyboardInterrupt\n"
     ]
    },
    {
     "name": "stdout",
     "output_type": "stream",
     "text": [
      "11/07/2017\n",
      "11/08/2017\n",
      "11/09/2017\n",
      "11/10/2017\n"
     ]
    },
    {
     "ename": "KeyboardInterrupt",
     "evalue": "",
     "output_type": "error",
     "traceback": [
      "\u001b[0;31m---------------------------------------------------------------------------\u001b[0m",
      "\u001b[0;31mKeyboardInterrupt\u001b[0m                         Traceback (most recent call last)",
      "\u001b[0;32m<ipython-input-9-a27e3ba38850>\u001b[0m in \u001b[0;36m<module>\u001b[0;34m\u001b[0m\n\u001b[1;32m      8\u001b[0m \u001b[0;34m\u001b[0m\u001b[0m\n\u001b[1;32m      9\u001b[0m \u001b[0mpool\u001b[0m\u001b[0;34m.\u001b[0m\u001b[0mclose\u001b[0m\u001b[0;34m(\u001b[0m\u001b[0;34m)\u001b[0m\u001b[0;34m\u001b[0m\u001b[0;34m\u001b[0m\u001b[0m\n\u001b[0;32m---> 10\u001b[0;31m \u001b[0mpool\u001b[0m\u001b[0;34m.\u001b[0m\u001b[0mjoin\u001b[0m\u001b[0;34m(\u001b[0m\u001b[0;34m)\u001b[0m\u001b[0;34m\u001b[0m\u001b[0;34m\u001b[0m\u001b[0m\n\u001b[0m\u001b[1;32m     11\u001b[0m \u001b[0;34m\u001b[0m\u001b[0m\n",
      "\u001b[0;32m~/anaconda3/lib/python3.7/site-packages/multiprocess/pool.py\u001b[0m in \u001b[0;36mjoin\u001b[0;34m(self)\u001b[0m\n\u001b[1;32m    554\u001b[0m         \u001b[0;32melif\u001b[0m \u001b[0mself\u001b[0m\u001b[0;34m.\u001b[0m\u001b[0m_state\u001b[0m \u001b[0;32mnot\u001b[0m \u001b[0;32min\u001b[0m \u001b[0;34m(\u001b[0m\u001b[0mCLOSE\u001b[0m\u001b[0;34m,\u001b[0m \u001b[0mTERMINATE\u001b[0m\u001b[0;34m)\u001b[0m\u001b[0;34m:\u001b[0m\u001b[0;34m\u001b[0m\u001b[0;34m\u001b[0m\u001b[0m\n\u001b[1;32m    555\u001b[0m             \u001b[0;32mraise\u001b[0m \u001b[0mValueError\u001b[0m\u001b[0;34m(\u001b[0m\u001b[0;34m\"In unknown state\"\u001b[0m\u001b[0;34m)\u001b[0m\u001b[0;34m\u001b[0m\u001b[0;34m\u001b[0m\u001b[0m\n\u001b[0;32m--> 556\u001b[0;31m         \u001b[0mself\u001b[0m\u001b[0;34m.\u001b[0m\u001b[0m_worker_handler\u001b[0m\u001b[0;34m.\u001b[0m\u001b[0mjoin\u001b[0m\u001b[0;34m(\u001b[0m\u001b[0;34m)\u001b[0m\u001b[0;34m\u001b[0m\u001b[0;34m\u001b[0m\u001b[0m\n\u001b[0m\u001b[1;32m    557\u001b[0m         \u001b[0mself\u001b[0m\u001b[0;34m.\u001b[0m\u001b[0m_task_handler\u001b[0m\u001b[0;34m.\u001b[0m\u001b[0mjoin\u001b[0m\u001b[0;34m(\u001b[0m\u001b[0;34m)\u001b[0m\u001b[0;34m\u001b[0m\u001b[0;34m\u001b[0m\u001b[0m\n\u001b[1;32m    558\u001b[0m         \u001b[0mself\u001b[0m\u001b[0;34m.\u001b[0m\u001b[0m_result_handler\u001b[0m\u001b[0;34m.\u001b[0m\u001b[0mjoin\u001b[0m\u001b[0;34m(\u001b[0m\u001b[0;34m)\u001b[0m\u001b[0;34m\u001b[0m\u001b[0;34m\u001b[0m\u001b[0m\n",
      "\u001b[0;32m~/anaconda3/lib/python3.7/threading.py\u001b[0m in \u001b[0;36mjoin\u001b[0;34m(self, timeout)\u001b[0m\n\u001b[1;32m   1030\u001b[0m \u001b[0;34m\u001b[0m\u001b[0m\n\u001b[1;32m   1031\u001b[0m         \u001b[0;32mif\u001b[0m \u001b[0mtimeout\u001b[0m \u001b[0;32mis\u001b[0m \u001b[0;32mNone\u001b[0m\u001b[0;34m:\u001b[0m\u001b[0;34m\u001b[0m\u001b[0;34m\u001b[0m\u001b[0m\n\u001b[0;32m-> 1032\u001b[0;31m             \u001b[0mself\u001b[0m\u001b[0;34m.\u001b[0m\u001b[0m_wait_for_tstate_lock\u001b[0m\u001b[0;34m(\u001b[0m\u001b[0;34m)\u001b[0m\u001b[0;34m\u001b[0m\u001b[0;34m\u001b[0m\u001b[0m\n\u001b[0m\u001b[1;32m   1033\u001b[0m         \u001b[0;32melse\u001b[0m\u001b[0;34m:\u001b[0m\u001b[0;34m\u001b[0m\u001b[0;34m\u001b[0m\u001b[0m\n\u001b[1;32m   1034\u001b[0m             \u001b[0;31m# the behavior of a negative timeout isn't documented, but\u001b[0m\u001b[0;34m\u001b[0m\u001b[0;34m\u001b[0m\u001b[0;34m\u001b[0m\u001b[0m\n",
      "\u001b[0;32m~/anaconda3/lib/python3.7/threading.py\u001b[0m in \u001b[0;36m_wait_for_tstate_lock\u001b[0;34m(self, block, timeout)\u001b[0m\n\u001b[1;32m   1046\u001b[0m         \u001b[0;32mif\u001b[0m \u001b[0mlock\u001b[0m \u001b[0;32mis\u001b[0m \u001b[0;32mNone\u001b[0m\u001b[0;34m:\u001b[0m  \u001b[0;31m# already determined that the C code is done\u001b[0m\u001b[0;34m\u001b[0m\u001b[0;34m\u001b[0m\u001b[0m\n\u001b[1;32m   1047\u001b[0m             \u001b[0;32massert\u001b[0m \u001b[0mself\u001b[0m\u001b[0;34m.\u001b[0m\u001b[0m_is_stopped\u001b[0m\u001b[0;34m\u001b[0m\u001b[0;34m\u001b[0m\u001b[0m\n\u001b[0;32m-> 1048\u001b[0;31m         \u001b[0;32melif\u001b[0m \u001b[0mlock\u001b[0m\u001b[0;34m.\u001b[0m\u001b[0macquire\u001b[0m\u001b[0;34m(\u001b[0m\u001b[0mblock\u001b[0m\u001b[0;34m,\u001b[0m \u001b[0mtimeout\u001b[0m\u001b[0;34m)\u001b[0m\u001b[0;34m:\u001b[0m\u001b[0;34m\u001b[0m\u001b[0;34m\u001b[0m\u001b[0m\n\u001b[0m\u001b[1;32m   1049\u001b[0m             \u001b[0mlock\u001b[0m\u001b[0;34m.\u001b[0m\u001b[0mrelease\u001b[0m\u001b[0;34m(\u001b[0m\u001b[0;34m)\u001b[0m\u001b[0;34m\u001b[0m\u001b[0;34m\u001b[0m\u001b[0m\n\u001b[1;32m   1050\u001b[0m             \u001b[0mself\u001b[0m\u001b[0;34m.\u001b[0m\u001b[0m_stop\u001b[0m\u001b[0;34m(\u001b[0m\u001b[0;34m)\u001b[0m\u001b[0;34m\u001b[0m\u001b[0;34m\u001b[0m\u001b[0m\n",
      "\u001b[0;31mKeyboardInterrupt\u001b[0m: "
     ]
    },
    {
     "name": "stderr",
     "output_type": "stream",
     "text": [
      "/home/ubuntu/demand_acep/demand_acep/extract_data_to_csv.py:84: FutureWarning: Passing timedelta64-dtype data is deprecated, will raise a TypeError in a future version\n",
      "  channel_df = extract_data(dirpath, filename)\n",
      "/home/ubuntu/demand_acep/demand_acep/extract_data_to_csv.py:84: FutureWarning: Passing timedelta64-dtype data is deprecated, will raise a TypeError in a future version\n",
      "  channel_df = extract_data(dirpath, filename)\n",
      "/home/ubuntu/demand_acep/demand_acep/extract_data_to_csv.py:84: FutureWarning: Passing timedelta64-dtype data is deprecated, will raise a TypeError in a future version\n",
      "  channel_df = extract_data(dirpath, filename)\n",
      "/home/ubuntu/demand_acep/demand_acep/extract_data_to_csv.py:84: FutureWarning: Passing timedelta64-dtype data is deprecated, will raise a TypeError in a future version\n",
      "  channel_df = extract_data(dirpath, filename)\n"
     ]
    }
   ],
   "source": [
    "# Get the list of dates within the range and convert to the format we want\n",
    "dates_in_range = pd.date_range(start, end).strftime(\"%m/%d/%Y\")\n",
    "print(dates_in_range)\n",
    "# Create a pool for the number of processes specified\n",
    "pool = mp.Pool(processes=processes)\n",
    "\n",
    "results = [pool.apply_async(extract_csv_for_date, args=(config, data_date), callback=printResult) for data_date in dates_in_range]\n",
    "\n",
    "pool.close()\n",
    "pool.join()\n",
    "    "
   ]
  },
  {
   "cell_type": "code",
   "execution_count": null,
   "metadata": {},
   "outputs": [],
   "source": [
    "results"
   ]
  },
  {
   "cell_type": "code",
   "execution_count": null,
   "metadata": {},
   "outputs": [],
   "source": []
  }
 ],
 "metadata": {
  "kernelspec": {
   "display_name": "Python 3",
   "language": "python",
   "name": "python3"
  },
  "language_info": {
   "codemirror_mode": {
    "name": "ipython",
    "version": 3
   },
   "file_extension": ".py",
   "mimetype": "text/x-python",
   "name": "python",
   "nbconvert_exporter": "python",
   "pygments_lexer": "ipython3",
   "version": "3.7.3"
  }
 },
 "nbformat": 4,
 "nbformat_minor": 2
}
