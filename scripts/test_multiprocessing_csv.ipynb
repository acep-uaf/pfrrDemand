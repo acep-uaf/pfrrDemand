{
 "cells": [
  {
   "cell_type": "code",
   "execution_count": 1,
   "metadata": {},
   "outputs": [],
   "source": [
    "import multiprocess as mp\n",
    "import random \n",
    "import string\n",
    "import os\n",
    "import sys"
   ]
  },
  {
   "cell_type": "code",
   "execution_count": 2,
   "metadata": {},
   "outputs": [],
   "source": [
    "import pandas as pd"
   ]
  },
  {
   "cell_type": "code",
   "execution_count": 3,
   "metadata": {},
   "outputs": [],
   "source": [
    "module_path = os.path.abspath(os.path.join('..', 'demand_acep'))\n",
    "if module_path not in sys.path:\n",
    "    sys.path.append(module_path)"
   ]
  },
  {
   "cell_type": "code",
   "execution_count": 4,
   "metadata": {},
   "outputs": [
    {
     "name": "stdout",
     "output_type": "stream",
     "text": [
      "Config imported\n",
      "   meter_name  meter_type\n",
      "0  PkFltM1Ant  WattsOnMk2\n",
      "1  PkFltM2Tel  WattsOnMk2\n",
      "2  PkFltM3Sci  WattsOnMk2\n",
      "3      PQube3       PQube\n"
     ]
    }
   ],
   "source": [
    "import config"
   ]
  },
  {
   "cell_type": "code",
   "execution_count": 5,
   "metadata": {},
   "outputs": [],
   "source": [
    "from extract_data_to_csv import extract_csv_for_date, printResult"
   ]
  },
  {
   "cell_type": "code",
   "execution_count": 6,
   "metadata": {},
   "outputs": [],
   "source": [
    "processes=mp.cpu_count() "
   ]
  },
  {
   "cell_type": "code",
   "execution_count": 7,
   "metadata": {},
   "outputs": [
    {
     "data": {
      "text/plain": [
       "28"
      ]
     },
     "execution_count": 7,
     "metadata": {},
     "output_type": "execute_result"
    }
   ],
   "source": [
    "processes"
   ]
  },
  {
   "cell_type": "code",
   "execution_count": 8,
   "metadata": {},
   "outputs": [],
   "source": [
    "# Set the start and end date\n",
    "start = \"1st Nov 2017\"\n",
    "end = \"30th Apr 2019\""
   ]
  },
  {
   "cell_type": "code",
   "execution_count": null,
   "metadata": {},
   "outputs": [
    {
     "name": "stdout",
     "output_type": "stream",
     "text": [
      "['11/01/2017' '11/02/2017' '11/03/2017' '11/04/2017' '11/05/2017'\n",
      " '11/06/2017' '11/07/2017' '11/08/2017' '11/09/2017' '11/10/2017'\n",
      " '11/11/2017' '11/12/2017' '11/13/2017' '11/14/2017' '11/15/2017'\n",
      " '11/16/2017' '11/17/2017' '11/18/2017' '11/19/2017' '11/20/2017'\n",
      " '11/21/2017' '11/22/2017' '11/23/2017' '11/24/2017' '11/25/2017'\n",
      " '11/26/2017' '11/27/2017' '11/28/2017' '11/29/2017' '11/30/2017'\n",
      " '12/01/2017' '12/02/2017' '12/03/2017' '12/04/2017' '12/05/2017'\n",
      " '12/06/2017' '12/07/2017' '12/08/2017' '12/09/2017' '12/10/2017'\n",
      " '12/11/2017' '12/12/2017' '12/13/2017' '12/14/2017' '12/15/2017'\n",
      " '12/16/2017' '12/17/2017' '12/18/2017' '12/19/2017' '12/20/2017'\n",
      " '12/21/2017' '12/22/2017' '12/23/2017' '12/24/2017' '12/25/2017'\n",
      " '12/26/2017' '12/27/2017' '12/28/2017' '12/29/2017' '12/30/2017'\n",
      " '12/31/2017' '01/01/2018' '01/02/2018' '01/03/2018' '01/04/2018'\n",
      " '01/05/2018' '01/06/2018' '01/07/2018' '01/08/2018' '01/09/2018'\n",
      " '01/10/2018' '01/11/2018' '01/12/2018' '01/13/2018' '01/14/2018'\n",
      " '01/15/2018' '01/16/2018' '01/17/2018' '01/18/2018' '01/19/2018'\n",
      " '01/20/2018' '01/21/2018' '01/22/2018' '01/23/2018' '01/24/2018'\n",
      " '01/25/2018' '01/26/2018' '01/27/2018' '01/28/2018' '01/29/2018'\n",
      " '01/30/2018' '01/31/2018' '02/01/2018' '02/02/2018' '02/03/2018'\n",
      " '02/04/2018' '02/05/2018' '02/06/2018' '02/07/2018' '02/08/2018'\n",
      " '02/09/2018' '02/10/2018' '02/11/2018' '02/12/2018' '02/13/2018'\n",
      " '02/14/2018' '02/15/2018' '02/16/2018' '02/17/2018' '02/18/2018'\n",
      " '02/19/2018' '02/20/2018' '02/21/2018' '02/22/2018' '02/23/2018'\n",
      " '02/24/2018' '02/25/2018' '02/26/2018' '02/27/2018' '02/28/2018'\n",
      " '03/01/2018' '03/02/2018' '03/03/2018' '03/04/2018' '03/05/2018'\n",
      " '03/06/2018' '03/07/2018' '03/08/2018' '03/09/2018' '03/10/2018'\n",
      " '03/11/2018' '03/12/2018' '03/13/2018' '03/14/2018' '03/15/2018'\n",
      " '03/16/2018' '03/17/2018' '03/18/2018' '03/19/2018' '03/20/2018'\n",
      " '03/21/2018' '03/22/2018' '03/23/2018' '03/24/2018' '03/25/2018'\n",
      " '03/26/2018' '03/27/2018' '03/28/2018' '03/29/2018' '03/30/2018'\n",
      " '03/31/2018' '04/01/2018' '04/02/2018' '04/03/2018' '04/04/2018'\n",
      " '04/05/2018' '04/06/2018' '04/07/2018' '04/08/2018' '04/09/2018'\n",
      " '04/10/2018' '04/11/2018' '04/12/2018' '04/13/2018' '04/14/2018'\n",
      " '04/15/2018' '04/16/2018' '04/17/2018' '04/18/2018' '04/19/2018'\n",
      " '04/20/2018' '04/21/2018' '04/22/2018' '04/23/2018' '04/24/2018'\n",
      " '04/25/2018' '04/26/2018' '04/27/2018' '04/28/2018' '04/29/2018'\n",
      " '04/30/2018' '05/01/2018' '05/02/2018' '05/03/2018' '05/04/2018'\n",
      " '05/05/2018' '05/06/2018' '05/07/2018' '05/08/2018' '05/09/2018'\n",
      " '05/10/2018' '05/11/2018' '05/12/2018' '05/13/2018' '05/14/2018'\n",
      " '05/15/2018' '05/16/2018' '05/17/2018' '05/18/2018' '05/19/2018'\n",
      " '05/20/2018' '05/21/2018' '05/22/2018' '05/23/2018' '05/24/2018'\n",
      " '05/25/2018' '05/26/2018' '05/27/2018' '05/28/2018' '05/29/2018'\n",
      " '05/30/2018' '05/31/2018' '06/01/2018' '06/02/2018' '06/03/2018'\n",
      " '06/04/2018' '06/05/2018' '06/06/2018' '06/07/2018' '06/08/2018'\n",
      " '06/09/2018' '06/10/2018' '06/11/2018' '06/12/2018' '06/13/2018'\n",
      " '06/14/2018' '06/15/2018' '06/16/2018' '06/17/2018' '06/18/2018'\n",
      " '06/19/2018' '06/20/2018' '06/21/2018' '06/22/2018' '06/23/2018'\n",
      " '06/24/2018' '06/25/2018' '06/26/2018' '06/27/2018' '06/28/2018'\n",
      " '06/29/2018' '06/30/2018' '07/01/2018' '07/02/2018' '07/03/2018'\n",
      " '07/04/2018' '07/05/2018' '07/06/2018' '07/07/2018' '07/08/2018'\n",
      " '07/09/2018' '07/10/2018' '07/11/2018' '07/12/2018' '07/13/2018'\n",
      " '07/14/2018' '07/15/2018' '07/16/2018' '07/17/2018' '07/18/2018'\n",
      " '07/19/2018' '07/20/2018' '07/21/2018' '07/22/2018' '07/23/2018'\n",
      " '07/24/2018' '07/25/2018' '07/26/2018' '07/27/2018' '07/28/2018'\n",
      " '07/29/2018' '07/30/2018' '07/31/2018' '08/01/2018' '08/02/2018'\n",
      " '08/03/2018' '08/04/2018' '08/05/2018' '08/06/2018' '08/07/2018'\n",
      " '08/08/2018' '08/09/2018' '08/10/2018' '08/11/2018' '08/12/2018'\n",
      " '08/13/2018' '08/14/2018' '08/15/2018' '08/16/2018' '08/17/2018'\n",
      " '08/18/2018' '08/19/2018' '08/20/2018' '08/21/2018' '08/22/2018'\n",
      " '08/23/2018' '08/24/2018' '08/25/2018' '08/26/2018' '08/27/2018'\n",
      " '08/28/2018' '08/29/2018' '08/30/2018' '08/31/2018' '09/01/2018'\n",
      " '09/02/2018' '09/03/2018' '09/04/2018' '09/05/2018' '09/06/2018'\n",
      " '09/07/2018' '09/08/2018' '09/09/2018' '09/10/2018' '09/11/2018'\n",
      " '09/12/2018' '09/13/2018' '09/14/2018' '09/15/2018' '09/16/2018'\n",
      " '09/17/2018' '09/18/2018' '09/19/2018' '09/20/2018' '09/21/2018'\n",
      " '09/22/2018' '09/23/2018' '09/24/2018' '09/25/2018' '09/26/2018'\n",
      " '09/27/2018' '09/28/2018' '09/29/2018' '09/30/2018' '10/01/2018'\n",
      " '10/02/2018' '10/03/2018' '10/04/2018' '10/05/2018' '10/06/2018'\n",
      " '10/07/2018' '10/08/2018' '10/09/2018' '10/10/2018' '10/11/2018'\n",
      " '10/12/2018' '10/13/2018' '10/14/2018' '10/15/2018' '10/16/2018'\n",
      " '10/17/2018' '10/18/2018' '10/19/2018' '10/20/2018' '10/21/2018'\n",
      " '10/22/2018' '10/23/2018' '10/24/2018' '10/25/2018' '10/26/2018'\n",
      " '10/27/2018' '10/28/2018' '10/29/2018' '10/30/2018' '10/31/2018'\n",
      " '11/01/2018' '11/02/2018' '11/03/2018' '11/04/2018' '11/05/2018'\n",
      " '11/06/2018' '11/07/2018' '11/08/2018' '11/09/2018' '11/10/2018'\n",
      " '11/11/2018' '11/12/2018' '11/13/2018' '11/14/2018' '11/15/2018'\n",
      " '11/16/2018' '11/17/2018' '11/18/2018' '11/19/2018' '11/20/2018'\n",
      " '11/21/2018' '11/22/2018' '11/23/2018' '11/24/2018' '11/25/2018'\n",
      " '11/26/2018' '11/27/2018' '11/28/2018' '11/29/2018' '11/30/2018'\n",
      " '12/01/2018' '12/02/2018' '12/03/2018' '12/04/2018' '12/05/2018'\n",
      " '12/06/2018' '12/07/2018' '12/08/2018' '12/09/2018' '12/10/2018'\n",
      " '12/11/2018' '12/12/2018' '12/13/2018' '12/14/2018' '12/15/2018'\n",
      " '12/16/2018' '12/17/2018' '12/18/2018' '12/19/2018' '12/20/2018'\n",
      " '12/21/2018' '12/22/2018' '12/23/2018' '12/24/2018' '12/25/2018'\n",
      " '12/26/2018' '12/27/2018' '12/28/2018' '12/29/2018' '12/30/2018'\n",
      " '12/31/2018' '01/01/2019' '01/02/2019' '01/03/2019' '01/04/2019'\n",
      " '01/05/2019' '01/06/2019' '01/07/2019' '01/08/2019' '01/09/2019'\n",
      " '01/10/2019' '01/11/2019' '01/12/2019' '01/13/2019' '01/14/2019'\n",
      " '01/15/2019' '01/16/2019' '01/17/2019' '01/18/2019' '01/19/2019'\n",
      " '01/20/2019' '01/21/2019' '01/22/2019' '01/23/2019' '01/24/2019'\n",
      " '01/25/2019' '01/26/2019' '01/27/2019' '01/28/2019' '01/29/2019'\n",
      " '01/30/2019' '01/31/2019' '02/01/2019' '02/02/2019' '02/03/2019'\n",
      " '02/04/2019' '02/05/2019' '02/06/2019' '02/07/2019' '02/08/2019'\n",
      " '02/09/2019' '02/10/2019' '02/11/2019' '02/12/2019' '02/13/2019'\n",
      " '02/14/2019' '02/15/2019' '02/16/2019' '02/17/2019' '02/18/2019'\n",
      " '02/19/2019' '02/20/2019' '02/21/2019' '02/22/2019' '02/23/2019'\n",
      " '02/24/2019' '02/25/2019' '02/26/2019' '02/27/2019' '02/28/2019'\n",
      " '03/01/2019' '03/02/2019' '03/03/2019' '03/04/2019' '03/05/2019'\n",
      " '03/06/2019' '03/07/2019' '03/08/2019' '03/09/2019' '03/10/2019'\n",
      " '03/11/2019' '03/12/2019' '03/13/2019' '03/14/2019' '03/15/2019'\n",
      " '03/16/2019' '03/17/2019' '03/18/2019' '03/19/2019' '03/20/2019'\n",
      " '03/21/2019' '03/22/2019' '03/23/2019' '03/24/2019' '03/25/2019'\n",
      " '03/26/2019' '03/27/2019' '03/28/2019' '03/29/2019' '03/30/2019'\n",
      " '03/31/2019' '04/01/2019' '04/02/2019' '04/03/2019' '04/04/2019'\n",
      " '04/05/2019' '04/06/2019' '04/07/2019' '04/08/2019' '04/09/2019'\n",
      " '04/10/2019' '04/11/2019' '04/12/2019' '04/13/2019' '04/14/2019'\n",
      " '04/15/2019' '04/16/2019' '04/17/2019' '04/18/2019' '04/19/2019'\n",
      " '04/20/2019' '04/21/2019' '04/22/2019' '04/23/2019' '04/24/2019'\n",
      " '04/25/2019' '04/26/2019' '04/27/2019' '04/28/2019' '04/29/2019'\n",
      " '04/30/2019']\n",
      "Path not found: /gscratch/stf/demand_acep/Data/2018/05/20\n",
      "Path not found: /gscratch/stf/demand_acep/Data/2018/08/22\n",
      "Path not found: /gscratch/stf/demand_acep/Data/2018/08/23\n",
      "Path not found: /gscratch/stf/demand_acep/Data/2018/08/25\n",
      "Path not found: /gscratch/stf/demand_acep/Data/2018/09/04\n",
      "Path not found: /gscratch/stf/demand_acep/Data/2018/09/05\n",
      "Path not found: /gscratch/stf/demand_acep/Data/2018/09/06\n",
      "Path not found: /gscratch/stf/demand_acep/Data/2018/09/07\n",
      "Path not found: /gscratch/stf/demand_acep/Data/2018/09/08\n",
      "Path not found: /gscratch/stf/demand_acep/Data/2018/09/09\n",
      "Path not found: /gscratch/stf/demand_acep/Data/2018/09/10\n",
      "Path not found: /gscratch/stf/demand_acep/Data/2018/09/11\n",
      "Path not found: /gscratch/stf/demand_acep/Data/2018/09/12\n",
      "Path not found: /gscratch/stf/demand_acep/Data/2018/09/13\n",
      "Path not found: /gscratch/stf/demand_acep/Data/2018/09/14\n",
      "Path not found: /gscratch/stf/demand_acep/Data/2018/09/15\n",
      "Path not found: /gscratch/stf/demand_acep/Data/2018/09/16\n",
      "Path not found: /gscratch/stf/demand_acep/Data/2018/09/17\n",
      "Path not found: /gscratch/stf/demand_acep/Data/2018/09/18\n",
      "Path not found: /gscratch/stf/demand_acep/Data/2018/09/19\n",
      "Path not found: /gscratch/stf/demand_acep/Data/2018/09/20\n",
      "Path not found: /gscratch/stf/demand_acep/Data/2018/09/21\n",
      "Path not found: /gscratch/stf/demand_acep/Data/2018/09/22\n",
      "Path not found: /gscratch/stf/demand_acep/Data/2018/09/23\n",
      "Path not found: /gscratch/stf/demand_acep/Data/2018/09/24\n",
      "Path not found: /gscratch/stf/demand_acep/Data/2018/09/25\n",
      "Path not found: /gscratch/stf/demand_acep/Data/2018/09/26\n",
      "Path not found: /gscratch/stf/demand_acep/Data/2018/09/27\n",
      "Path not found: /gscratch/stf/demand_acep/Data/2018/09/28\n",
      "Path not found: /gscratch/stf/demand_acep/Data/2018/09/29\n",
      "Path not found: /gscratch/stf/demand_acep/Data/2018/09/30\n",
      "Path not found: /gscratch/stf/demand_acep/Data/2018/10/01\n",
      "Path not found: /gscratch/stf/demand_acep/Data/2018/10/02\n",
      "Path not found: /gscratch/stf/demand_acep/Data/2018/10/03\n",
      "Path not found: /gscratch/stf/demand_acep/Data/2018/10/04\n",
      "Path not found: /gscratch/stf/demand_acep/Data/2018/10/05\n",
      "Path not found: /gscratch/stf/demand_acep/Data/2018/10/06\n",
      "Path not found: /gscratch/stf/demand_acep/Data/2018/10/07\n",
      "Path not found: /gscratch/stf/demand_acep/Data/2018/10/08\n",
      "Path not found: /gscratch/stf/demand_acep/Data/2018/10/09\n",
      "Path not found: /gscratch/stf/demand_acep/Data/2018/10/10\n",
      "Path not found: /gscratch/stf/demand_acep/Data/2018/10/11\n",
      "Path not found: /gscratch/stf/demand_acep/Data/2018/10/12\n",
      "Path not found: /gscratch/stf/demand_acep/Data/2018/10/13\n",
      "Path not found: /gscratch/stf/demand_acep/Data/2018/10/14\n",
      "Path not found: /gscratch/stf/demand_acep/Data/2018/10/15\n",
      "Path not found: /gscratch/stf/demand_acep/Data/2018/10/16\n",
      "Path not found: /gscratch/stf/demand_acep/Data/2018/10/17\n",
      "Path not found: /gscratch/stf/demand_acep/Data/2018/10/18\n",
      "Path not found: /gscratch/stf/demand_acep/Data/2018/10/19\n",
      "Path not found: /gscratch/stf/demand_acep/Data/2018/10/20\n",
      "Path not found: /gscratch/stf/demand_acep/Data/2018/10/21\n",
      "Path not found: /gscratch/stf/demand_acep/Data/2018/10/22\n",
      "Path not found: /gscratch/stf/demand_acep/Data/2018/10/23\n",
      "Path not found: /gscratch/stf/demand_acep/Data/2018/10/24\n",
      "Path not found: /gscratch/stf/demand_acep/Data/2018/10/25\n",
      "Path not found: /gscratch/stf/demand_acep/Data/2018/10/26\n",
      "Path not found: /gscratch/stf/demand_acep/Data/2018/10/27\n",
      "Path not found: /gscratch/stf/demand_acep/Data/2018/10/28\n",
      "Path not found: /gscratch/stf/demand_acep/Data/2018/10/29\n",
      "Path not found: /gscratch/stf/demand_acep/Data/2018/10/30\n",
      "Path not found: /gscratch/stf/demand_acep/Data/2018/10/31\n",
      "Path not found: /gscratch/stf/demand_acep/Data/2018/11/01\n",
      "Path not found: /gscratch/stf/demand_acep/Data/2018/11/02\n",
      "Path not found: /gscratch/stf/demand_acep/Data/2018/11/03\n",
      "Path not found: /gscratch/stf/demand_acep/Data/2018/11/04\n",
      "Path not found: /gscratch/stf/demand_acep/Data/2018/11/05\n",
      "Path not found: /gscratch/stf/demand_acep/Data/2018/11/06\n",
      "Path not found: /gscratch/stf/demand_acep/Data/2018/11/08\n",
      "Path not found: /gscratch/stf/demand_acep/Data/2018/11/07\n",
      "Path not found: /gscratch/stf/demand_acep/Data/2018/11/09\n",
      "Path not found: /gscratch/stf/demand_acep/Data/2018/11/10\n",
      "Path not found: /gscratch/stf/demand_acep/Data/2018/11/11\n",
      "Path not found: /gscratch/stf/demand_acep/Data/2018/11/12\n",
      "Path not found: /gscratch/stf/demand_acep/Data/2018/11/13\n",
      "Path not found: /gscratch/stf/demand_acep/Data/2018/11/14\n",
      "Path not found: /gscratch/stf/demand_acep/Data/2018/11/15\n",
      "Path not found: /gscratch/stf/demand_acep/Data/2018/11/16\n",
      "Path not found: /gscratch/stf/demand_acep/Data/2018/11/17\n",
      "Path not found: /gscratch/stf/demand_acep/Data/2018/11/18\n",
      "Path not found: /gscratch/stf/demand_acep/Data/2018/11/19\n",
      "Path not found: /gscratch/stf/demand_acep/Data/2018/11/20\n",
      "Path not found: /gscratch/stf/demand_acep/Data/2018/11/21\n",
      "Path not found: /gscratch/stf/demand_acep/Data/2018/11/22\n",
      "Path not found: /gscratch/stf/demand_acep/Data/2018/11/23\n",
      "Path not found: /gscratch/stf/demand_acep/Data/2018/11/24\n",
      "Path not found: /gscratch/stf/demand_acep/Data/2018/11/25\n",
      "Path not found: /gscratch/stf/demand_acep/Data/2018/11/26\n",
      "Path not found: /gscratch/stf/demand_acep/Data/2018/11/27\n",
      "Path not found: /gscratch/stf/demand_acep/Data/2018/11/28\n",
      "Path not found: /gscratch/stf/demand_acep/Data/2018/11/29\n",
      "Path not found: /gscratch/stf/demand_acep/Data/2018/11/30\n",
      "Path not found: /gscratch/stf/demand_acep/Data/2018/12/01\n",
      "Path not found: /gscratch/stf/demand_acep/Data/2018/12/02\n",
      "Path not found: /gscratch/stf/demand_acep/Data/2018/12/03\n",
      "Path not found: /gscratch/stf/demand_acep/Data/2018/12/04\n",
      "Path not found: /gscratch/stf/demand_acep/Data/2018/12/07\n",
      "Path not found: /gscratch/stf/demand_acep/Data/2018/12/05\n",
      "Path not found: /gscratch/stf/demand_acep/Data/2018/12/06\n",
      "Path not found: /gscratch/stf/demand_acep/Data/2018/12/08\n",
      "Path not found: /gscratch/stf/demand_acep/Data/2018/12/09\n",
      "Path not found: /gscratch/stf/demand_acep/Data/2018/12/10\n",
      "Path not found: /gscratch/stf/demand_acep/Data/2018/12/11\n",
      "Path not found: /gscratch/stf/demand_acep/Data/2018/12/12\n",
      "Path not found: /gscratch/stf/demand_acep/Data/2018/12/13\n",
      "Path not found: /gscratch/stf/demand_acep/Data/2019/04/11\n",
      "Path not found: /gscratch/stf/demand_acep/Data/2019/04/12\n",
      "Path not found: /gscratch/stf/demand_acep/Data/2019/04/13\n",
      "Path not found: /gscratch/stf/demand_acep/Data/2019/04/14\n",
      "Path not found: /gscratch/stf/demand_acep/Data/2019/04/15\n",
      "Path not found: /gscratch/stf/demand_acep/Data/2019/04/16\n",
      "Path not found: /gscratch/stf/demand_acep/Data/2019/04/17\n",
      "Path not found: /gscratch/stf/demand_acep/Data/2019/04/18\n",
      "Path not found: /gscratch/stf/demand_acep/Data/2019/04/19\n",
      "Path not found: /gscratch/stf/demand_acep/Data/2019/04/20\n",
      "Path not found: /gscratch/stf/demand_acep/Data/2019/04/24\n",
      "Path not found: /gscratch/stf/demand_acep/Data/2019/04/21\n",
      "Path not found: /gscratch/stf/demand_acep/Data/2019/04/22\n",
      "Path not found: /gscratch/stf/demand_acep/Data/2019/04/23\n",
      "Path not found: /gscratch/stf/demand_acep/Data/2019/04/25\n",
      "Path not found: /gscratch/stf/demand_acep/Data/2019/04/26\n",
      "Path not found: /gscratch/stf/demand_acep/Data/2019/04/27\n",
      "Path not found: /gscratch/stf/demand_acep/Data/2019/04/28\n",
      "Path not found: /gscratch/stf/demand_acep/Data/2019/04/29\n",
      "Path not found: /gscratch/stf/demand_acep/Data/2019/04/30\n"
     ]
    }
   ],
   "source": [
    "%%time \n",
    "# Get the list of dates within the range and convert to the format we want\n",
    "dates_in_range = pd.date_range(start, end).strftime(\"%m/%d/%Y\")\n",
    "print(dates_in_range)\n",
    "# Create a pool for the number of processes specified\n",
    "pool = mp.Pool(processes=processes)\n",
    "\n",
    "results = [pool.apply_async(extract_csv_for_date, args=(config, data_date), callback=printResult) for data_date in dates_in_range]\n",
    "\n",
    "pool.close()\n",
    "pool.join()\n",
    "    "
   ]
  },
  {
   "cell_type": "code",
   "execution_count": null,
   "metadata": {},
   "outputs": [],
   "source": [
    "results"
   ]
  },
  {
   "cell_type": "code",
   "execution_count": null,
   "metadata": {},
   "outputs": [],
   "source": [
    "a = [1, 2, 3]"
   ]
  },
  {
   "cell_type": "code",
   "execution_count": null,
   "metadata": {},
   "outputs": [],
   "source": [
    "len(a)"
   ]
  },
  {
   "cell_type": "code",
   "execution_count": null,
   "metadata": {},
   "outputs": [],
   "source": [
    "config.DATA_ROOT"
   ]
  },
  {
   "cell_type": "code",
   "execution_count": null,
   "metadata": {},
   "outputs": [],
   "source": [
    "os.path.join(config.DATA_ROOT, \"2017\", \"11\", \"01\")"
   ]
  },
  {
   "cell_type": "code",
   "execution_count": null,
   "metadata": {},
   "outputs": [],
   "source": [
    "os.path.exists(os.path.join(config.DATA_ROOT, \"2018\", \"10\", \"02\"))"
   ]
  },
  {
   "cell_type": "code",
   "execution_count": null,
   "metadata": {},
   "outputs": [],
   "source": []
  }
 ],
 "metadata": {
  "kernelspec": {
   "display_name": "Python 3",
   "language": "python",
   "name": "python3"
  },
  "language_info": {
   "codemirror_mode": {
    "name": "ipython",
    "version": 3
   },
   "file_extension": ".py",
   "mimetype": "text/x-python",
   "name": "python",
   "nbconvert_exporter": "python",
   "pygments_lexer": "ipython3",
   "version": "3.6.5"
  }
 },
 "nbformat": 4,
 "nbformat_minor": 2
}
