{
 "cells": [
  {
   "cell_type": "code",
   "execution_count": 1,
   "metadata": {},
   "outputs": [],
   "source": [
    "import multiprocess as mp\n",
    "import random \n",
    "import string\n",
    "import os\n",
    "import sys"
   ]
  },
  {
   "cell_type": "code",
   "execution_count": 2,
   "metadata": {},
   "outputs": [],
   "source": [
    "import pandas as pd"
   ]
  },
  {
   "cell_type": "code",
   "execution_count": 3,
   "metadata": {},
   "outputs": [],
   "source": [
    "module_path = os.path.abspath(os.path.join('..', 'demand_acep'))\n",
    "if module_path not in sys.path:\n",
    "    sys.path.append(module_path)"
   ]
  },
  {
   "cell_type": "code",
   "execution_count": 4,
   "metadata": {},
   "outputs": [
    {
     "name": "stdout",
     "output_type": "stream",
     "text": [
      "Config imported\n",
      "   meter_name  meter_type\n",
      "0  PkFltM1Ant  WattsOnMk2\n",
      "1  PkFltM2Tel  WattsOnMk2\n",
      "2  PkFltM3Sci  WattsOnMk2\n",
      "3      PQube3       PQube\n"
     ]
    }
   ],
   "source": [
    "import config"
   ]
  },
  {
   "cell_type": "code",
   "execution_count": 5,
   "metadata": {},
   "outputs": [
    {
     "name": "stderr",
     "output_type": "stream",
     "text": [
      "/home/ubuntu/anaconda3/lib/python3.7/site-packages/dask/config.py:168: YAMLLoadWarning: calling yaml.load() without Loader=... is deprecated, as the default Loader is unsafe. Please read https://msg.pyyaml.org/load for full details.\n",
      "  data = yaml.load(f.read()) or {}\n",
      "/home/ubuntu/anaconda3/lib/python3.7/site-packages/distributed/config.py:20: YAMLLoadWarning: calling yaml.load() without Loader=... is deprecated, as the default Loader is unsafe. Please read https://msg.pyyaml.org/load for full details.\n",
      "  defaults = yaml.load(f)\n"
     ]
    }
   ],
   "source": [
    "from extract_data_to_csv import extract_csv_for_date, printResult"
   ]
  },
  {
   "cell_type": "code",
   "execution_count": 6,
   "metadata": {},
   "outputs": [],
   "source": [
    "processes=mp.cpu_count() "
   ]
  },
  {
   "cell_type": "code",
   "execution_count": 7,
   "metadata": {},
   "outputs": [
    {
     "data": {
      "text/plain": [
       "4"
      ]
     },
     "execution_count": 7,
     "metadata": {},
     "output_type": "execute_result"
    }
   ],
   "source": [
    "processes"
   ]
  },
  {
   "cell_type": "code",
   "execution_count": 8,
   "metadata": {},
   "outputs": [],
   "source": [
    "# Set the start and end date\n",
    "start = \"11th Nov 2017\"\n",
    "end = \"20th Nov 2017\""
   ]
  },
  {
   "cell_type": "code",
   "execution_count": 9,
   "metadata": {},
   "outputs": [
    {
     "name": "stdout",
     "output_type": "stream",
     "text": [
      "Index(['11/11/2017', '11/12/2017', '11/13/2017', '11/14/2017', '11/15/2017',\n",
      "       '11/16/2017', '11/17/2017', '11/18/2017', '11/19/2017', '11/20/2017'],\n",
      "      dtype='object')\n",
      "11/11/2017\n",
      "11/12/2017\n",
      "11/13/2017\n",
      "11/14/2017\n"
     ]
    },
    {
     "name": "stderr",
     "output_type": "stream",
     "text": [
      "/home/ubuntu/demand_acep/demand_acep/extract_data_to_csv.py:83: FutureWarning: Passing timedelta64-dtype data is deprecated, will raise a TypeError in a future version\n",
      "  channel_df = extract_data(dirpath, filename)\n",
      "/home/ubuntu/demand_acep/demand_acep/extract_data_to_csv.py:83: FutureWarning: Passing timedelta64-dtype data is deprecated, will raise a TypeError in a future version\n",
      "  channel_df = extract_data(dirpath, filename)\n",
      "/home/ubuntu/demand_acep/demand_acep/extract_data_to_csv.py:83: FutureWarning: Passing timedelta64-dtype data is deprecated, will raise a TypeError in a future version\n",
      "  channel_df = extract_data(dirpath, filename)\n",
      "/home/ubuntu/demand_acep/demand_acep/extract_data_to_csv.py:83: FutureWarning: Passing timedelta64-dtype data is deprecated, will raise a TypeError in a future version\n",
      "  channel_df = extract_data(dirpath, filename)\n"
     ]
    },
    {
     "name": "stdout",
     "output_type": "stream",
     "text": [
      "/data/data/2017/11/12/PkFltM1Ant@2017-11-12T091004Z@PT23H@PT141F.csv\n",
      "/data/data/2017/11/12/PkFltM2Tel@2017-11-12T092010Z@PT23H@PT141F.csv\n",
      "/data/data/2017/11/12/PkFltM3Sci@2017-11-12T093005Z@P1D@PT140F.csv\n",
      "/data/data/2017/11/12/PQube3@2017-11-12T090004Z@PT23H@PT150F.csv\n",
      "11/15/2017\n",
      "{'PkFltM1Ant': 'PkFltM1Ant@2017-11-12T091004Z@PT23H@PT141F.csv', 'PQube3': 'PQube3@2017-11-12T090004Z@PT23H@PT150F.csv', 'PkFltM3Sci': 'PkFltM3Sci@2017-11-12T093005Z@P1D@PT140F.csv', 'PkFltM2Tel': 'PkFltM2Tel@2017-11-12T092010Z@PT23H@PT141F.csv'}\n",
      "/data/data/2017/11/13/PkFltM1Ant@2017-11-13T091002Z@P1D@PT146F.csv\n",
      "/data/data/2017/11/13/PkFltM2Tel@2017-11-13T092007Z@P1D@PT146F.csv\n",
      "/data/data/2017/11/13/PkFltM3Sci@2017-11-13T093008Z@PT23H@PT145F.csv\n",
      "/data/data/2017/11/13/PQube3@2017-11-13T090002Z@PT23H@PT158F.csv\n",
      "11/16/2017\n",
      "{'PkFltM2Tel': 'PkFltM2Tel@2017-11-13T092007Z@P1D@PT146F.csv', 'PkFltM1Ant': 'PkFltM1Ant@2017-11-13T091002Z@P1D@PT146F.csv', 'PQube3': 'PQube3@2017-11-13T090002Z@PT23H@PT158F.csv', 'PkFltM3Sci': 'PkFltM3Sci@2017-11-13T093008Z@PT23H@PT145F.csv'}\n",
      "/data/data/2017/11/14/PkFltM1Ant@2017-11-14T091004Z@PT23H@PT152F.csv\n",
      "/data/data/2017/11/14/PkFltM2Tel@2017-11-14T092009Z@PT23H@PT151F.csv\n",
      "/data/data/2017/11/14/PkFltM3Sci@2017-11-14T093008Z@PT23H@PT151F.csv\n",
      "/data/data/2017/11/14/PQube3@2017-11-14T090001Z@P1D@PT168F.csv\n",
      "11/17/2017\n",
      "{'PkFltM2Tel': 'PkFltM2Tel@2017-11-14T092009Z@PT23H@PT151F.csv', 'PQube3': 'PQube3@2017-11-14T090001Z@P1D@PT168F.csv', 'PkFltM3Sci': 'PkFltM3Sci@2017-11-14T093008Z@PT23H@PT151F.csv', 'PkFltM1Ant': 'PkFltM1Ant@2017-11-14T091004Z@PT23H@PT152F.csv'}\n",
      "/data/data/2017/11/11/PkFltM1Ant@2017-11-11T091003Z@P1D@PT149F.csv\n",
      "/data/data/2017/11/11/PkFltM2Tel@2017-11-11T092005Z@P1D@PT148F.csv\n",
      "/data/data/2017/11/11/PkFltM3Sci@2017-11-11T093005Z@P1D@PT148F.csv\n",
      "/data/data/2017/11/11/PQube3@2017-11-11T090003Z@P1D@PT162F.csv\n",
      "11/18/2017\n",
      "{'PkFltM3Sci': 'PkFltM3Sci@2017-11-11T093005Z@P1D@PT148F.csv', 'PQube3': 'PQube3@2017-11-11T090003Z@P1D@PT162F.csv', 'PkFltM2Tel': 'PkFltM2Tel@2017-11-11T092005Z@P1D@PT148F.csv', 'PkFltM1Ant': 'PkFltM1Ant@2017-11-11T091003Z@P1D@PT149F.csv'}\n",
      "/data/data/2017/11/15/PkFltM1Ant@2017-11-15T091003Z@P1D@PT145F.csv\n",
      "/data/data/2017/11/15/PkFltM2Tel@2017-11-15T092009Z@PT23H@PT144F.csv\n",
      "/data/data/2017/11/15/PkFltM3Sci@2017-11-15T093004Z@PT23H@PT144F.csv\n",
      "/data/data/2017/11/15/PQube3@2017-11-15T090003Z@P1D@PT159F.csv\n",
      "11/19/2017\n",
      "{'PkFltM3Sci': 'PkFltM3Sci@2017-11-15T093004Z@PT23H@PT144F.csv', 'PkFltM2Tel': 'PkFltM2Tel@2017-11-15T092009Z@PT23H@PT144F.csv', 'PkFltM1Ant': 'PkFltM1Ant@2017-11-15T091003Z@P1D@PT145F.csv', 'PQube3': 'PQube3@2017-11-15T090003Z@P1D@PT159F.csv'}\n",
      "/data/data/2017/11/16/PkFltM1Ant@2017-11-16T091005Z@PT23H@PT145F.csv\n",
      "/data/data/2017/11/16/PkFltM2Tel@2017-11-16T092005Z@PT23H@PT144F.csv\n",
      "/data/data/2017/11/16/PkFltM3Sci@2017-11-16T093002Z@P1D@PT144F.csv\n",
      "/data/data/2017/11/16/PQube3@2017-11-16T090005Z@P1D@PT159F.csv\n",
      "11/20/2017\n",
      "{'PkFltM3Sci': 'PkFltM3Sci@2017-11-16T093002Z@P1D@PT144F.csv', 'PkFltM1Ant': 'PkFltM1Ant@2017-11-16T091005Z@PT23H@PT145F.csv', 'PQube3': 'PQube3@2017-11-16T090005Z@P1D@PT159F.csv', 'PkFltM2Tel': 'PkFltM2Tel@2017-11-16T092005Z@PT23H@PT144F.csv'}\n"
     ]
    },
    {
     "name": "stderr",
     "output_type": "stream",
     "text": [
      "/home/ubuntu/anaconda3/lib/python3.7/site-packages/scipy/interpolate/fitpack2.py:227: UserWarning: \n",
      "The maximal number of iterations maxit (set to 20 by the program)\n",
      "allowed for finding a smoothing spline with fp=s has been reached: s\n",
      "too small.\n",
      "There is an approximation returned but the corresponding weighted sum\n",
      "of squared residuals does not satisfy the condition abs(fp-s)/s < tol.\n",
      "  warnings.warn(message)\n"
     ]
    },
    {
     "name": "stdout",
     "output_type": "stream",
     "text": [
      "/data/data/2017/11/18/PkFltM1Ant@2017-11-18T091007Z@PT23H@PT150F.csv\n",
      "/data/data/2017/11/18/PkFltM2Tel@2017-11-18T092007Z@PT23H@PT149F.csv\n",
      "/data/data/2017/11/18/PkFltM3Sci@2017-11-18T093003Z@P1D@PT149F.csv\n",
      "/data/data/2017/11/18/PQube3@2017-11-18T090001Z@P1D@PT170F.csv\n",
      "/data/data/2017/11/17/PkFltM1Ant@2017-11-17T091004Z@P1D@PT149F.csv\n",
      "/data/data/2017/11/17/PkFltM2Tel@2017-11-17T092004Z@P1D@PT148F.csv\n",
      "{'PQube3': 'PQube3@2017-11-18T090001Z@P1D@PT170F.csv', 'PkFltM1Ant': 'PkFltM1Ant@2017-11-18T091007Z@PT23H@PT150F.csv', 'PkFltM3Sci': 'PkFltM3Sci@2017-11-18T093003Z@P1D@PT149F.csv', 'PkFltM2Tel': 'PkFltM2Tel@2017-11-18T092007Z@PT23H@PT149F.csv'}\n",
      "/data/data/2017/11/17/PkFltM3Sci@2017-11-17T093005Z@PT23H@PT148F.csv\n",
      "/data/data/2017/11/17/PQube3@2017-11-17T090005Z@PT23H@PT166F.csv\n",
      "{'PkFltM1Ant': 'PkFltM1Ant@2017-11-17T091004Z@P1D@PT149F.csv', 'PkFltM3Sci': 'PkFltM3Sci@2017-11-17T093005Z@PT23H@PT148F.csv', 'PQube3': 'PQube3@2017-11-17T090005Z@PT23H@PT166F.csv', 'PkFltM2Tel': 'PkFltM2Tel@2017-11-17T092004Z@P1D@PT148F.csv'}\n"
     ]
    },
    {
     "name": "stderr",
     "output_type": "stream",
     "text": [
      "/home/ubuntu/anaconda3/lib/python3.7/site-packages/scipy/interpolate/fitpack2.py:227: UserWarning: \n",
      "The maximal number of iterations maxit (set to 20 by the program)\n",
      "allowed for finding a smoothing spline with fp=s has been reached: s\n",
      "too small.\n",
      "There is an approximation returned but the corresponding weighted sum\n",
      "of squared residuals does not satisfy the condition abs(fp-s)/s < tol.\n",
      "  warnings.warn(message)\n"
     ]
    },
    {
     "name": "stdout",
     "output_type": "stream",
     "text": [
      "/data/data/2017/11/19/PkFltM1Ant@2017-11-19T091006Z@PT23H@PT154F.csv\n",
      "/data/data/2017/11/19/PkFltM2Tel@2017-11-19T092007Z@PT23H@PT153F.csv\n",
      "/data/data/2017/11/19/PkFltM3Sci@2017-11-19T093006Z@PT23H@PT153F.csv\n",
      "/data/data/2017/11/19/PQube3@2017-11-19T090005Z@PT23H@PT176F.csv\n",
      "{'PQube3': 'PQube3@2017-11-19T090005Z@PT23H@PT176F.csv', 'PkFltM1Ant': 'PkFltM1Ant@2017-11-19T091006Z@PT23H@PT154F.csv', 'PkFltM2Tel': 'PkFltM2Tel@2017-11-19T092007Z@PT23H@PT153F.csv', 'PkFltM3Sci': 'PkFltM3Sci@2017-11-19T093006Z@PT23H@PT153F.csv'}\n"
     ]
    },
    {
     "name": "stderr",
     "output_type": "stream",
     "text": [
      "/home/ubuntu/anaconda3/lib/python3.7/site-packages/scipy/interpolate/fitpack2.py:227: UserWarning: \n",
      "The maximal number of iterations maxit (set to 20 by the program)\n",
      "allowed for finding a smoothing spline with fp=s has been reached: s\n",
      "too small.\n",
      "There is an approximation returned but the corresponding weighted sum\n",
      "of squared residuals does not satisfy the condition abs(fp-s)/s < tol.\n",
      "  warnings.warn(message)\n"
     ]
    },
    {
     "name": "stdout",
     "output_type": "stream",
     "text": [
      "/data/data/2017/11/20/PkFltM1Ant@2017-11-20T091005Z@PT23H@PT163F.csv\n",
      "/data/data/2017/11/20/PkFltM2Tel@2017-11-20T092006Z@P1D@PT161F.csv\n",
      "/data/data/2017/11/20/PkFltM3Sci@2017-11-20T093006Z@PT23H@PT161F.csv\n",
      "/data/data/2017/11/20/PQube3@2017-11-20T090004Z@PT23H@PT189F.csv\n",
      "{'PkFltM3Sci': 'PkFltM3Sci@2017-11-20T093006Z@PT23H@PT161F.csv', 'PkFltM1Ant': 'PkFltM1Ant@2017-11-20T091005Z@PT23H@PT163F.csv', 'PQube3': 'PQube3@2017-11-20T090004Z@PT23H@PT189F.csv', 'PkFltM2Tel': 'PkFltM2Tel@2017-11-20T092006Z@P1D@PT161F.csv'}\n"
     ]
    }
   ],
   "source": [
    "# Get the list of dates within the range and convert to the format we want\n",
    "dates_in_range = pd.date_range(start, end).strftime(\"%m/%d/%Y\")\n",
    "print(dates_in_range)\n",
    "# Create a pool for the number of processes specified\n",
    "pool = mp.Pool(processes=processes)\n",
    "\n",
    "results = [pool.apply_async(extract_csv_for_date, args=(config, data_date), callback=printResult) for data_date in dates_in_range]\n",
    "\n",
    "pool.close()\n",
    "pool.join()\n",
    "    "
   ]
  },
  {
   "cell_type": "code",
   "execution_count": 10,
   "metadata": {},
   "outputs": [
    {
     "data": {
      "text/plain": [
       "[<multiprocess.pool.ApplyResult at 0x7f13319e9cf8>,\n",
       " <multiprocess.pool.ApplyResult at 0x7f1331935630>,\n",
       " <multiprocess.pool.ApplyResult at 0x7f13319356d8>,\n",
       " <multiprocess.pool.ApplyResult at 0x7f1331935780>,\n",
       " <multiprocess.pool.ApplyResult at 0x7f1331935828>,\n",
       " <multiprocess.pool.ApplyResult at 0x7f13319358d0>,\n",
       " <multiprocess.pool.ApplyResult at 0x7f1331935978>,\n",
       " <multiprocess.pool.ApplyResult at 0x7f1331935a20>,\n",
       " <multiprocess.pool.ApplyResult at 0x7f1331935ac8>,\n",
       " <multiprocess.pool.ApplyResult at 0x7f1331935b70>]"
      ]
     },
     "execution_count": 10,
     "metadata": {},
     "output_type": "execute_result"
    }
   ],
   "source": [
    "results"
   ]
  },
  {
   "cell_type": "code",
   "execution_count": null,
   "metadata": {},
   "outputs": [],
   "source": []
  }
 ],
 "metadata": {
  "kernelspec": {
   "display_name": "Python 3",
   "language": "python",
   "name": "python3"
  },
  "language_info": {
   "codemirror_mode": {
    "name": "ipython",
    "version": 3
   },
   "file_extension": ".py",
   "mimetype": "text/x-python",
   "name": "python",
   "nbconvert_exporter": "python",
   "pygments_lexer": "ipython3",
   "version": "3.7.3"
  }
 },
 "nbformat": 4,
 "nbformat_minor": 2
}
