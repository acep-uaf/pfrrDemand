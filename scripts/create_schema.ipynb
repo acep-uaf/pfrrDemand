{
 "cells": [
  {
   "cell_type": "markdown",
   "metadata": {},
   "source": [
    "## This file creates the schema using the functions in `create_db_schema`"
   ]
  },
  {
   "cell_type": "code",
   "execution_count": 1,
   "metadata": {},
   "outputs": [],
   "source": [
    "#%reset"
   ]
  },
  {
   "cell_type": "code",
   "execution_count": 2,
   "metadata": {},
   "outputs": [],
   "source": [
    "import os, sys\n",
    "import pandas as pd\n",
    "from sqlalchemy import *"
   ]
  },
  {
   "cell_type": "code",
   "execution_count": 3,
   "metadata": {},
   "outputs": [],
   "source": [
    "module_path = os.path.abspath(os.path.join('..', 'demand_acep'))\n",
    "if module_path not in sys.path:\n",
    "    sys.path.append(module_path)"
   ]
  },
  {
   "cell_type": "code",
   "execution_count": 4,
   "metadata": {},
   "outputs": [],
   "source": [
    "from create_db_schema import read_source_files"
   ]
  },
  {
   "cell_type": "code",
   "execution_count": 5,
   "metadata": {},
   "outputs": [],
   "source": [
    "#dict, years = read_source_files(\"/gscratch/stf/demand_acep/demand_acep/demand_acep/data/properties/Copy of Measured Channels PFRR.xlsx\", \"/gscratch/stf/demand_acep/demand_acep/demand_acep/data/properties/data_years.txt\")"
   ]
  },
  {
   "cell_type": "code",
   "execution_count": 6,
   "metadata": {},
   "outputs": [],
   "source": [
    "#dict"
   ]
  },
  {
   "cell_type": "code",
   "execution_count": 7,
   "metadata": {},
   "outputs": [],
   "source": [
    "#years"
   ]
  },
  {
   "cell_type": "code",
   "execution_count": 8,
   "metadata": {},
   "outputs": [],
   "source": [
    "db = create_engine('postgresql://cp84@localhost:5432/demand_acep')"
   ]
  },
  {
   "cell_type": "code",
   "execution_count": 9,
   "metadata": {},
   "outputs": [],
   "source": [
    "from create_db_schema import create_schema_from_source_files"
   ]
  },
  {
   "cell_type": "code",
   "execution_count": 10,
   "metadata": {},
   "outputs": [
    {
     "name": "stdout",
     "output_type": "stream",
     "text": [
      "dict_keys(['PkFltM1Ant_2017', 'PkFltM1Ant_2018', 'PkFltM1Ant_2019', 'PkFltM2Tel_2017', 'PkFltM2Tel_2018', 'PkFltM2Tel_2019', 'PkFltM3Sci_2017', 'PkFltM3Sci_2018', 'PkFltM3Sci_2019', 'PQube3_2017', 'PQube3_2018', 'PQube3_2019'])\n",
      "PkFltM1Ant_2017\n",
      "SELECT create_hypertable('public.\"PkFltM1Ant_2017\"', 'time' , if_not_exists => TRUE);\n",
      "PkFltM1Ant_2018\n",
      "SELECT create_hypertable('public.\"PkFltM1Ant_2018\"', 'time' , if_not_exists => TRUE);\n",
      "PkFltM1Ant_2019\n",
      "SELECT create_hypertable('public.\"PkFltM1Ant_2019\"', 'time' , if_not_exists => TRUE);\n",
      "PkFltM2Tel_2017\n",
      "SELECT create_hypertable('public.\"PkFltM2Tel_2017\"', 'time' , if_not_exists => TRUE);\n",
      "PkFltM2Tel_2018\n",
      "SELECT create_hypertable('public.\"PkFltM2Tel_2018\"', 'time' , if_not_exists => TRUE);\n",
      "PkFltM2Tel_2019\n",
      "SELECT create_hypertable('public.\"PkFltM2Tel_2019\"', 'time' , if_not_exists => TRUE);\n",
      "PkFltM3Sci_2017\n",
      "SELECT create_hypertable('public.\"PkFltM3Sci_2017\"', 'time' , if_not_exists => TRUE);\n",
      "PkFltM3Sci_2018\n",
      "SELECT create_hypertable('public.\"PkFltM3Sci_2018\"', 'time' , if_not_exists => TRUE);\n",
      "PkFltM3Sci_2019\n",
      "SELECT create_hypertable('public.\"PkFltM3Sci_2019\"', 'time' , if_not_exists => TRUE);\n",
      "PQube3_2017\n",
      "SELECT create_hypertable('public.\"PQube3_2017\"', 'time' , if_not_exists => TRUE);\n",
      "PQube3_2018\n",
      "SELECT create_hypertable('public.\"PQube3_2018\"', 'time' , if_not_exists => TRUE);\n",
      "PQube3_2019\n",
      "SELECT create_hypertable('public.\"PQube3_2019\"', 'time' , if_not_exists => TRUE);\n"
     ]
    }
   ],
   "source": [
    "table_names = create_schema_from_source_files(db, \"/gscratch/stf/demand_acep/demand_acep/demand_acep/data/properties/Copy of Measured Channels PFRR.xlsx\", \"/gscratch/stf/demand_acep/demand_acep/demand_acep/data/properties/data_years.txt\" )"
   ]
  },
  {
   "cell_type": "code",
   "execution_count": 11,
   "metadata": {},
   "outputs": [],
   "source": [
    "table_names"
   ]
  },
  {
   "cell_type": "code",
   "execution_count": null,
   "metadata": {},
   "outputs": [],
   "source": []
  }
 ],
 "metadata": {
  "kernelspec": {
   "display_name": "Python 3",
   "language": "python",
   "name": "python3"
  },
  "language_info": {
   "codemirror_mode": {
    "name": "ipython",
    "version": 3
   },
   "file_extension": ".py",
   "mimetype": "text/x-python",
   "name": "python",
   "nbconvert_exporter": "python",
   "pygments_lexer": "ipython3",
   "version": "3.6.5"
  }
 },
 "nbformat": 4,
 "nbformat_minor": 2
}
