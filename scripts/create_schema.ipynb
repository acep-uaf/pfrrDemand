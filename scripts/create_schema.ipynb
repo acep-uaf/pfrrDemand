{
 "cells": [
  {
   "cell_type": "markdown",
   "metadata": {},
   "source": [
    "## This file creates the schema using the functions in `create_db_schema`"
   ]
  },
  {
   "cell_type": "code",
   "execution_count": 1,
   "metadata": {},
   "outputs": [],
   "source": [
    "#%reset"
   ]
  },
  {
   "cell_type": "code",
   "execution_count": 2,
   "metadata": {},
   "outputs": [],
   "source": [
    "import os, sys\n",
    "import pandas as pd\n",
    "from sqlalchemy import *"
   ]
  },
  {
   "cell_type": "code",
   "execution_count": 3,
   "metadata": {},
   "outputs": [],
   "source": [
    "module_path = os.path.abspath(os.path.join('..', 'demand_acep'))\n",
    "if module_path not in sys.path:\n",
    "    sys.path.append(module_path)"
   ]
  },
  {
   "cell_type": "code",
   "execution_count": 4,
   "metadata": {},
   "outputs": [
    {
     "name": "stdout",
     "output_type": "stream",
     "text": [
      "Config imported\n",
      "   meter_name  meter_type\n",
      "0  PkFltM1Ant  WattsOnMk2\n",
      "1  PkFltM2Tel  WattsOnMk2\n",
      "2  PkFltM3Sci  WattsOnMk2\n",
      "3      PQube3       PQube\n"
     ]
    }
   ],
   "source": [
    "import config"
   ]
  },
  {
   "cell_type": "code",
   "execution_count": 5,
   "metadata": {},
   "outputs": [],
   "source": [
    "#from create_db_schema import read_source_files"
   ]
  },
  {
   "cell_type": "code",
   "execution_count": 6,
   "metadata": {},
   "outputs": [],
   "source": [
    "#dict, years = read_source_files(\"/gscratch/stf/demand_acep/demand_acep/demand_acep/data/properties/Copy of Measured Channels PFRR.xlsx\", \"/gscratch/stf/demand_acep/demand_acep/demand_acep/data/properties/data_years.txt\")"
   ]
  },
  {
   "cell_type": "code",
   "execution_count": 7,
   "metadata": {},
   "outputs": [],
   "source": [
    "#dict"
   ]
  },
  {
   "cell_type": "code",
   "execution_count": 8,
   "metadata": {},
   "outputs": [],
   "source": [
    "#years"
   ]
  },
  {
   "cell_type": "code",
   "execution_count": 9,
   "metadata": {},
   "outputs": [
    {
     "name": "stderr",
     "output_type": "stream",
     "text": [
      "/usr/lusers/cp84/.local/lib/python3.6/site-packages/psycopg2/__init__.py:144: UserWarning: The psycopg2 wheel package will be renamed from release 2.8; in order to keep installing from binary please use \"pip install psycopg2-binary\" instead. For details see: <http://initd.org/psycopg/docs/install.html#binary-install-from-pypi>.\n",
      "  \"\"\")\n"
     ]
    }
   ],
   "source": [
    "db = create_engine('postgresql://cp84@localhost:5432/demand_acep')"
   ]
  },
  {
   "cell_type": "code",
   "execution_count": 10,
   "metadata": {},
   "outputs": [],
   "source": [
    "from create_db_schema import create_schema_from_source_files"
   ]
  },
  {
   "cell_type": "code",
   "execution_count": 11,
   "metadata": {},
   "outputs": [
    {
     "name": "stdout",
     "output_type": "stream",
     "text": [
      "PkFltM1Ant_2017\n",
      "PkFltM1Ant_2018\n",
      "PkFltM1Ant_2019\n",
      "PkFltM2Tel_2017\n",
      "PkFltM2Tel_2018\n",
      "PkFltM2Tel_2019\n",
      "PkFltM3Sci_2017\n",
      "PkFltM3Sci_2018\n",
      "PkFltM3Sci_2019\n",
      "PQube3_2017\n",
      "PQube3_2018\n",
      "PQube3_2019\n"
     ]
    }
   ],
   "source": [
    "table_names = create_schema_from_source_files(db, config )"
   ]
  },
  {
   "cell_type": "code",
   "execution_count": 12,
   "metadata": {},
   "outputs": [
    {
     "data": {
      "text/plain": [
       "dict_keys(['PkFltM1Ant_2017', 'PkFltM1Ant_2018', 'PkFltM1Ant_2019', 'PkFltM2Tel_2017', 'PkFltM2Tel_2018', 'PkFltM2Tel_2019', 'PkFltM3Sci_2017', 'PkFltM3Sci_2018', 'PkFltM3Sci_2019', 'PQube3_2017', 'PQube3_2018', 'PQube3_2019'])"
      ]
     },
     "execution_count": 12,
     "metadata": {},
     "output_type": "execute_result"
    }
   ],
   "source": [
    "table_names"
   ]
  },
  {
   "cell_type": "code",
   "execution_count": null,
   "metadata": {},
   "outputs": [],
   "source": []
  }
 ],
 "metadata": {
  "kernelspec": {
   "display_name": "Python 3",
   "language": "python",
   "name": "python3"
  },
  "language_info": {
   "codemirror_mode": {
    "name": "ipython",
    "version": 3
   },
   "file_extension": ".py",
   "mimetype": "text/x-python",
   "name": "python",
   "nbconvert_exporter": "python",
   "pygments_lexer": "ipython3",
   "version": "3.6.5"
  }
 },
 "nbformat": 4,
 "nbformat_minor": 2
}
