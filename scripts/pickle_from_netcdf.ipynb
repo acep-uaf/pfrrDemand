{
 "cells": [
  {
   "cell_type": "markdown",
   "metadata": {},
   "source": [
    "## This file pickles the data for database insertion"
   ]
  },
  {
   "cell_type": "code",
   "execution_count": 1,
   "metadata": {},
   "outputs": [],
   "source": [
    "import os, sys\n",
    "import pandas as pd\n",
    "from sqlalchemy import *"
   ]
  },
  {
   "cell_type": "code",
   "execution_count": 2,
   "metadata": {},
   "outputs": [],
   "source": [
    "module_path = os.path.abspath(os.path.join('..', 'demand_acep'))\n",
    "if module_path not in sys.path:\n",
    "    sys.path.append(module_path)"
   ]
  },
  {
   "cell_type": "code",
   "execution_count": 3,
   "metadata": {},
   "outputs": [
    {
     "name": "stdout",
     "output_type": "stream",
     "text": [
      "Config imported\n"
     ]
    }
   ],
   "source": [
    "from create_pickle_from_netcdf import netCDF_to_pickle"
   ]
  },
  {
   "cell_type": "code",
   "execution_count": 4,
   "metadata": {},
   "outputs": [],
   "source": [
    "import config"
   ]
  },
  {
   "cell_type": "code",
   "execution_count": 5,
   "metadata": {},
   "outputs": [
    {
     "name": "stdout",
     "output_type": "stream",
     "text": [
      "2017\n",
      "/gscratch/stf/demand_acep/Data\n",
      "11\n",
      "01\n",
      "/gscratch/stf/demand_acep/Data/2017/11/01\n",
      "{'PkFltM1Ant': ['time', 'EaDel', 'EbDel', 'EcDel', 'EDelTot', 'EaNetTot', 'EbNetTot', 'EcNetTot', 'ENetTot', 'EapaTot', 'EapbTot', 'EapcTot', 'EapTot', 'EaRec', 'EbRec', 'EcRec', 'ERecTot', 'EreNegTot', 'ErePosTot', 'F', 'Ia', 'Ib', 'Ic', 'IMean', 'Pa', 'Pb', 'Pc', 'PTot', 'Pfa', 'Pfb', 'Pfc', 'PfTot', 'Qa', 'Qb', 'Qc', 'QTot', 'Sa', 'Sb', 'Sc', 'STot', 'SlidingWindowRealPowerDemand3Ph', 'Vab', 'Van', 'Vbc', 'Vbn', 'Vca', 'Vcn', 'VllMean', 'VlnMean'], 'PkFltM2Tel': ['time', 'EaDel', 'EbDel', 'EcDel', 'EDelTot', 'EaNetTot', 'EbNetTot', 'EcNetTot', 'ENetTot', 'EapaTot', 'EapbTot', 'EapcTot', 'EapTot', 'EaRec', 'EbRec', 'EcRec', 'ERecTot', 'EreNegTot', 'ErePosTot', 'F', 'Ia', 'Ib', 'Ic', 'IMean', 'Pa', 'Pb', 'Pc', 'PTot', 'Pfa', 'Pfb', 'Pfc', 'PfTot', 'Qa', 'Qb', 'Qc', 'QTot', 'Sa', 'Sb', 'Sc', 'STot', 'SlidingWindowRealPowerDemand3Ph', 'Vab', 'Van', 'Vbc', 'Vbn', 'Vca', 'Vcn', 'VllMean', 'VlnMean'], 'PkFltM3Sci': ['time', 'EaDel', 'EbDel', 'EcDel', 'EDelTot', 'EaNetTot', 'EbNetTot', 'EcNetTot', 'ENetTot', 'EapaTot', 'EapbTot', 'EapcTot', 'EapTot', 'EaRec', 'EbRec', 'EcRec', 'ERecTot', 'EreNegTot', 'ErePosTot', 'F', 'Ia', 'Ib', 'Ic', 'IMean', 'Pa', 'Pb', 'Pc', 'PTot', 'Pfa', 'Pfb', 'Pfc', 'PfTot', 'Qa', 'Qb', 'Qc', 'QTot', 'Sa', 'Sb', 'Sc', 'STot', 'SlidingWindowRealPowerDemand3Ph', 'Vab', 'Van', 'Vbc', 'Vbn', 'Vca', 'Vcn', 'VllMean', 'VlnMean'], 'PQube3': ['time', 'EaDel', 'EbDel', 'EcDel', 'EDelTot', 'EaNetTot', 'EbNetTot', 'EcNetTot', 'ENetTot', 'EapaTot', 'EapbTot', 'EapcTot', 'EapTot', 'EaRec', 'EbRec', 'EcRec', 'ERecTot', 'EreNegTot', 'ErePosTot', 'F', 'Ia', 'Ib', 'Ic', 'IMean', 'Pa', 'Pb', 'Pc', 'PTot', 'Pfa', 'Pfb', 'Pfc', 'PfTot', 'Qa', 'Qb', 'Qc', 'QTot', 'Sa', 'Sb', 'Sc', 'STot', 'SlidingWindowRealPowerDemand3Ph', 'Vab', 'Van', 'Vbc', 'Vbn', 'Vca', 'Vcn', 'VllMean', 'VlnMean']}\n",
      "[2017, 2018, 2019]\n"
     ]
    }
   ],
   "source": [
    "netCDF_to_pickle(config, \"11/01/2017\")"
   ]
  },
  {
   "cell_type": "code",
   "execution_count": null,
   "metadata": {},
   "outputs": [],
   "source": []
  }
 ],
 "metadata": {
  "kernelspec": {
   "display_name": "Python 3",
   "language": "python",
   "name": "python3"
  },
  "language_info": {
   "codemirror_mode": {
    "name": "ipython",
    "version": 3
   },
   "file_extension": ".py",
   "mimetype": "text/x-python",
   "name": "python",
   "nbconvert_exporter": "python",
   "pygments_lexer": "ipython3",
   "version": "3.6.5"
  }
 },
 "nbformat": 4,
 "nbformat_minor": 2
}
