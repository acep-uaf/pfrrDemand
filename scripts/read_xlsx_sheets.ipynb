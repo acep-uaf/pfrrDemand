{
 "cells": [
  {
   "cell_type": "code",
   "execution_count": 1,
   "metadata": {},
   "outputs": [],
   "source": [
    "import pandas as pd\n",
    "import os\n",
    "import sys"
   ]
  },
  {
   "cell_type": "code",
   "execution_count": 2,
   "metadata": {},
   "outputs": [],
   "source": [
    "module_path = os.path.abspath(os.path.join('..', 'demand_acep'))\n",
    "if module_path not in sys.path:\n",
    "    sys.path.append(module_path)"
   ]
  },
  {
   "cell_type": "code",
   "execution_count": 3,
   "metadata": {},
   "outputs": [],
   "source": [
    "meter_channel_metadata_WattsOnMetadata = pd.read_excel(\"/gscratch/stf/demand_acep/demand_acep/demand_acep/data/properties/NetCDF Meter File Generation Matrix Copy Poker Flats.xlsx\", sheet_name=\"WattsOnMk2\")"
   ]
  },
  {
   "cell_type": "code",
   "execution_count": 4,
   "metadata": {},
   "outputs": [],
   "source": [
    "meter_channel_metadata_PQube = pd.read_excel(\"/gscratch/stf/demand_acep/demand_acep/demand_acep/data/properties/NetCDF Meter File Generation Matrix Copy Poker Flats.xlsx\", sheet_name=\"PQube3PF\")"
   ]
  },
  {
   "cell_type": "code",
   "execution_count": 5,
   "metadata": {},
   "outputs": [
    {
     "data": {
      "text/plain": [
       "0                 Van\n",
       "1                 Vbn\n",
       "2                 Vcn\n",
       "3                 Vab\n",
       "4                 Vbc\n",
       "5                 Vca\n",
       "6                   F\n",
       "7                  Ia\n",
       "8                  Ib\n",
       "9                  Ic\n",
       "10               PTot\n",
       "11                 Pa\n",
       "12                 Pb\n",
       "13                 Pc\n",
       "14               QTot\n",
       "15                 Qa\n",
       "16                 Qb\n",
       "17                 Qc\n",
       "18               STot\n",
       "19                 Sa\n",
       "20                 Sb\n",
       "21                 Sc\n",
       "22              PfTot\n",
       "23                Pfa\n",
       "24                Pfb\n",
       "25                Pfc\n",
       "26            ENetTot\n",
       "27           EaNetTot\n",
       "28           EbNetTot\n",
       "29           EcNetTot\n",
       "30             EapTot\n",
       "31            EapaTot\n",
       "32            EapbTot\n",
       "33            EapcTot\n",
       "34              SPeak\n",
       "35              PPeak\n",
       "36            ERecTot\n",
       "37              EaRec\n",
       "38              EbRec\n",
       "39              EcRec\n",
       "40            EDelTot\n",
       "41              EaDel\n",
       "42              EbDel\n",
       "43              EcDel\n",
       "44          ErePosTot\n",
       "45          EreNegTot\n",
       "46            PQube 3\n",
       "47                125\n",
       "48                PSL\n",
       "49    BigEndianFloats\n",
       "50                 46\n",
       "Name: Filename, dtype: object"
      ]
     },
     "execution_count": 5,
     "metadata": {},
     "output_type": "execute_result"
    }
   ],
   "source": [
    "meter_channel_metadata_PQube['Filename']"
   ]
  },
  {
   "cell_type": "code",
   "execution_count": 6,
   "metadata": {},
   "outputs": [
    {
     "name": "stdout",
     "output_type": "stream",
     "text": [
      "Config imported\n",
      "   meter_name  meter_type\n",
      "0  PkFltM1Ant  WattsOnMk2\n",
      "1  PkFltM2Tel  WattsOnMk2\n",
      "2  PkFltM3Sci  WattsOnMk2\n",
      "3      PQube3       PQube\n"
     ]
    }
   ],
   "source": [
    "import config"
   ]
  },
  {
   "cell_type": "code",
   "execution_count": 7,
   "metadata": {},
   "outputs": [
    {
     "data": {
      "text/plain": [
       "0    WattsOnMk2\n",
       "1    WattsOnMk2\n",
       "2    WattsOnMk2\n",
       "3         PQube\n",
       "Name: meter_type, dtype: object"
      ]
     },
     "execution_count": 7,
     "metadata": {},
     "output_type": "execute_result"
    }
   ],
   "source": [
    "config.meter_names_df['meter_type']"
   ]
  },
  {
   "cell_type": "code",
   "execution_count": 10,
   "metadata": {},
   "outputs": [
    {
     "data": {
      "text/plain": [
       "0           Van\n",
       "1           Vbn\n",
       "2           Vcn\n",
       "3           Vab\n",
       "4           Vbc\n",
       "5           Vca\n",
       "6             F\n",
       "7            Ia\n",
       "8            Ib\n",
       "9            Ic\n",
       "10         PTot\n",
       "11           Pa\n",
       "12           Pb\n",
       "13           Pc\n",
       "14         QTot\n",
       "15           Qa\n",
       "16           Qb\n",
       "17           Qc\n",
       "18         STot\n",
       "19           Sa\n",
       "20           Sb\n",
       "21           Sc\n",
       "22        PfTot\n",
       "23          Pfa\n",
       "24          Pfb\n",
       "25          Pfc\n",
       "26      ENetTot\n",
       "27     EaNetTot\n",
       "28     EbNetTot\n",
       "29     EcNetTot\n",
       "30       EapTot\n",
       "31      EapaTot\n",
       "32      EapbTot\n",
       "33      EapcTot\n",
       "34        SPeak\n",
       "35        PPeak\n",
       "36      ERecTot\n",
       "37        EaRec\n",
       "38        EbRec\n",
       "39        EcRec\n",
       "40      EDelTot\n",
       "41        EaDel\n",
       "42        EbDel\n",
       "43        EcDel\n",
       "44    ErePosTot\n",
       "45    EreNegTot\n",
       "Name: Filename, dtype: object"
      ]
     },
     "execution_count": 10,
     "metadata": {},
     "output_type": "execute_result"
    }
   ],
   "source": [
    "config.METER_CHANNEL_DICT['PQube3']"
   ]
  },
  {
   "cell_type": "code",
   "execution_count": null,
   "metadata": {},
   "outputs": [],
   "source": []
  }
 ],
 "metadata": {
  "kernelspec": {
   "display_name": "Python 3",
   "language": "python",
   "name": "python3"
  },
  "language_info": {
   "codemirror_mode": {
    "name": "ipython",
    "version": 3
   },
   "file_extension": ".py",
   "mimetype": "text/x-python",
   "name": "python",
   "nbconvert_exporter": "python",
   "pygments_lexer": "ipython3",
   "version": "3.6.5"
  }
 },
 "nbformat": 4,
 "nbformat_minor": 2
}
